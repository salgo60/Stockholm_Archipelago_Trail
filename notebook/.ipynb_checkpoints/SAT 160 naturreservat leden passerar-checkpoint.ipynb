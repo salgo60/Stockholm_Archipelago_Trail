{
 "cells": [
  {
   "cell_type": "markdown",
   "id": "7ca4eff4-2e93-4220-b974-d647b7fff156",
   "metadata": {},
   "source": [
    "# Friluftsliv: Leder och anordningar i skyddade områden \n",
    "* [Issue 160](https://github.com/salgo60/Stockholm_Archipelago_Trail/issues/160)"
   ]
  },
  {
   "cell_type": "code",
   "execution_count": 2,
   "id": "a1dd6259-fb92-46e0-a87b-ced3e17d0305",
   "metadata": {},
   "outputs": [
    {
     "name": "stdout",
     "output_type": "stream",
     "text": [
      "✅ Karta sparad som sat_reservat.html\n"
     ]
    }
   ],
   "source": [
    "import requests\n",
    "import folium\n",
    "from SPARQLWrapper import SPARQLWrapper, JSON\n",
    "\n",
    "# --- SPARQL query: Naturreservat + SAT-delsträckor ---\n",
    "sparql = SPARQLWrapper(\"https://query.wikidata.org/sparql\")\n",
    "sparql.setQuery(\"\"\"\n",
    "SELECT DISTINCT ?item ?itemLabel ?typ ?osmid ?coord WHERE {\n",
    "  {\n",
    "    wd:Q131318799 wdt:P3018 ?item .\n",
    "    BIND(\"Naturreservat\"@sv AS ?typ)\n",
    "    OPTIONAL { ?item wdt:P402 ?osmid. }\n",
    "    OPTIONAL { ?item wdt:P625 ?coord. }\n",
    "  }\n",
    "  UNION\n",
    "  {\n",
    "    ?item wdt:P361 wd:Q131318799 .\n",
    "    BIND(\"Led\"@sv AS ?typ)\n",
    "    OPTIONAL { ?item wdt:P402 ?osmid. }\n",
    "    OPTIONAL { ?item wdt:P625 ?coord. }\n",
    "  }\n",
    "  SERVICE wikibase:label { bd:serviceParam wikibase:language \"sv,en\". }\n",
    "}\n",
    "\"\"\")\n",
    "sparql.setReturnFormat(JSON)\n",
    "results = sparql.query().convert()\n",
    "\n",
    "features = []\n",
    "for r in results[\"results\"][\"bindings\"]:\n",
    "    item = r[\"itemLabel\"][\"value\"]\n",
    "    typ = r[\"typ\"][\"value\"]\n",
    "    osmid = r.get(\"osmid\", {}).get(\"value\")\n",
    "    coord = r.get(\"coord\", {}).get(\"value\")\n",
    "\n",
    "    features.append({\n",
    "        \"label\": item,\n",
    "        \"typ\": typ,\n",
    "        \"osmid\": osmid,\n",
    "        \"coord\": coord\n",
    "    })\n",
    "\n",
    "# --- Helper: hämta geometri från OSM med Overpass ---\n",
    "def fetch_osm_geojson(osmid):\n",
    "    query = f\"\"\"\n",
    "    [out:json];\n",
    "    relation({osmid});\n",
    "    out geom;\n",
    "    \"\"\"\n",
    "    url = \"https://overpass-api.de/api/interpreter\"\n",
    "    r = requests.get(url, params={'data': query})\n",
    "    r.raise_for_status()\n",
    "    return r.json()\n",
    "\n",
    "# --- Skapa karta ---\n",
    "m = folium.Map(location=[59.5, 18.8], zoom_start=9)\n",
    "\n",
    "for f in features:\n",
    "    if f[\"osmid\"]:\n",
    "        osm_geo = fetch_osm_geojson(f[\"osmid\"])\n",
    "        # Ritar geometri\n",
    "        for el in osm_geo[\"elements\"]:\n",
    "            if \"geometry\" in el:\n",
    "                coords = [(p[\"lat\"], p[\"lon\"]) for p in el[\"geometry\"]]\n",
    "                if el[\"type\"] == \"relation\" or el[\"type\"] == \"way\":\n",
    "                    folium.PolyLine(\n",
    "                        coords, color=\"blue\" if f[\"typ\"] == \"Led\" else \"green\",\n",
    "                        weight=3, tooltip=f[\"label\"]\n",
    "                    ).add_to(m)\n",
    "    elif f[\"coord\"]:\n",
    "        # fallback: bara punktmarkör\n",
    "        lat, lon = f[\"coord\"].replace(\"Point(\", \"\").replace(\")\", \"\").split()\n",
    "        folium.Marker(\n",
    "            [float(lon), float(lat)],\n",
    "            popup=f[\"label\"]\n",
    "        ).add_to(m)\n",
    "\n",
    "# --- Spara karta ---\n",
    "m.save(\"sat_reservat.html\")\n",
    "print(\"✅ Karta sparad som sat_reservat.html\")\n"
   ]
  },
  {
   "cell_type": "code",
   "execution_count": null,
   "id": "57a024e7-65c6-404a-9722-18b8b64a1df7",
   "metadata": {},
   "outputs": [],
   "source": []
  }
 ],
 "metadata": {
  "kernelspec": {
   "display_name": "Python 3 (ipykernel)",
   "language": "python",
   "name": "python3"
  },
  "language_info": {
   "codemirror_mode": {
    "name": "ipython",
    "version": 3
   },
   "file_extension": ".py",
   "mimetype": "text/x-python",
   "name": "python",
   "nbconvert_exporter": "python",
   "pygments_lexer": "ipython3",
   "version": "3.12.2"
  }
 },
 "nbformat": 4,
 "nbformat_minor": 5
}
