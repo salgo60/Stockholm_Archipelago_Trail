{
 "cells": [
  {
   "cell_type": "markdown",
   "id": "bcb30d8c-0550-491a-912d-9939f0c85c26",
   "metadata": {},
   "source": [
    "## Skapa en geojson av SAT leden\n",
    "* issue [#181](https://github.com/salgo60/Stockholm_Archipelago_Trail/issues/181)\n",
    "* denna [Notebook](https://github.com/salgo60/Stockholm_Archipelago_Trail/tree/main/notebook/181_geojson_SAT_trail)"
   ]
  },
  {
   "cell_type": "code",
   "execution_count": 1,
   "id": "729c21b9-4408-4f23-b52d-14de370ac01b",
   "metadata": {},
   "outputs": [
    {
     "name": "stdout",
     "output_type": "stream",
     "text": [
      "Started: 2025-09-22 07:25\n"
     ]
    }
   ],
   "source": [
    "import time\n",
    "import datetime  \n",
    "start_time = time.time()\n",
    "start_str = datetime.datetime.now().strftime(\"%Y-%m-%d %H:%M\")\n",
    "print(f\"Started: {start_str}\")\n"
   ]
  },
  {
   "cell_type": "code",
   "execution_count": 2,
   "id": "bd613e6c-737c-44be-b08d-01c271ac560b",
   "metadata": {},
   "outputs": [
    {
     "name": "stdout",
     "output_type": "stream",
     "text": [
      "HTTP Date: Mon, 22 Sep 2025 05:25:10 GMT\n",
      "ETag: None\n",
      "Last-Modified: None\n",
      "Relation 19012437 version: 31 | timestamp: 2025-09-22T05:04:08Z\n",
      "== Relation 19012437 ==\n",
      "relation: 20 st | roller: {'': 20}\n",
      "Delrelationer (referenser): 20\n",
      "Delrelationer (hämtade element): 20\n",
      "Saknas som element (refererad men ej närvarande i /full): []\n",
      "Överflödiga element (närvarande men ej refererad): []\n",
      "Delrelationer (ref): 20 | Delrelationer (hämtade): 20 | Ways: 754 | Linjesegment: 754 | Centroid: 59.274339,18.608028\n",
      "Sparade: SAT_full.geojson\n"
     ]
    }
   ],
   "source": [
    "import requests, json\n",
    "from lxml import etree\n",
    "from shapely.geometry import LineString\n",
    "from shapely.ops import unary_union\n",
    "from collections import Counter, defaultdict\n",
    "from requests.adapters import HTTPAdapter, Retry\n",
    "from shapely.geometry import mapping\n",
    "from pathlib import Path\n",
    "\n",
    "OSM_REL = 19012437  # SAT superrelation\n",
    "EXCLUDE_ROLES = {\"alternate\", \"detour\", \"connection\"}  # justera vid behov\n",
    "\n",
    "# ---------- Nätverk: session med retry + no-cache ----------\n",
    "def make_session():\n",
    "    s = requests.Session()\n",
    "    retries = Retry(total=5, backoff_factor=1.2, status_forcelist=[429, 500, 502, 503, 504])\n",
    "    s.mount(\"https://\", HTTPAdapter(max_retries=retries))\n",
    "    return s\n",
    "\n",
    "SESSION = make_session()\n",
    "\n",
    "def fetch_relation_full_with_headers(rel_id: int, timeout=60, session=SESSION):\n",
    "    url = f\"https://api.openstreetmap.org/api/0.6/relation/{rel_id}/full\"\n",
    "    r = session.get(\n",
    "        url,\n",
    "        timeout=timeout,\n",
    "        headers={\n",
    "            \"Cache-Control\": \"no-cache\",\n",
    "            \"Pragma\": \"no-cache\",\n",
    "            \"User-Agent\": \"sat-debug/0.1 (+contact)\"\n",
    "        },\n",
    "    )\n",
    "    r.raise_for_status()\n",
    "    root = etree.fromstring(r.content)\n",
    "    return root, r.headers\n",
    "\n",
    "# ---------- Medlems-hjälpare ----------\n",
    "def relation_members(xml_root, rel_id: int):\n",
    "    \"\"\"Returnerar medlemmar för relationen rel_id som dict:\n",
    "       {\"way\": [(id, role), ...], \"relation\": [(id, role), ...], \"node\": [(id, role), ...]}\"\"\"\n",
    "    members = defaultdict(list)\n",
    "    for rel in xml_root.findall(\"relation\"):\n",
    "        if rel.attrib[\"id\"] == str(rel_id):\n",
    "            for m in rel.findall(\"member\"):\n",
    "                mtype = m.attrib.get(\"type\")\n",
    "                mid = int(m.attrib.get(\"ref\"))\n",
    "                role = m.attrib.get(\"role\", \"\")\n",
    "                members[mtype].append((mid, role))\n",
    "            break\n",
    "    return members\n",
    "\n",
    "def summarize_members(members, title=\"\"):\n",
    "    if title:\n",
    "        print(f\"== {title} ==\")\n",
    "    for t in (\"relation\", \"way\", \"node\"):\n",
    "        lst = members.get(t, [])\n",
    "        if not lst:\n",
    "            continue\n",
    "        roles = [r for _, r in lst]\n",
    "        print(f\"{t}: {len(lst)} st | roller: {dict(Counter(roles))}\")\n",
    "\n",
    "def member_relation_ids(xml_root, rel_id: int):\n",
    "    ids = set()\n",
    "    for rel in xml_root.findall(\"relation\"):\n",
    "        if rel.attrib[\"id\"] == str(rel_id):\n",
    "            for m in rel.findall(\"member\"):\n",
    "                if m.attrib.get(\"type\") == \"relation\":\n",
    "                    ids.add(int(m.attrib[\"ref\"]))\n",
    "            break\n",
    "    return ids\n",
    "\n",
    "def member_way_ids(xml_root, rel_id: int, exclude_roles=EXCLUDE_ROLES):\n",
    "    ids = set()\n",
    "    for rel in xml_root.findall(\"relation\"):\n",
    "        if rel.attrib[\"id\"] == str(rel_id):\n",
    "            for m in rel.findall(\"member\"):\n",
    "                if m.attrib.get(\"type\") == \"way\":\n",
    "                    role = m.attrib.get(\"role\", \"\")\n",
    "                    if role not in exclude_roles:\n",
    "                        ids.add(m.attrib[\"ref\"])\n",
    "            break\n",
    "    return ids\n",
    "\n",
    "# ---------- Ways -> koordinater, men endast för medlemmar ----------\n",
    "def ways_by_id_from_xml(xml_root, allowed_way_ids: set[str]):\n",
    "    # Bygg upp noder\n",
    "    nodes = {n.attrib[\"id\"]: (float(n.attrib[\"lon\"]), float(n.attrib[\"lat\"]))\n",
    "             for n in xml_root.findall(\"node\")}\n",
    "    # Plocka ut enbart de ways vi vill ha\n",
    "    ways = {}\n",
    "    for w in xml_root.findall(\"way\"):\n",
    "        wid = w.attrib[\"id\"]\n",
    "        if wid not in allowed_way_ids:\n",
    "            continue\n",
    "        coords = []\n",
    "        for nd in w.findall(\"nd\"):\n",
    "            ref = nd.attrib[\"ref\"]\n",
    "            if ref in nodes:\n",
    "                coords.append(nodes[ref])\n",
    "        if len(coords) > 1:\n",
    "            ways[wid] = coords\n",
    "    return ways\n",
    "\n",
    "# ---------- Körning ----------\n",
    "# 1) Färsk hämtning av superrelationen\n",
    "root_super, hdr = fetch_relation_full_with_headers(OSM_REL)\n",
    "print(\"HTTP Date:\", hdr.get(\"Date\"))\n",
    "print(\"ETag:\", hdr.get(\"ETag\"))\n",
    "print(\"Last-Modified:\", hdr.get(\"Last-Modified\"))\n",
    "\n",
    "# Metadata från själva relationen\n",
    "rel_version = rel_ts = None\n",
    "for rel in root_super.findall(\"relation\"):\n",
    "    if rel.attrib[\"id\"] == str(OSM_REL):\n",
    "        rel_version = rel.attrib.get(\"version\")\n",
    "        rel_ts = rel.attrib.get(\"timestamp\")\n",
    "        break\n",
    "print(f\"Relation {OSM_REL} version: {rel_version} | timestamp: {rel_ts}\")\n",
    "\n",
    "# 2) Medlemsöversikt (superrelationen)\n",
    "members_super = relation_members(root_super, OSM_REL)\n",
    "summarize_members(members_super, title=f\"Relation {OSM_REL}\")\n",
    "\n",
    "# 3) Jämför refererade delrelationer vs faktiskt närvarande relation-element\n",
    "ref_child_ids = member_relation_ids(root_super, OSM_REL)\n",
    "\n",
    "present_child_ids = {int(r.attrib[\"id\"])\n",
    "                     for r in root_super.findall(\"relation\")\n",
    "                     if r.attrib[\"id\"] != str(OSM_REL)}\n",
    "\n",
    "missing_ids = sorted(ref_child_ids - present_child_ids)\n",
    "extra_ids = sorted(present_child_ids - ref_child_ids)\n",
    "\n",
    "print(f\"Delrelationer (referenser): {len(ref_child_ids)}\")\n",
    "print(f\"Delrelationer (hämtade element): {len(present_child_ids)}\")\n",
    "print(\"Saknas som element (refererad men ej närvarande i /full):\", missing_ids)\n",
    "print(\"Överflödiga element (närvarande men ej refererad):\", extra_ids)\n",
    "\n",
    "# 4) Bygg ways från superrelationens egna ways\n",
    "super_way_ids = member_way_ids(root_super, OSM_REL)\n",
    "all_ways = ways_by_id_from_xml(root_super, super_way_ids)\n",
    "\n",
    "# 5) Hämta ways från varje delrelation (referenserna används; fetchas separat)\n",
    "failed_children = []\n",
    "for rid in sorted(ref_child_ids):\n",
    "    try:\n",
    "        rxml, _ = fetch_relation_full_with_headers(rid)\n",
    "        sub_way_ids = member_way_ids(rxml, rid)\n",
    "        sub_ways = ways_by_id_from_xml(rxml, sub_way_ids)\n",
    "        all_ways.update(sub_ways)  # dedup på way-id\n",
    "    except requests.HTTPError as e:\n",
    "        failed_children.append((rid, str(e)))\n",
    "\n",
    "if failed_children:\n",
    "    print(\"Varning: kunde inte hämta följande delrelationer:\")\n",
    "    for rid, err in failed_children:\n",
    "        print(f\"  - {rid}: {err}\")\n",
    "\n",
    "# 6) Shapely geometrier\n",
    "lines = [LineString(coords) for coords in all_ways.values() if len(coords) > 1]\n",
    "if not lines:\n",
    "    raise RuntimeError(\"Hittade inga linjer – avbryter.\")\n",
    "trail = unary_union(lines)\n",
    "center_lat, center_lon = trail.centroid.y, trail.centroid.x\n",
    "\n",
    "print(\n",
    "    f\"Delrelationer (ref): {len(ref_child_ids)} | \"\n",
    "    f\"Delrelationer (hämtade): {len(present_child_ids)} | \"\n",
    "    f\"Ways: {len(all_ways)} | Linjesegment: {len(lines)} | \"\n",
    "    f\"Centroid: {center_lat:.6f},{center_lon:.6f}\"\n",
    ")\n",
    "\n",
    "# 7) Spara som GeoJSON (flattenade LineStrings)\n",
    "features = []\n",
    "if trail.geom_type == \"LineString\":\n",
    "    features = [{\"type\": \"Feature\", \"geometry\": mapping(trail), \"properties\": {}}]\n",
    "elif trail.geom_type == \"MultiLineString\":\n",
    "    for seg in trail.geoms:\n",
    "        features.append({\"type\": \"Feature\", \"geometry\": mapping(seg), \"properties\": {}})\n",
    "else:\n",
    "    for seg in getattr(trail, \"geoms\", []):\n",
    "        if seg.geom_type == \"LineString\":\n",
    "            features.append({\"type\": \"Feature\", \"geometry\": mapping(seg), \"properties\": {}})\n",
    "        elif seg.geom_type == \"MultiLineString\":\n",
    "            for s in seg.geoms:\n",
    "                features.append({\"type\": \"Feature\", \"geometry\": mapping(s), \"properties\": {}})\n",
    "\n",
    "gj = {\"type\": \"FeatureCollection\", \"features\": features}\n",
    "Path(\"SAT_full.geojson\").write_text(json.dumps(gj), encoding=\"utf-8\")\n",
    "print(\"Sparade: SAT_full.geojson\")\n"
   ]
  },
  {
   "cell_type": "code",
   "execution_count": 3,
   "id": "cd69de06-9ebe-476c-b275-24d9aad274ef",
   "metadata": {},
   "outputs": [
    {
     "name": "stdout",
     "output_type": "stream",
     "text": [
      "HTTP Date: Mon, 22 Sep 2025 05:25:12 GMT\n",
      "ETag: None\n",
      "Last-Modified: None\n"
     ]
    }
   ],
   "source": [
    "# fresh fetch every time (don’t reuse root_super)\n",
    "root_super, hdr = fetch_relation_full_with_headers(OSM_REL)\n",
    "print(\"HTTP Date:\", hdr.get(\"Date\"))\n",
    "print(\"ETag:\", hdr.get(\"ETag\"))\n",
    "print(\"Last-Modified:\", hdr.get(\"Last-Modified\"))\n",
    "\n"
   ]
  },
  {
   "cell_type": "code",
   "execution_count": 4,
   "id": "8960bf01-1711-4606-b926-dc22ad2af1bf",
   "metadata": {},
   "outputs": [
    {
     "name": "stdout",
     "output_type": "stream",
     "text": [
      "Antal referenser: 20\n",
      "Antal relation-element: 20\n",
      "Saknas som element (finns som referens): []\n",
      "Överflödiga element (inte listade som medlem): []\n"
     ]
    }
   ],
   "source": [
    "# IDs som superrelationen REFERERAR till (relation-medlemmar)\n",
    "refs = []\n",
    "for rel in root_super.findall(\"relation\"):\n",
    "    if rel.attrib[\"id\"] == str(OSM_REL):\n",
    "        for m in rel.findall(\"member\"):\n",
    "            if m.attrib.get(\"type\") == \"relation\":\n",
    "                refs.append(int(m.attrib[\"ref\"]))\n",
    "        break\n",
    "refs_set = set(refs)\n",
    "\n",
    "# IDs som faktiskt finns som <relation>-ELEMENT i /full-svaret (exkl. superrelationen själv)\n",
    "present_set = {int(r.attrib[\"id\"]) for r in root_super.findall(\"relation\") if r.attrib[\"id\"] != str(OSM_REL)}\n",
    "\n",
    "print(\"Antal referenser:\", len(refs_set))\n",
    "print(\"Antal relation-element:\", len(present_set))\n",
    "print(\"Saknas som element (finns som referens):\", sorted(refs_set - present_set))\n",
    "print(\"Överflödiga element (inte listade som medlem):\", sorted(present_set - refs_set))\n"
   ]
  },
  {
   "cell_type": "code",
   "execution_count": 5,
   "id": "b956425d-5290-413e-a141-d4bb91df2f44",
   "metadata": {},
   "outputs": [
    {
     "name": "stdout",
     "output_type": "stream",
     "text": [
      "Relation version: 31 timestamp: 2025-09-22T05:04:08Z\n"
     ]
    }
   ],
   "source": [
    "for rel in root_super.findall(\"relation\"):\n",
    "    if rel.attrib[\"id\"] == str(OSM_REL):\n",
    "        print(\"Relation version:\", rel.attrib.get(\"version\"), \"timestamp:\", rel.attrib.get(\"timestamp\"))\n",
    "        break\n"
   ]
  },
  {
   "cell_type": "code",
   "execution_count": 6,
   "id": "d099768e-5055-4aed-93d1-f7bcb777087a",
   "metadata": {},
   "outputs": [
    {
     "name": "stdout",
     "output_type": "stream",
     "text": [
      "Finished in 2.14 seconds.\n"
     ]
    }
   ],
   "source": [
    "    end_time = time.time()\n",
    "    duration = end_time - start_time\n",
    "    print(f\"Finished in {duration:.2f} seconds.\")\n"
   ]
  },
  {
   "cell_type": "code",
   "execution_count": null,
   "id": "764940b1-60bc-486d-ba91-8b4b39e5821c",
   "metadata": {},
   "outputs": [],
   "source": []
  }
 ],
 "metadata": {
  "kernelspec": {
   "display_name": "Python 3 (ipykernel)",
   "language": "python",
   "name": "python3"
  },
  "language_info": {
   "codemirror_mode": {
    "name": "ipython",
    "version": 3
   },
   "file_extension": ".py",
   "mimetype": "text/x-python",
   "name": "python",
   "nbconvert_exporter": "python",
   "pygments_lexer": "ipython3",
   "version": "3.12.2"
  }
 },
 "nbformat": 4,
 "nbformat_minor": 5
}
