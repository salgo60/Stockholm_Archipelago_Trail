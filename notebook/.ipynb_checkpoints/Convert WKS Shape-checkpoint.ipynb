{
 "cells": [
  {
   "cell_type": "markdown",
   "id": "d3244c19-667a-4675-9833-b770a69e0503",
   "metadata": {},
   "source": [
    "See https://github.com/salgo60/Stockholm_Archipelago_Trail/issues/102\n"
   ]
  },
  {
   "cell_type": "code",
   "execution_count": 3,
   "id": "44afecc9-fe69-434d-bfa0-b4edbf9942d3",
   "metadata": {},
   "outputs": [],
   "source": [
    "from shapely import wkt\n",
    "from pyproj import Transformer\n",
    "import json\n",
    "\n",
    "# Step 1: Your WKT string\n",
    "wkt_str = \"POLYGON (( 665071.219 6513809.827, 666326.08 6513844.926, 666290.702 6514728.349, 666290.035 6514745.337, 666181.509 6517600.319, 665809.742 6518289.016, 665493.111 6518566.81, 665277.144 6518523.729, 664861.166 6518289.011, 665033.344 6514730.213, 665034.423 6514707.231, 665071.219 6513809.827))\"\n",
    "\n",
    "# Step 2: Parse WKT\n",
    "geom = wkt.loads(wkt_str)\n",
    "\n",
    "# Step 3: Reproject from EPSG:3006 to EPSG:4326\n",
    "transformer = Transformer.from_crs(\"EPSG:3006\", \"EPSG:4326\", always_xy=True)\n",
    "reprojected = [(transformer.transform(x, y)) for x, y in geom.exterior.coords]\n",
    "\n",
    "# Step 4: Create GeoJSON\n",
    "geojson = {\n",
    "    \"type\": \"FeatureCollection\",\n",
    "    \"features\": [{\n",
    "        \"type\": \"Feature\",\n",
    "        \"geometry\": {\n",
    "            \"type\": \"Polygon\",\n",
    "            \"coordinates\": [reprojected]\n",
    "        },\n",
    "        \"properties\": {\n",
    "            \"name\": \"Gisslingö Naturreservat\",\n",
    "            \"id\": \"2001386\"\n",
    "        }\n",
    "    }]\n",
    "}\n",
    "\n",
    "# Save to .geojson file\n",
    "with open(\"gisslingo.geojson\", \"w\") as f:\n",
    "    json.dump(geojson, f, indent=2)\n"
   ]
  },
  {
   "cell_type": "code",
   "execution_count": null,
   "id": "e73cc53f-0c39-4dfa-8d8c-0185d6baccad",
   "metadata": {},
   "outputs": [],
   "source": []
  }
 ],
 "metadata": {
  "kernelspec": {
   "display_name": "Python 3 (ipykernel)",
   "language": "python",
   "name": "python3"
  },
  "language_info": {
   "codemirror_mode": {
    "name": "ipython",
    "version": 3
   },
   "file_extension": ".py",
   "mimetype": "text/x-python",
   "name": "python",
   "nbconvert_exporter": "python",
   "pygments_lexer": "ipython3",
   "version": "3.12.2"
  }
 },
 "nbformat": 4,
 "nbformat_minor": 5
}
