{
 "cells": [
  {
   "cell_type": "markdown",
   "id": "007bb839-904a-439e-b4c2-635c3e54e2c4",
   "metadata": {},
   "source": [
    "\n",
    "* this [Notebook](https://github.com/salgo60/Stockholm_Archipelago_Trail/blob/main/notebook/159_prototype.ipynb)\n",
    "  * Latest maps [Image Quality Control](https://raw.githack.com/salgo60/Stockholm_Archipelago_Trail/main/notebook/output/SAT_ALL_IN_ONE_142_3_image_qc_latest.html) / [Global Audit](https://raw.githack.com/salgo60/Stockholm_Archipelago_Trail/main/notebook/output/SAT_ALL_IN_ONE_142_3_ALL_latest.html) / [Task Map](https://raw.githack.com/salgo60/Stockholm_Archipelago_Trail/main/notebook/output/SAT_ALL_IN_ONE_142_3_split_todo_latest.html)\n",
    " \n",
    "\n",
    "---- \n",
    "* Issue [159 gör en prototyp (GeoJSON/JSON-LD + API-exempel) som visar hur data om SAT-faciliteter kan delas öppet](https://github.com/salgo60/Stockholm_Archipelago_Trail/issues/159)\n",
    " "
   ]
  },
  {
   "cell_type": "code",
   "execution_count": 1,
   "id": "fe4a3a21-03bb-43c3-b899-5c512a458f2b",
   "metadata": {},
   "outputs": [
    {
     "name": "stdout",
     "output_type": "stream",
     "text": [
      "Start: 2025-09-10 09:31:24\n"
     ]
    }
   ],
   "source": [
    "import time\n",
    "\n",
    "from datetime import datetime\n",
    "\n",
    "now = datetime.now()\n",
    "timestamp = now.timestamp()\n",
    "\n",
    "start_time = time.time()\n",
    "print(\"Start:\", datetime.now().strftime(\"%Y-%m-%d %H:%M:%S\"))"
   ]
  },
  {
   "cell_type": "code",
   "execution_count": 2,
   "id": "9e1b50f0-9666-445b-a87e-631325744464",
   "metadata": {},
   "outputs": [
    {
     "name": "stdout",
     "output_type": "stream",
     "text": [
      "✅ Export klar: 159_sat_points.geojson, 159_sat_facilities.geojson, 159_sat_map.html\n"
     ]
    }
   ],
   "source": [
    "# sat_map.ipynb\n",
    "import requests\n",
    "import folium\n",
    "import geopandas as gpd\n",
    "from shapely.geometry import Point\n",
    "from SPARQLWrapper import SPARQLWrapper, JSON\n",
    "\n",
    "# --- 1. Hämta SAT-punkter från Wikidata ---\n",
    "sparql = SPARQLWrapper(\"https://query.wikidata.org/sparql\")\n",
    "sparql.setQuery(\"\"\"\n",
    "SELECT ?item ?itemLabel ?coord ?image WHERE {\n",
    "  ?item wdt:P6104 wd:Q134294510;  # SAT\n",
    "        wdt:P625 ?coord.\n",
    "  OPTIONAL { ?item wdt:P18 ?image. }\n",
    "  SERVICE wikibase:label { bd:serviceParam wikibase:language \"sv,en\". }\n",
    "}\n",
    "\"\"\")\n",
    "sparql.setReturnFormat(JSON)\n",
    "results = sparql.query().convert()\n",
    "\n",
    "wd_points = []\n",
    "for r in results[\"results\"][\"bindings\"]:\n",
    "    coord = r[\"coord\"][\"value\"].replace(\"Point(\", \"\").replace(\")\", \"\").split(\" \")\n",
    "    lon, lat = map(float, coord)\n",
    "    wd_points.append({\n",
    "        \"name\": r[\"itemLabel\"][\"value\"],\n",
    "        \"lat\": lat,\n",
    "        \"lon\": lon,\n",
    "        \"image\": r.get(\"image\", {}).get(\"value\")\n",
    "    })\n",
    "\n",
    "gdf_wd = gpd.GeoDataFrame(\n",
    "    wd_points, geometry=[Point(p[\"lon\"], p[\"lat\"]) for p in wd_points], crs=\"EPSG:4326\"\n",
    ")\n",
    "\n",
    "# --- 2. Hämta OSM-data längs leden (toalett + dricksvatten) ---\n",
    "# Exempel: Overpass API query\n",
    "overpass_url = \"https://overpass-api.de/api/interpreter\"\n",
    "query = \"\"\"\n",
    "[out:json][timeout:50];\n",
    "(\n",
    "  node[\"amenity\"=\"toilets\"](59.0,18.0,60.5,19.5);\n",
    "  node[\"amenity\"=\"drinking_water\"](59.0,18.0,60.5,19.5);\n",
    ");\n",
    "out center;\n",
    "\"\"\"\n",
    "osm_data = requests.get(overpass_url, params={'data': query}).json()\n",
    "\n",
    "osm_points = []\n",
    "for e in osm_data[\"elements\"]:\n",
    "    osm_points.append({\n",
    "        \"name\": e[\"tags\"].get(\"amenity\"),\n",
    "        \"lat\": e[\"lat\"],\n",
    "        \"lon\": e[\"lon\"],\n",
    "    })\n",
    "\n",
    "gdf_osm = gpd.GeoDataFrame(\n",
    "    osm_points, geometry=[Point(p[\"lon\"], p[\"lat\"]) for p in osm_points], crs=\"EPSG:4326\"\n",
    ")\n",
    "\n",
    "# --- 3. Exportera GeoJSON ---\n",
    "gdf_wd.to_file(\"output/159_sat_points.geojson\", driver=\"GeoJSON\")\n",
    "gdf_osm.to_file(\"output/159_sat_facilities.geojson\", driver=\"GeoJSON\")\n",
    "\n",
    "# --- 4. Skapa interaktiv karta ---\n",
    "m = folium.Map(location=[59.5, 18.8], zoom_start=8)\n",
    "\n",
    "for _, row in gdf_wd.iterrows():\n",
    "    folium.Marker(\n",
    "        [row[\"lat\"], row[\"lon\"]],\n",
    "        popup=row[\"name\"],\n",
    "        icon=folium.Icon(color=\"green\", icon=\"info-sign\")\n",
    "    ).add_to(m)\n",
    "\n",
    "for _, row in gdf_osm.iterrows():\n",
    "    folium.Marker(\n",
    "        [row[\"lat\"], row[\"lon\"]],\n",
    "        popup=row[\"name\"],\n",
    "        icon=folium.Icon(color=\"blue\", icon=\"tint\")\n",
    "    ).add_to(m)\n",
    "\n",
    "m.save(\"output/159_sat_map.html\")\n",
    "print(\"✅ Export klar: 159_sat_points.geojson, 159_sat_facilities.geojson, 159_sat_map.html\")\n"
   ]
  },
  {
   "cell_type": "code",
   "execution_count": 3,
   "id": "405c9723-a168-4d5c-9508-a6a787884f02",
   "metadata": {},
   "outputs": [
    {
     "name": "stdout",
     "output_type": "stream",
     "text": [
      "Date: 2025-09-10 09:31:27\n",
      "Total time elapsed: 2.83 seconds\n"
     ]
    }
   ],
   "source": [
    " # End timer and calculate duration\n",
    "end_time = time.time()\n",
    "elapsed_time = end_time - start_time# Bygg audit-lager för den här etappen\n",
    "\n",
    "# Print current date and total time\n",
    "print(\"Date:\", datetime.now().strftime(\"%Y-%m-%d %H:%M:%S\"))\n",
    "print(\"Total time elapsed: {:.2f} seconds\".format(elapsed_time))\n"
   ]
  }
 ],
 "metadata": {
  "kernelspec": {
   "display_name": "Python 3 (ipykernel)",
   "language": "python",
   "name": "python3"
  },
  "language_info": {
   "codemirror_mode": {
    "name": "ipython",
    "version": 3
   },
   "file_extension": ".py",
   "mimetype": "text/x-python",
   "name": "python",
   "nbconvert_exporter": "python",
   "pygments_lexer": "ipython3",
   "version": "3.12.2"
  }
 },
 "nbformat": 4,
 "nbformat_minor": 5
}
