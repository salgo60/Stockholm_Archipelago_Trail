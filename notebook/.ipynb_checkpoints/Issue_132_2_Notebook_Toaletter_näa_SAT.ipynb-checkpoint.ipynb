{
 "cells": [
  {
   "cell_type": "markdown",
   "id": "aac7bc94-d752-4d94-a9b6-855fe025bda5",
   "metadata": {},
   "source": [
    "# Issue 132_2 Notebook Toaletter nära SAT\n",
    "* denna [Notebook](https://github.com/salgo60/Stockholm_Archipelago_Trail/blob/main/notebook/Issue_132_2_Notebook_Toaletter_n%C3%A4ra_SAT.ipynb), version 1 [Notebook](https://github.com/salgo60/Stockholm_Archipelago_Trail/blob/main/notebook/Issue_132_Notebook_Toaletter_n%C3%A4ra_SAT.ipynb)\n",
    "* [Issue 132](https://github.com/salgo60/Stockholm_Archipelago_Trail/issues/132)\n",
    "\n",
    "Se liknande lösning för Roslagsleden\n",
    "* nu har vi SAT = wikidata [Q131318799](https://www.wikidata.org/wiki/Q131318799)\n",
    "* \"leden\" sitter inte ihop utan varje ö har sitt segment\n",
    "\n",
    "Output \n",
    "* [kartor/Issue_132_2_toaletter_nara_stockholm_archipelago_trail_2025_07_30_07_16.html](https://raw.githack.com/salgo60/Stockholm_Archipelago_Trail/main/kartor/Issue_132_2_toaletter_nara_stockholm_archipelago_trail_2025_07_30_07_16.html)\n",
    "* [kartor/Issue_132_2_toaletter_nara_stockholm_archipelago_trail_2025_07_30_07_16.html](https://raw.githack.com/salgo60/Stockholm_Archipelago_Trail/main/kartor/Issue_132_2_toaletter_nara_stockholm_archipelago_trail_2025_07_30_07_16.html)\n",
    "* [kartor/Issue_132_2_toaletter_nara_stockholm_archipelago_trail_2025_07_30_07_16.html](https://raw.githack.com/salgo60/Stockholm_Archipelago_Trail/main/kartor/Issue_132_2_toaletter_nara_stockholm_archipelago_trail_2025_07_30_07_16.html)"
   ]
  },
  {
   "cell_type": "code",
   "execution_count": 1,
   "id": "6eee785d-4d16-4110-9745-c72f89202568",
   "metadata": {},
   "outputs": [
    {
     "name": "stdout",
     "output_type": "stream",
     "text": [
      "1753851855.180792\n",
      "Start: 2025-07-30 07:04:15\n"
     ]
    }
   ],
   "source": [
    "import time\n",
    "from datetime import datetime\n",
    "\n",
    "now = datetime.now()\n",
    "timestamp = now.timestamp()\n",
    "print(timestamp)  # Outputs seconds since Unix epoch\n",
    "\n",
    "\n",
    "start_time = time.time()\n",
    "print(\"Start:\", datetime.now().strftime(\"%Y-%m-%d %H:%M:%S\"))\n"
   ]
  },
  {
   "cell_type": "code",
   "execution_count": 1,
   "id": "32a75c4d-46c9-4926-a50b-c8aa3d5d0ced",
   "metadata": {},
   "outputs": [
    {
     "name": "stdout",
     "output_type": "stream",
     "text": [
      "🔍 Hämtar SAT-etapper från Wikidata...\n",
      "📡 Hämtar geometrier för 20 OSM-relationer...\n",
      "🧮 Skapar 200 meters buffert...\n",
      "🚽 Hämtar toaletter från Overpass API...\n",
      "✅ Hittade 570 toaletter inom bbox\n",
      "✅ 63 toaletter ligger inom 200m från leden\n"
     ]
    },
    {
     "name": "stderr",
     "output_type": "stream",
     "text": [
      "/var/folders/fd/md6r13sj0wsbg_6_xl160d300000gn/T/ipykernel_33028/731702247.py:93: DeprecationWarning: The 'unary_union' attribute is deprecated, use the 'union_all()' method instead.\n",
      "  in_range = gdf_toilets[gdf_toilets.geometry.within(buffer_wgs84.unary_union)]\n",
      "/var/folders/fd/md6r13sj0wsbg_6_xl160d300000gn/T/ipykernel_33028/731702247.py:113: DeprecationWarning: The 'unary_union' attribute is deprecated, use the 'union_all()' method instead.\n",
      "  folium.GeoJson(buffer_wgs84.unary_union,\n"
     ]
    },
    {
     "name": "stdout",
     "output_type": "stream",
     "text": [
      "✅ Karta sparad: kartor/Issue_132_2_toaletter_nara_stockholm_archipelago_trail_2025_07_30_07_21.html\n"
     ]
    }
   ],
   "source": [
    "# !pip install geopandas shapely folium requests SPARQLWrapper --quiet\n",
    "\n",
    "import requests, os\n",
    "import geopandas as gpd\n",
    "from shapely.geometry import LineString, MultiLineString, Point\n",
    "from SPARQLWrapper import SPARQLWrapper, JSON\n",
    "from collections import defaultdict\n",
    "import folium\n",
    "from folium import Marker, Icon, FeatureGroup, LayerControl, Popup\n",
    "from datetime import datetime\n",
    "\n",
    "# === Step 1: Get SAT trail sections from Wikidata ===\n",
    "print(\"🔍 Hämtar SAT-etapper från Wikidata...\")\n",
    "sparql = SPARQLWrapper(\"https://query.wikidata.org/sparql\")\n",
    "sparql.setQuery(\"\"\"\n",
    "SELECT ?item ?itemLabel ?islandLabel ?osmid WHERE {\n",
    "  ?item wdt:P361 wd:Q131318799;\n",
    "        wdt:P31 wd:Q2143825;\n",
    "        wdt:P402 ?osmid.\n",
    "  OPTIONAL { ?item wdt:P706 ?island. }\n",
    "  SERVICE wikibase:label { bd:serviceParam wikibase:language \"sv,en\". }\n",
    "}\n",
    "\"\"\")\n",
    "sparql.setReturnFormat(JSON)\n",
    "results = sparql.query().convert()\n",
    "\n",
    "etapper = []\n",
    "for r in results[\"results\"][\"bindings\"]:\n",
    "    etapper.append({\n",
    "        \"id\": r[\"osmid\"][\"value\"],\n",
    "        \"label\": r.get(\"itemLabel\", {}).get(\"value\", \"\"),\n",
    "        \"island\": r.get(\"islandLabel\", {}).get(\"value\", \"\")\n",
    "    })\n",
    "\n",
    "# === Step 2: Fetch trail geometries from Overpass ===\n",
    "print(f\"📡 Hämtar geometrier för {len(etapper)} OSM-relationer...\")\n",
    "overpass_url = \"http://overpass-api.de/api/interpreter\"\n",
    "geom_per_rel = defaultdict(list)\n",
    "all_lines = []\n",
    "\n",
    "for e in etapper:\n",
    "    rel_id = e['id']\n",
    "    query = f\"\"\"\n",
    "    [out:json];\n",
    "    relation({rel_id});\n",
    "    (._;>>;);\n",
    "    out geom;\n",
    "    \"\"\"\n",
    "    r = requests.post(overpass_url, data={\"data\": query})\n",
    "    if r.status_code != 200:\n",
    "        print(f\"⚠️ Fel för relation {rel_id}\")\n",
    "        continue\n",
    "    for el in r.json()[\"elements\"]:\n",
    "        if el[\"type\"] == \"way\" and \"geometry\" in el:\n",
    "            coords = [(pt[\"lon\"], pt[\"lat\"]) for pt in el[\"geometry\"]]\n",
    "            geom = LineString(coords)\n",
    "            geom_per_rel[rel_id].append(geom)\n",
    "            all_lines.append(geom)\n",
    "\n",
    "gdf_trail = gpd.GeoDataFrame(geometry=all_lines, crs=\"EPSG:4326\")\n",
    "geometries = [\n",
    "    MultiLineString(geom_per_rel[e[\"id\"]]) if len(geom_per_rel[e[\"id\"]]) > 1 else geom_per_rel[e[\"id\"]][0]\n",
    "    for e in etapper\n",
    "]\n",
    "meta_gdf = gpd.GeoDataFrame(etapper, geometry=geometries, crs=\"EPSG:4326\")\n",
    "\n",
    "# === Step 3: Buffer trail 200 meters ===\n",
    "print(\"🧮 Skapar 200 meters buffert...\")\n",
    "buffer_utm = gdf_trail.to_crs(3006).buffer(200)\n",
    "buffer_wgs84 = buffer_utm.to_crs(4326)\n",
    "\n",
    "# === Step 4: Query OSM toilets ===\n",
    "bbox = gdf_trail.total_bounds\n",
    "query_toilets = f\"\"\"\n",
    "[out:json][timeout:25];\n",
    "node[\"amenity\"=\"toilets\"]({bbox[1]},{bbox[0]},{bbox[3]},{bbox[2]});\n",
    "out;\n",
    "\"\"\"\n",
    "print(\"🚽 Hämtar toaletter från Overpass API...\")\n",
    "r = requests.post(overpass_url, data={\"data\": query_toilets})\n",
    "toilets_data = r.json()\n",
    "\n",
    "toilets = []\n",
    "for el in toilets_data['elements']:\n",
    "    if el['type'] == 'node':\n",
    "        pt = Point(el[\"lon\"], el[\"lat\"])\n",
    "        toilets.append({\"geometry\": pt, \"tags\": el.get(\"tags\", {}), \"id\": el[\"id\"]})\n",
    "\n",
    "gdf_toilets = gpd.GeoDataFrame(toilets, crs=\"EPSG:4326\")\n",
    "print(f\"✅ Hittade {len(gdf_toilets)} toaletter inom bbox\")\n",
    "\n",
    "# === Step 5: Filter to toilets within 200m buffer ===\n",
    "in_range = gdf_toilets[gdf_toilets.geometry.within(buffer_wgs84.unary_union)]\n",
    "print(f\"✅ {len(in_range)} toaletter ligger inom 200m från leden\")\n",
    "\n",
    "# === Step 6: Match each toilet to closest trail section ===\n",
    "toilets_utm = in_range.to_crs(3006)\n",
    "meta_utm = meta_gdf.to_crs(3006)\n",
    "joined = gpd.sjoin_nearest(toilets_utm, meta_utm[[\"label\", \"island\", \"geometry\"]],\n",
    "                           how=\"left\", distance_col=\"distance_m\")\n",
    "joined = joined.to_crs(4326)\n",
    "\n",
    "# === Step 7: Build the interactive map ===\n",
    "m = folium.Map(location=[gdf_trail.geometry[0].centroid.y, gdf_trail.geometry[0].centroid.x], zoom_start=9)\n",
    "\n",
    "# Add trail geometries\n",
    "for _, row in meta_gdf.iterrows():\n",
    "    folium.GeoJson(row.geometry, name=row[\"label\"],\n",
    "                   tooltip=row[\"label\"],\n",
    "                   style_function=lambda x: {\"color\": \"blue\", \"weight\": 3}).add_to(m)\n",
    "\n",
    "# Add buffer\n",
    "folium.GeoJson(buffer_wgs84.unary_union,\n",
    "               name=\"200m Buffert\",\n",
    "               style_function=lambda x: {'fillColor': '#0000ff', 'color': '#0000ff', 'weight': 1, 'fillOpacity': 0.1}\n",
    "               ).add_to(m)\n",
    "\n",
    "# Add toilet markers\n",
    "good_group = FeatureGroup(name=\"Godkända toaletter\")\n",
    "warn_group = FeatureGroup(name=\"Varningar / Ofullständiga\")\n",
    "\n",
    "for _, row in joined.iterrows():\n",
    "    tags = row['tags']\n",
    "    el_id = row[\"id\"]\n",
    "    osm_url = f\"https://www.openstreetmap.org/node/{el_id}\"\n",
    "    popup_text = f\"<b><a href='{osm_url}' target='_blank'>OSM objekt</a></b><br>\"\n",
    "\n",
    "    # Metadata\n",
    "    if \"image\" in tags:\n",
    "        popup_text += f\"<img src='{tags['image']}' width='200'><br>\"\n",
    "    if \"opening_hours\" in tags:\n",
    "        popup_text += f\"<b>Öppettider:</b> {tags['opening_hours']}<br>\"\n",
    "    if \"wheelchair\" in tags:\n",
    "        popup_text += f\"<b>Rullstol:</b> {tags['wheelchair']}<br>\"\n",
    "    if \"toilets:disposal\" in tags:\n",
    "        popup_text += f\"<b>Avfallshantering:</b> {tags['toilets:disposal']}<br>\"\n",
    "\n",
    "    popup_text += \"<hr style='margin:5px 0;'><ul style='padding-left:18px;'>\"\n",
    "\n",
    "    required = [\"amenity\", \"access\", \"unisex\", \"toilets:disposal\", \"wheelchair\"]\n",
    "    recommended = [\"toilets:handwashing\", \"toilets:paper_supply\", \"opening_hours\", \"fee\", \"operator\", \"description\"]\n",
    "    missing_req = [t for t in required if t not in tags]\n",
    "    missing_opt = [t for t in recommended if t not in tags]\n",
    "\n",
    "    for t in missing_req:\n",
    "        popup_text += f\"<li><b>{t}</b> saknas</li>\"\n",
    "    for t in missing_opt:\n",
    "        popup_text += f\"<li>{t} saknas</li>\"\n",
    "    popup_text += \"</ul><i>Tips: kontrollera viktiga attribut</i>\"\n",
    "\n",
    "    icon_color = \"red\" if missing_req else \"blue\"\n",
    "    Marker(\n",
    "        location=[row.geometry.y, row.geometry.x],\n",
    "        popup=Popup(popup_text, max_width=300),\n",
    "        icon=Icon(color=icon_color, icon=\"info-sign\")\n",
    "    ).add_to(warn_group if missing_req else good_group)\n",
    "\n",
    "m.add_child(good_group)\n",
    "m.add_child(warn_group)\n",
    "LayerControl().add_to(m)\n",
    "\n",
    "# === Step 8: Save to HTML === \n",
    "timestamp = datetime.now().strftime(\"%Y_%m_%d_%H_%M\")\n",
    "filename = f\"Issue_132_2_toaletter_nara_stockholm_archipelago_trail_{timestamp}.html\"\n",
    "output_path = f\"kartor/{filename}\"  # <== updated path\n",
    "os.makedirs(\"kartor\", exist_ok=True)  # <== updated folder\n",
    "m.save(output_path)\n",
    "print(f\"✅ Karta sparad: {output_path}\")\n"
   ]
  },
  {
   "cell_type": "code",
   "execution_count": 2,
   "id": "1b13c50c-6e02-4902-bfaf-1679ba31b8c4",
   "metadata": {},
   "outputs": [
    {
     "name": "stdout",
     "output_type": "stream",
     "text": [
      "/Users/salgo/Documents/GitHub/Stockholm_Archipelago_Trail/notebook\n"
     ]
    }
   ],
   "source": [
    "import os\n",
    "print(os.getcwd())"
   ]
  },
  {
   "cell_type": "code",
   "execution_count": 7,
   "id": "a87b7448-0a44-4358-bd0c-04dd951c156c",
   "metadata": {},
   "outputs": [
    {
     "name": "stdout",
     "output_type": "stream",
     "text": [
      "Date: 2025-07-30 07:16:49\n",
      "Total time elapsed: 753.90 seconds\n"
     ]
    }
   ],
   "source": [
    " # End timer and calculate duration\n",
    "end_time = time.time()\n",
    "elapsed_time = end_time - start_time\n",
    "\n",
    "# Print current date and total time\n",
    "print(\"Date:\", datetime.now().strftime(\"%Y-%m-%d %H:%M:%S\"))\n",
    "print(\"Total time elapsed: {:.2f} seconds\".format(elapsed_time))"
   ]
  },
  {
   "cell_type": "code",
   "execution_count": null,
   "id": "aaf7f6b8-e2a5-48ef-9fb1-ab66036f47cb",
   "metadata": {},
   "outputs": [],
   "source": []
  }
 ],
 "metadata": {
  "kernelspec": {
   "display_name": "Python 3 (ipykernel)",
   "language": "python",
   "name": "python3"
  },
  "language_info": {
   "codemirror_mode": {
    "name": "ipython",
    "version": 3
   },
   "file_extension": ".py",
   "mimetype": "text/x-python",
   "name": "python",
   "nbconvert_exporter": "python",
   "pygments_lexer": "ipython3",
   "version": "3.12.2"
  }
 },
 "nbformat": 4,
 "nbformat_minor": 5
}
