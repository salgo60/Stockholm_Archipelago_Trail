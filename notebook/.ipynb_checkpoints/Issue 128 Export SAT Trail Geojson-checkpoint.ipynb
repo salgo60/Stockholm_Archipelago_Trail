{
 "cells": [
  {
   "cell_type": "markdown",
   "id": "0d83b45d-1861-4b37-994a-d6cae7adba86",
   "metadata": {},
   "source": [
    "### Issue 128: Export SAT Trail Geojson\n",
    "\n",
    "* https://github.com/salgo60/Stockholm_Archipelago_Trail/issues/128\n",
    "* [this notebook](https://github.com/salgo60/Stockholm_Archipelago_Trail/blob/main/notebook/Issue%20128%20Export%20SAT%20Trail%20Geojson.ipynb)\n",
    "  \n"
   ]
  },
  {
   "cell_type": "code",
   "execution_count": 1,
   "id": "c69328a4-c5d9-427d-9cab-ec8afaec947b",
   "metadata": {},
   "outputs": [
    {
     "name": "stdout",
     "output_type": "stream",
     "text": [
      "Started: 2025-07-26 11:09\n"
     ]
    }
   ],
   "source": [
    "import time\n",
    "import datetime  \n",
    "start_time = time.time()\n",
    "start_str = datetime.datetime.now().strftime(\"%Y-%m-%d %H:%M\")\n",
    "print(f\"Started: {start_str}\")\n"
   ]
  },
  {
   "cell_type": "code",
   "execution_count": 2,
   "id": "bc844de3-2021-4651-8ba6-e6f0044f0168",
   "metadata": {},
   "outputs": [
    {
     "name": "stdout",
     "output_type": "stream",
     "text": [
      "Fetching SPARQL trail data...\n",
      "Found 20 trails with OSM relations.\n",
      "Fetching OSM geometries...\n"
     ]
    }
   ],
   "source": [
    "import requests\n",
    "import json\n",
    "from shapely.geometry import LineString, mapping\n",
    "from geojson import Feature, FeatureCollection\n",
    "\n",
    "# Step 1: Fetch Wikidata items with P402 (OSM relation)\n",
    "sparql_query = \"\"\"\n",
    "SELECT ?item ?itemLabel ?OSMrel WHERE {\n",
    "  ?item wdt:P361 wd:Q131318799;\n",
    "        wdt:P31 wd:Q2143825.\n",
    "  OPTIONAL { ?item wdt:P402 ?OSMrel. }\n",
    "  SERVICE wikibase:label { bd:serviceParam wikibase:language \"sv,en\". }\n",
    "}\n",
    "ORDER BY (?itemLabel)\n",
    "\"\"\"\n",
    "\n",
    "def run_sparql(query):\n",
    "    url = \"https://query.wikidata.org/sparql\"\n",
    "    headers = {'Accept': 'application/sparql-results+json'}\n",
    "    r = requests.get(url, params={'query': query}, headers=headers)\n",
    "    data = r.json()\n",
    "    results = []\n",
    "    for row in data[\"results\"][\"bindings\"]:\n",
    "        label = row.get(\"itemLabel\", {}).get(\"value\")\n",
    "        rel_id = row.get(\"OSMrel\", {}).get(\"value\")\n",
    "        if rel_id:\n",
    "            results.append({\"label\": label, \"osm_rel\": rel_id})\n",
    "    return results\n",
    "\n",
    "# Step 2: Fetch each OSM relation's geometry from Overpass API\n",
    "def fetch_relation_geometry(osm_rel_id):\n",
    "    overpass_url = \"https://overpass-api.de/api/interpreter\"\n",
    "    query = f\"\"\"\n",
    "    [out:json];\n",
    "    relation({osm_rel_id});\n",
    "    out geom;\n",
    "    \"\"\"\n",
    "    r = requests.post(overpass_url, data={'data': query})\n",
    "    data = r.json()\n",
    "    \n",
    "    features = []\n",
    "    for element in data.get(\"elements\", []):\n",
    "        if element[\"type\"] == \"relation\":\n",
    "            for member in element.get(\"members\", []):\n",
    "                if member[\"type\"] == \"way\" and \"geometry\" in member:\n",
    "                    coords = [(pt[\"lon\"], pt[\"lat\"]) for pt in member[\"geometry\"]]\n",
    "                    features.append(LineString(coords))\n",
    "    return features\n",
    "\n",
    "# Step 3: Build GeoJSON\n",
    "def build_geojson(trails):\n",
    "    geojson_features = []\n",
    "    for trail in trails:\n",
    "        label = trail[\"label\"]\n",
    "        osm_rel = trail[\"osm_rel\"]\n",
    "        try:\n",
    "            geometries = fetch_relation_geometry(osm_rel)\n",
    "            for geom in geometries:\n",
    "                feature = Feature(geometry=mapping(geom), properties={\"name\": label})\n",
    "                geojson_features.append(feature)\n",
    "        except Exception as e:\n",
    "            print(f\"Error with relation {osm_rel} ({label}): {e}\")\n",
    "    return FeatureCollection(geojson_features)\n",
    "\n",
    "# Run everything\n",
    "if __name__ == \"__main__\":\n",
    "\n",
    "    print(\"Fetching SPARQL trail data...\")\n",
    "    trail_data = run_sparql(sparql_query)\n",
    "    print(f\"Found {len(trail_data)} trails with OSM relations.\")\n",
    "\n",
    "    print(\"Fetching OSM geometries...\")\n",
    "    geojson = build_geojson(trail_data)\n",
    "\n",
    "    timestamp = datetime.datetime.now().strftime(\"%Y%m%d%H_%M_%S\")\n",
    "    output_path = f\"trail_sections_{timestamp}.geojson\"\n",
    "\n",
    "    with open(output_path, \"w\", encoding=\"utf-8\") as f:\n",
    "        json.dump(geojson, f, ensure_ascii=False, indent=2)\n",
    "\n"
   ]
  },
  {
   "cell_type": "code",
   "execution_count": 3,
   "id": "18dcaeca-9090-412f-8881-17a0f536f752",
   "metadata": {},
   "outputs": [
    {
     "name": "stdout",
     "output_type": "stream",
     "text": [
      "GeoJSON saved to trail_sections_2025072611_09_31.geojson\n",
      "Finished in 10.15 seconds.\n"
     ]
    }
   ],
   "source": [
    "    end_time = time.time()\n",
    "    duration = end_time - start_time\n",
    "    print(f\"GeoJSON saved to {output_path}\")\n",
    "    print(f\"Finished in {duration:.2f} seconds.\")\n"
   ]
  },
  {
   "cell_type": "code",
   "execution_count": null,
   "id": "e439cbe5-e5bd-44f4-bcca-3b8d17c932cd",
   "metadata": {},
   "outputs": [],
   "source": []
  }
 ],
 "metadata": {
  "kernelspec": {
   "display_name": "Python 3 (ipykernel)",
   "language": "python",
   "name": "python3"
  },
  "language_info": {
   "codemirror_mode": {
    "name": "ipython",
    "version": 3
   },
   "file_extension": ".py",
   "mimetype": "text/x-python",
   "name": "python",
   "nbconvert_exporter": "python",
   "pygments_lexer": "ipython3",
   "version": "3.12.2"
  }
 },
 "nbformat": 4,
 "nbformat_minor": 5
}
