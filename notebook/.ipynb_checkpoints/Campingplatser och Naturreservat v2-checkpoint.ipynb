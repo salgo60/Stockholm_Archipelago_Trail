{
 "cells": [
  {
   "cell_type": "markdown",
   "id": "42254944-ae99-42b5-9761-8ad861039a70",
   "metadata": {},
   "source": [
    "### Campingplatser och Naturreservat V2\n",
    "\n",
    "Jobba med naturreservat som område hämtat från kanske OSM eller WD\n",
    "\n",
    "\n",
    "* Issue Nr [#109](https://github.com/salgo60/Stockholm_Archipelago_Trail/issues/109)\n",
    "* test SparQL\n",
    "  * [Naturreservat](https://query.wikidata.org/embed.html#%23title%3A%20SAT%20%E2%80%93%20Reservat%20%26%20T%C3%A4ltplatser%0A%23defaultView%3AMap%7B%22layer%22%3A%22%3FSATLabel%22%2C%20%22hide%22%3A%5B%22%3Fshape%22%5D%7D%0ASELECT%20DISTINCT%20%3Fitem%20%3FitemLabel%20%3Ftyp%20%3FSATLabel%20%3Fcoord%20%20%3Fimg%20%3Fwww%20%3FNaturv%C3%A5rdsreg%20%3FFacebook%20%3FInstagram%20%3FInstagramL%20%3Fshape%20%3FGooglemap%20WHERE%20%7B%0A%0A%20%20%7B%0A%20%20%20%20%23%20Reservat%0A%20%20%20%20wd%3AQ131318799%20wdt%3AP3018%20%3Fitem.%0A%20%20%20%20BIND%28%22Naturreservat%22%40sv%20AS%20%3Ftyp%29%0A%0A%20%20%20%20OPTIONAL%20%7B%20%3Fitem%20wdt%3AP625%20%3Fcoord.%20%7D%0A%20%20%20%20OPTIONAL%20%7B%20%3Fitem%20wdt%3AP3896%20%3Fshape.%20%7D%0A%20%20%20%20OPTIONAL%20%7B%20%3Fitem%20wdt%3AP18%20%3Fimg.%20%7D%0A%20%20%20%20OPTIONAL%20%7B%20%3Fitem%20wdt%3AP856%20%3Fwww.%20%7D%0A%0A%20%20%20%20OPTIONAL%20%7B%0A%20%20%20%20%20%20%3Fitem%20wdt%3AP2789%20%3FSATid.%0A%20%20%20%20%20%20%3FSATid%20wdt%3AP361%20wd%3AQ131318799.%0A%20%20%20%20%20%20%3FSATid%20rdfs%3Alabel%20%3FSATLabel.%20FILTER%28LANG%28%3FSATLabel%29%3D%22sv%22%29%0A%20%20%20%20%7D%0A%0A%20%20%20%20OPTIONAL%20%7B%20%3Fitem%20wdt%3AP3613%20%3FNaturv%C3%A5rdsregid.%20%7D%0A%20%20%20%20BIND%28IF%28BOUND%28%3FNaturv%C3%A5rdsregid%29%2C%20URI%28CONCAT%28%22https%3A%2F%2Fskyddadnatur.naturvardsverket.se%2Fsknat%2F%3Fnvrid%3D%22%2C%20STR%28%3FNaturv%C3%A5rdsregid%29%29%29%2C%20%22%22%29%20AS%20%3FNaturv%C3%A5rdsreg%29%0A%20%20%7D%0A%20%20UNION%0A%20%20%7B%0A%20%20%20%20%23%20T%C3%A4ltplatser%0A%20%20%20%20VALUES%20%3Fsleep%20%7B%20wd%3AQ832778%20%7D%0A%20%20%20%20%3Fitem%20wdt%3AP6104%20wd%3AQ134294510%3B%0A%20%20%20%20%20%20%20%20%20%20wdt%3AP625%20%3Fcoord%3B%0A%20%20%20%20%20%20%20%20%20%20wdt%3AP31%20%3Fsleep.%0A%20%20%20%20BIND%28%22T%C3%A4ltplats%22%40sv%20AS%20%3Ftyp%29%0A%0A%20%20%20%20OPTIONAL%20%7B%3Fitem%20wdt%3AP2789%20%3FSAT.%20%3FSAT%20wdt%3AP361%20wd%3AQ131318799.%20%3FSAT%20rdfs%3Alabel%20%3FSATLabel.%20FILTER%28LANG%28%3FSATLabel%29%3D%22sv%22%29%20%7D%0A%20%20%20%20OPTIONAL%20%7B%0A%20%20%20%20%20%20%3Fitem%20wdt%3AP2789%20%3FSATid.%0A%20%20%20%20%20%20%3FSATid%20wdt%3AP361%20wd%3AQ131318799.%0A%20%20%20%20%20%20%3FSATid%20rdfs%3Alabel%20%3FSATLabel.%20FILTER%28LANG%28%3FSATLabel%29%3D%22sv%22%29%0A%20%20%20%20%7D%0A%0A%20%20%20%20OPTIONAL%20%7B%3Fitem%20wdt%3AP856%20%3Fwww%7D%0A%20%20%20%20OPTIONAL%20%7B%3Fitem%20wdt%3AP2003%20%3FInstaU%7D%0A%20%20%20%20OPTIONAL%20%7B%3Fitem%20wdt%3AP4173%20%3FInstaL%7D%0A%20%20%20%20OPTIONAL%20%7B%3Fitem%20wdt%3AP2013%20%3FFB%7D%0A%20%20%20%20OPTIONAL%20%7B%3Fitem%20wdt%3AP3749%20%3FGmap%7D%0A%20%20%20%20OPTIONAL%20%7B%3Fitem%20wdt%3AP18%20%3Fimg.%20%7D%0A%0A%20%20%20%20BIND%28URI%28CONCAT%28%22https%3A%2F%2Fwww.facebook.com%2F%22%2C%20%3FFB%29%29%20AS%20%3FFacebook%29%0A%20%20%20%20BIND%28URI%28CONCAT%28%22https%3A%2F%2Fwww.instagram.com%2F%22%2C%20%3FInstaU%29%29%20AS%20%3FInstagram%29%0A%20%20%20%20BIND%28URI%28CONCAT%28%22https%3A%2F%2Fwww.instagram.com%2Fexplore%2Flocations%2F%22%2C%20%3FInstaL%29%29%20AS%20%3FInstagramL%29%0A%20%20%20%20BIND%28URI%28CONCAT%28%22https%3A%2F%2Fwww.google.com%2Fmaps%3Fcid%3D%22%2C%20%3FGmap%29%29%20AS%20%3FGooglemap%29%0A%20%20%7D%0A%0A%20%20SERVICE%20wikibase%3Alabel%20%7B%20bd%3AserviceParam%20wikibase%3Alanguage%20%22sv%2Cen%22.%20%7D%0A%7D%0AORDER%20BY%20%3FSATLabel%20%3Ftyp%0A%0A)\n",
    "  * [Tältplatser](https://w.wiki/EggY)"
   ]
  },
  {
   "cell_type": "markdown",
   "id": "70426941-6e41-4dbe-b49f-798b69a0e7aa",
   "metadata": {},
   "source": [
    "### use OSM\n",
    " * on the WD Naturereserve you have wdt:P402 OSM relation and wdt:P10689 OSM way maybe use that \n",
    "* you have also the Shape file on wdt:P3896 as Data:/Sweden/Nature reserves/2020/Grinda/2000152.map that is https://commons.wikimedia.org/wiki/Data:/Sweden/Nature_reserves/2020/Grinda/2000152.map \n",
    "\n",
    "* https://commons.wikimedia.org/w/index.php?title=Data:/Sweden/Nature_reserves/2020/Grinda/2000152.map&action=raw is geojson\n",
    "\n",
    "#### Feels more stable OSM \n",
    "1) Query Wikidata for SAT-connected nature reserves with OSM relation or way IDs.\n",
    "2) Use Overpass API to fetch full geometries.\n",
    "3) Convert the OSM JSON to GeoJSON.\n",
    "4) Render each reserve on a Folium map by name."
   ]
  },
  {
   "cell_type": "code",
   "execution_count": null,
   "id": "13da063c-b977-4b3b-a736-a780495dc52a",
   "metadata": {},
   "outputs": [],
   "source": []
  },
  {
   "cell_type": "code",
   "execution_count": null,
   "id": "7b5cd528-bb0d-4dd4-b51b-1fd5e1446aca",
   "metadata": {},
   "outputs": [],
   "source": []
  }
 ],
 "metadata": {
  "kernelspec": {
   "display_name": "Python 3 (ipykernel)",
   "language": "python",
   "name": "python3"
  },
  "language_info": {
   "codemirror_mode": {
    "name": "ipython",
    "version": 3
   },
   "file_extension": ".py",
   "mimetype": "text/x-python",
   "name": "python",
   "nbconvert_exporter": "python",
   "pygments_lexer": "ipython3",
   "version": "3.12.2"
  }
 },
 "nbformat": 4,
 "nbformat_minor": 5
}
