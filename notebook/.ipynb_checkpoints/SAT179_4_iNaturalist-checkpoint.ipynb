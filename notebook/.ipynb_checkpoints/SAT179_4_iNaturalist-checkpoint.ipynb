{
 "cells": [
  {
   "cell_type": "markdown",
   "id": "bde61245-0d44-4845-bf7b-128dfceb4f83",
   "metadata": {},
   "source": [
    "## SAT179_4_iNaturalist\n",
    "\n",
    "* [#179](https://github.com/salgo60/Stockholm_Archipelago_Trail/issues/179) \"Koppla SAT till artobservationer\"\n",
    "* notebooks\n",
    "    * [SAT179_iNaturalist.ipynb](https://github.com/salgo60/Stockholm_Archipelago_Trail/tree/main/notebook/SAT179_iNaturalist.ipynb)\n",
    "    * [SAT179_2_iNaturalist.ipynb](https://github.com/salgo60/Stockholm_Archipelago_Trail/tree/main/notebook/SAT179_2_iNaturalist.ipynb)\n",
    "    * [SAT179_3_iNaturalist.ipynb](https://github.com/salgo60/Stockholm_Archipelago_Trail/tree/main/notebook/SAT179_3_iNaturalist.ipynb)\n",
    "    * [SAT179_4_iNaturalist.ipynb](https://github.com/salgo60/Stockholm_Archipelago_Trail/tree/main/notebook/SAT179_4_iNaturalist.ipynb)"
   ]
  },
  {
   "cell_type": "code",
   "execution_count": 1,
   "id": "37263c6c-d977-40d0-922d-ab09d4dbe465",
   "metadata": {},
   "outputs": [
    {
     "name": "stdout",
     "output_type": "stream",
     "text": [
      "Started: 2025-09-23 16:38\n"
     ]
    }
   ],
   "source": [
    "import time\n",
    "import datetime  \n",
    "start_time = time.time()\n",
    "start_str = datetime.datetime.now().strftime(\"%Y-%m-%d %H:%M\")\n",
    "print(f\"Started: {start_str}\")\n"
   ]
  },
  {
   "cell_type": "code",
   "execution_count": 11,
   "id": "60a207eb-34b0-43b3-9964-4c419f002e5c",
   "metadata": {},
   "outputs": [
    {
     "name": "stdout",
     "output_type": "stream",
     "text": [
      "Buffer bbox: (17.837087890014097, 58.71788599066402, 19.15916356907282, 59.882545468727045)\n",
      "Datumintervall: 1998-05-08 → 2025-09-23\n"
     ]
    },
    {
     "data": {
      "application/vnd.jupyter.widget-view+json": {
       "model_id": "",
       "version_major": 2,
       "version_minor": 0
      },
      "text/plain": [
       "Birds:   0%|          | 0/5 [00:00<?, ?page/s]"
      ]
     },
     "metadata": {},
     "output_type": "display_data"
    },
    {
     "data": {
      "application/vnd.jupyter.widget-view+json": {
       "model_id": "",
       "version_major": 2,
       "version_minor": 0
      },
      "text/plain": [
       "Plants:   0%|          | 0/5 [00:00<?, ?page/s]"
      ]
     },
     "metadata": {},
     "output_type": "display_data"
    },
    {
     "data": {
      "application/vnd.jupyter.widget-view+json": {
       "model_id": "",
       "version_major": 2,
       "version_minor": 0
      },
      "text/plain": [
       "Mammals:   0%|          | 0/5 [00:00<?, ?page/s]"
      ]
     },
     "metadata": {},
     "output_type": "display_data"
    },
    {
     "data": {
      "application/vnd.jupyter.widget-view+json": {
       "model_id": "",
       "version_major": 2,
       "version_minor": 0
      },
      "text/plain": [
       "Fungi:   0%|          | 0/5 [00:00<?, ?page/s]"
      ]
     },
     "metadata": {},
     "output_type": "display_data"
    },
    {
     "data": {
      "application/vnd.jupyter.widget-view+json": {
       "model_id": "",
       "version_major": 2,
       "version_minor": 0
      },
      "text/plain": [
       "Insects:   0%|          | 0/5 [00:00<?, ?page/s]"
      ]
     },
     "metadata": {},
     "output_type": "display_data"
    },
    {
     "data": {
      "application/vnd.jupyter.widget-view+json": {
       "model_id": "aab97869c46d460fb18ec9a93419c0cb",
       "version_major": 2,
       "version_minor": 0
      },
      "text/plain": [
       "Amphibians:   0%|          | 0/5 [00:00<?, ?page/s]"
      ]
     },
     "metadata": {},
     "output_type": "display_data"
    },
    {
     "data": {
      "application/vnd.jupyter.widget-view+json": {
       "model_id": "1a45dcd7b740424fbbbe996a56fccdb9",
       "version_major": 2,
       "version_minor": 0
      },
      "text/plain": [
       "Reptiles:   0%|          | 0/5 [00:00<?, ?page/s]"
      ]
     },
     "metadata": {},
     "output_type": "display_data"
    },
    {
     "data": {
      "application/vnd.jupyter.widget-view+json": {
       "model_id": "20d3868ea18c46f1aecc9914dfeff00d",
       "version_major": 2,
       "version_minor": 0
      },
      "text/plain": [
       "Bygger features:   0%|          | 0/7 [00:00<?, ?it/s]"
      ]
     },
     "metadata": {},
     "output_type": "display_data"
    },
    {
     "data": {
      "application/vnd.jupyter.widget-view+json": {
       "model_id": "",
       "version_major": 2,
       "version_minor": 0
      },
      "text/plain": [
       "Aves → features:   0%|          | 0/17 [00:00<?, ?it/s]"
      ]
     },
     "metadata": {},
     "output_type": "display_data"
    },
    {
     "data": {
      "application/vnd.jupyter.widget-view+json": {
       "model_id": "",
       "version_major": 2,
       "version_minor": 0
      },
      "text/plain": [
       "Plantae → features:   0%|          | 0/27 [00:00<?, ?it/s]"
      ]
     },
     "metadata": {},
     "output_type": "display_data"
    },
    {
     "data": {
      "application/vnd.jupyter.widget-view+json": {
       "model_id": "",
       "version_major": 2,
       "version_minor": 0
      },
      "text/plain": [
       "Mammalia → features:   0%|          | 0/37 [00:00<?, ?it/s]"
      ]
     },
     "metadata": {},
     "output_type": "display_data"
    },
    {
     "data": {
      "application/vnd.jupyter.widget-view+json": {
       "model_id": "",
       "version_major": 2,
       "version_minor": 0
      },
      "text/plain": [
       "Fungi → features:   0%|          | 0/105 [00:00<?, ?it/s]"
      ]
     },
     "metadata": {},
     "output_type": "display_data"
    },
    {
     "data": {
      "application/vnd.jupyter.widget-view+json": {
       "model_id": "",
       "version_major": 2,
       "version_minor": 0
      },
      "text/plain": [
       "Insecta → features:   0%|          | 0/21 [00:00<?, ?it/s]"
      ]
     },
     "metadata": {},
     "output_type": "display_data"
    },
    {
     "data": {
      "application/vnd.jupyter.widget-view+json": {
       "model_id": "",
       "version_major": 2,
       "version_minor": 0
      },
      "text/plain": [
       "Amphibia → features:   0%|          | 0/46 [00:00<?, ?it/s]"
      ]
     },
     "metadata": {},
     "output_type": "display_data"
    },
    {
     "data": {
      "application/vnd.jupyter.widget-view+json": {
       "model_id": "",
       "version_major": 2,
       "version_minor": 0
      },
      "text/plain": [
       "Reptilia → features:   0%|          | 0/44 [00:00<?, ?it/s]"
      ]
     },
     "metadata": {},
     "output_type": "display_data"
    },
    {
     "name": "stdout",
     "output_type": "stream",
     "text": [
      "Features in time layer: 297\n"
     ]
    },
    {
     "data": {
      "application/vnd.jupyter.widget-view+json": {
       "model_id": "",
       "version_major": 2,
       "version_minor": 0
      },
      "text/plain": [
       "Aves → features:   0%|          | 0/17 [00:00<?, ?it/s]"
      ]
     },
     "metadata": {},
     "output_type": "display_data"
    },
    {
     "data": {
      "application/vnd.jupyter.widget-view+json": {
       "model_id": "",
       "version_major": 2,
       "version_minor": 0
      },
      "text/plain": [
       "Plantae → features:   0%|          | 0/27 [00:00<?, ?it/s]"
      ]
     },
     "metadata": {},
     "output_type": "display_data"
    },
    {
     "data": {
      "application/vnd.jupyter.widget-view+json": {
       "model_id": "",
       "version_major": 2,
       "version_minor": 0
      },
      "text/plain": [
       "Mammalia → features:   0%|          | 0/37 [00:00<?, ?it/s]"
      ]
     },
     "metadata": {},
     "output_type": "display_data"
    },
    {
     "data": {
      "application/vnd.jupyter.widget-view+json": {
       "model_id": "",
       "version_major": 2,
       "version_minor": 0
      },
      "text/plain": [
       "Fungi → features:   0%|          | 0/105 [00:00<?, ?it/s]"
      ]
     },
     "metadata": {},
     "output_type": "display_data"
    },
    {
     "data": {
      "application/vnd.jupyter.widget-view+json": {
       "model_id": "",
       "version_major": 2,
       "version_minor": 0
      },
      "text/plain": [
       "Insecta → features:   0%|          | 0/21 [00:00<?, ?it/s]"
      ]
     },
     "metadata": {},
     "output_type": "display_data"
    },
    {
     "data": {
      "application/vnd.jupyter.widget-view+json": {
       "model_id": "",
       "version_major": 2,
       "version_minor": 0
      },
      "text/plain": [
       "Amphibia → features:   0%|          | 0/46 [00:00<?, ?it/s]"
      ]
     },
     "metadata": {},
     "output_type": "display_data"
    },
    {
     "data": {
      "application/vnd.jupyter.widget-view+json": {
       "model_id": "",
       "version_major": 2,
       "version_minor": 0
      },
      "text/plain": [
       "Reptilia → features:   0%|          | 0/44 [00:00<?, ?it/s]"
      ]
     },
     "metadata": {},
     "output_type": "display_data"
    },
    {
     "data": {
      "application/vnd.jupyter.widget-view+json": {
       "model_id": "",
       "version_major": 2,
       "version_minor": 0
      },
      "text/plain": [
       "Aves → features:   0%|          | 0/17 [00:00<?, ?it/s]"
      ]
     },
     "metadata": {},
     "output_type": "display_data"
    },
    {
     "data": {
      "application/vnd.jupyter.widget-view+json": {
       "model_id": "",
       "version_major": 2,
       "version_minor": 0
      },
      "text/plain": [
       "Plantae → features:   0%|          | 0/27 [00:00<?, ?it/s]"
      ]
     },
     "metadata": {},
     "output_type": "display_data"
    },
    {
     "data": {
      "application/vnd.jupyter.widget-view+json": {
       "model_id": "",
       "version_major": 2,
       "version_minor": 0
      },
      "text/plain": [
       "Mammalia → features:   0%|          | 0/37 [00:00<?, ?it/s]"
      ]
     },
     "metadata": {},
     "output_type": "display_data"
    },
    {
     "data": {
      "application/vnd.jupyter.widget-view+json": {
       "model_id": "",
       "version_major": 2,
       "version_minor": 0
      },
      "text/plain": [
       "Fungi → features:   0%|          | 0/105 [00:00<?, ?it/s]"
      ]
     },
     "metadata": {},
     "output_type": "display_data"
    },
    {
     "data": {
      "application/vnd.jupyter.widget-view+json": {
       "model_id": "",
       "version_major": 2,
       "version_minor": 0
      },
      "text/plain": [
       "Insecta → features:   0%|          | 0/21 [00:00<?, ?it/s]"
      ]
     },
     "metadata": {},
     "output_type": "display_data"
    },
    {
     "data": {
      "application/vnd.jupyter.widget-view+json": {
       "model_id": "",
       "version_major": 2,
       "version_minor": 0
      },
      "text/plain": [
       "Amphibia → features:   0%|          | 0/46 [00:00<?, ?it/s]"
      ]
     },
     "metadata": {},
     "output_type": "display_data"
    },
    {
     "data": {
      "application/vnd.jupyter.widget-view+json": {
       "model_id": "",
       "version_major": 2,
       "version_minor": 0
      },
      "text/plain": [
       "Reptilia → features:   0%|          | 0/44 [00:00<?, ?it/s]"
      ]
     },
     "metadata": {},
     "output_type": "display_data"
    },
    {
     "name": "stdout",
     "output_type": "stream",
     "text": [
      "✅ Sparade: output/179_inat_taxa_layers_colored_4.html\n"
     ]
    }
   ],
   "source": [
    "\"\"\"\n",
    "SAT iNaturalist – fast POC (bbox-only + slim fields)\n",
    "----------------------------------------------------\n",
    "Fetch recent iNaturalist observations near the Stockholm Archipelago Trail (SAT)\n",
    "**fast** by:\n",
    "  • Querying **one bbox per taxon** (no per-polygon requests)\n",
    "  • Client-side clipping to the exact 2 km buffer\n",
    "  • Requesting **slim iNat fields** only\n",
    "  • Robust backoff on 429/5xx\n",
    "\n",
    "Prereqs: pip install folium shapely requests tqdm branca jinja2\n",
    "Input:   SAT_full.geojson (trail geometry)\n",
    "Output:  output/179_inat_taxa_layers_colored.html\n",
    "\"\"\"\n",
    "from __future__ import annotations\n",
    "\n",
    "import html\n",
    "import json\n",
    "import random\n",
    "import time\n",
    "from collections.abc import Iterable\n",
    "from datetime import date, datetime as dt, timedelta\n",
    "from pathlib import Path\n",
    "from typing import Any\n",
    "\n",
    "import requests\n",
    "import folium\n",
    "from folium.plugins import TimestampedGeoJson\n",
    "from shapely.geometry import (\n",
    "    LineString,\n",
    "    MultiLineString,\n",
    "    Point,\n",
    "    Polygon,\n",
    "    shape,\n",
    "    mapping,\n",
    ")\n",
    "from shapely.ops import unary_union\n",
    "\n",
    "# ---- Progressbar (fallback till no-op) ----\n",
    "try:\n",
    "    from tqdm.auto import tqdm  # type: ignore\n",
    "except Exception:  # pragma: no cover\n",
    "    def tqdm(x: Iterable, **_: Any) -> Iterable:\n",
    "        return x\n",
    "\n",
    "# ============================ Konstanter ============================\n",
    "INAT_URL = \"https://api.inaturalist.org/v1/observations\"\n",
    "TRAIL_FILE = Path(\"SAT_full.geojson\")\n",
    "OUTPUT_HTML = Path(\"output/179_inat_taxa_layers_colored_4.html\")\n",
    "BUFFER_DEG = 0.02  # ~2000 m vid 59–60°N\n",
    "\n",
    "# iNat \"fields\" slimming – ask only for what we render.\n",
    "# If the API ignores/changes fields, we still handle missing keys safely.\n",
    "INAT_FIELDS = (\n",
    "    \"id,time_observed_at,observed_on,created_at,geojson,\"\n",
    "    \"taxon.name,taxon.preferred_common_name,photos.url\"\n",
    ")\n",
    "\n",
    "TAXON_COLORS: dict[str, str] = {\n",
    "    \"Plantae\": \"#2b8a3e\",\n",
    "    \"Aves\": \"#1d4ed8\",\n",
    "    \"Mammalia\": \"#78350f\",\n",
    "    \"Reptilia\": \"#059669\",\n",
    "    \"Amphibia\": \"#14b8a6\",\n",
    "    \"Insecta\": \"#eab308\",\n",
    "    \"Arachnida\": \"#7f1d1d\",\n",
    "    \"Mollusca\": \"#9333ea\",\n",
    "    \"Animalia\": \"#6b7280\",\n",
    "    \"Fungi\": \"#6b21a8\",\n",
    "}\n",
    "\n",
    "TAXA_GROUPS: list[tuple[str, str]] = [\n",
    "    (\"Aves\", \"Birds\"),\n",
    "    (\"Plantae\", \"Plants\"),\n",
    "    (\"Mammalia\", \"Mammals\"),\n",
    "    (\"Fungi\", \"Fungi\"),\n",
    "    (\"Insecta\", \"Insects\"),\n",
    "    (\"Amphibia\", \"Amphibians\"),\n",
    "    (\"Reptilia\", \"Reptiles\"),\n",
    "]\n",
    "\n",
    "# ============================ JSON safety helpers ============================\n",
    "import json as _json_mod\n",
    "\n",
    "def _json_default(o):\n",
    "    if callable(o):\n",
    "        return None\n",
    "    if isinstance(o, (set, tuple)):\n",
    "        return list(o)\n",
    "    if hasattr(o, \"__geo_interface__\"):\n",
    "        return o.__geo_interface__\n",
    "    if hasattr(o, \"isoformat\"):\n",
    "        try:\n",
    "            return o.isoformat()\n",
    "        except Exception:\n",
    "            pass\n",
    "    try:\n",
    "        return str(o)\n",
    "    except Exception:\n",
    "        return None\n",
    "\n",
    "def make_json_safe(obj):\n",
    "    \"\"\"Deep-convert any weird objects to JSON-safe.\"\"\"\n",
    "    return _json_mod.loads(_json_mod.dumps(obj, default=_json_default))\n",
    "\n",
    "# ============================ Backoff GET ============================\n",
    "\n",
    "def _get_with_backoff(url: str, params: dict[str, Any], *, timeout: int = 30, tries: int = 5, base_wait: float = 2.0) -> requests.Response:\n",
    "    \"\"\"GET med exponential backoff + jitter. Hanterar 429/5xx, höjer annars.\"\"\"\n",
    "    attempt = 0\n",
    "    while True:\n",
    "        r = requests.get(url, params=params, timeout=timeout)\n",
    "        if r.status_code in (429, 500, 502, 503, 504):\n",
    "            attempt += 1\n",
    "            if attempt >= tries:\n",
    "                r.raise_for_status()\n",
    "            wait = (base_wait ** attempt) + random.uniform(0, 1)\n",
    "            print(\"\\tBackoff:\", f\"{wait:.2f}s\", \"for\", r.status_code)\n",
    "            time.sleep(wait)\n",
    "            continue\n",
    "        r.raise_for_status()\n",
    "        return r\n",
    "\n",
    "# ============================ Geo helpers ============================\n",
    "\n",
    "def _obs_in_geom(o: dict[str, Any], geom: Polygon) -> bool:\n",
    "    gj = o.get(\"geojson\")\n",
    "    if not (isinstance(gj, dict) and isinstance(gj.get(\"coordinates\"), (list, tuple)) and len(gj[\"coordinates\"]) >= 2):\n",
    "        return False\n",
    "    lon, lat = gj[\"coordinates\"][:2]\n",
    "    try:\n",
    "        pt = Point(lon, lat)\n",
    "        return geom.contains(pt) or geom.touches(pt)\n",
    "    except Exception:\n",
    "        return False\n",
    "\n",
    "\n",
    "def _obs_to_feature(o: dict[str, Any], *, color: str = \"#3388ff\", radius: int = 4, fill_opacity: float = 0.6) -> dict[str, Any] | None:\n",
    "    gj = o.get(\"geojson\") or {}\n",
    "    if not (isinstance(gj.get(\"coordinates\"), (list, tuple)) and len(gj[\"coordinates\"]) >= 2):\n",
    "        return None\n",
    "    lon, lat = gj[\"coordinates\"][:2]\n",
    "\n",
    "    # Preferera full ISO-tid; fallback till datum\n",
    "    obs_time = o.get(\"time_observed_at\") or o.get(\"observed_on\") or o.get(\"created_at\")\n",
    "    if not obs_time:\n",
    "        return None\n",
    "    if len(obs_time) > 10:\n",
    "        obs_time = obs_time[:10]\n",
    "\n",
    "    taxon = o.get(\"taxon\") or {}\n",
    "    cname = taxon.get(\"preferred_common_name\") or taxon.get(\"name\") or \"okänd\"\n",
    "    sname = taxon.get(\"name\") or \"\"\n",
    "    oid = o.get(\"id\", \"\")\n",
    "    url = f\"https://www.inaturalist.org/observations/{oid}\"\n",
    "    api = f\"https://api.inaturalist.org/v1/observations/{oid}\"\n",
    "\n",
    "    img = \"\"\n",
    "    photos = o.get(\"photos\") or []\n",
    "    if photos:\n",
    "        raw = (photos[0] or {}).get(\"url\", \"\")\n",
    "        if raw:\n",
    "            img = raw.replace(\"square\", \"medium\")\n",
    "\n",
    "    popup = f\"<b>{html.escape(str(cname))}</b><br><i>{html.escape(str(sname))}</i><br>{html.escape(str(obs_time))}<br>\"\n",
    "    if img:\n",
    "        popup += f\"<img src='{html.escape(img)}' width='220'><br>\"\n",
    "    popup += f\"<a href='{html.escape(url)}' target='_blank'>Visa i iNaturalist</a> · \"\n",
    "    popup += f\"<a href='{html.escape(api)}' target='_blank'>API JSON</a>\"\n",
    "\n",
    "    return {\n",
    "        \"type\": \"Feature\",\n",
    "        \"geometry\": {\"type\": \"Point\", \"coordinates\": [lon, lat]},\n",
    "        \"properties\": {\n",
    "            \"time\": obs_time,  # för tidsreglaget\n",
    "            \"popup\": popup,\n",
    "            \"icon\": \"circle\",\n",
    "            \"iconstyle\": {\"color\": color, \"fillColor\": color, \"fillOpacity\": 0.8},\n",
    "            \"style\": {\"radius\": radius, \"color\": color, \"fillColor\": color, \"fillOpacity\": fill_opacity},\n",
    "            \"radius\": radius,\n",
    "        },\n",
    "    }\n",
    "\n",
    "\n",
    "def _to_feature_collection(obs: list[dict[str, Any]], *, clip_geom: Polygon, color: str, desc: str, radius: int = 4, fill_opacity: float = 0.6):\n",
    "    feats: list[dict[str, Any]] = []\n",
    "    bounds: list[tuple[float, float]] = []\n",
    "    skipped = 0\n",
    "    for o in tqdm(obs, desc=desc, leave=False):\n",
    "        if not _obs_in_geom(o, clip_geom):\n",
    "            skipped += 1\n",
    "            continue\n",
    "        f = _obs_to_feature(o, color=color, radius=radius, fill_opacity=fill_opacity)\n",
    "        if f:\n",
    "            feats.append(f)\n",
    "            lon, lat = f[\"geometry\"][\"coordinates\"]\n",
    "            bounds.append((lat, lon))\n",
    "        else:\n",
    "            skipped += 1\n",
    "    return {\"type\": \"FeatureCollection\", \"features\": feats}, bounds, skipped\n",
    "\n",
    "# ============================ Fast iNat fetcher ============================\n",
    "\n",
    "def fetch_inat_bbox_only(\n",
    "    geom_like,\n",
    "    *,\n",
    "    iconic_taxa: str | None = None,\n",
    "    d1: str | None = None,\n",
    "    d2: str | None = None,\n",
    "    per_page: int = 200,\n",
    "    max_pages: int = 5,\n",
    "    pause: float = 0.2,\n",
    "    show_progress: bool = True,\n",
    "    desc: str = \"Fetch\",\n",
    ") -> list[dict[str, Any]]:\n",
    "    \"\"\"Fast: query one bbox per taxon; clip locally to the buffer polygon.\"\"\"\n",
    "    g = geom_like if hasattr(geom_like, \"geom_type\") else shape(geom_like)\n",
    "\n",
    "    # Whole-buffer bbox\n",
    "    minx, miny, maxx, maxy = g.bounds\n",
    "\n",
    "    base: dict[str, Any] = {\n",
    "        \"swlat\": miny,\n",
    "        \"swlng\": minx,\n",
    "        \"nelat\": maxy,\n",
    "        \"nelng\": maxx,\n",
    "        \"geoprivacy\": \"open\",\n",
    "        \"verifiable\": \"true\",\n",
    "        \"order_by\": \"observed_on\",\n",
    "        \"order\": \"desc\",\n",
    "        \"per_page\": per_page,\n",
    "        \"fields\": INAT_FIELDS,\n",
    "    }\n",
    "    if iconic_taxa:\n",
    "        base[\"iconic_taxa\"] = iconic_taxa\n",
    "    if d1:\n",
    "        base[\"d1\"] = d1\n",
    "    if d2:\n",
    "        base[\"d2\"] = d2\n",
    "\n",
    "    all_obs: list[dict[str, Any]] = []\n",
    "    pbar = tqdm(total=max_pages, desc=desc, unit=\"page\", leave=False) if show_progress else None\n",
    "    try:\n",
    "        for page in range(1, max_pages + 1):\n",
    "            r = _get_with_backoff(INAT_URL, dict(base, page=page), timeout=30)\n",
    "            data = r.json()\n",
    "            results = data.get(\"results\", [])\n",
    "            all_obs.extend(results)\n",
    "            if pbar:\n",
    "                pbar.update(1)\n",
    "            if len(results) < per_page:\n",
    "                break\n",
    "            time.sleep(pause)\n",
    "    finally:\n",
    "        if pbar:\n",
    "            pbar.close()\n",
    "\n",
    "    # Dedup + local clip\n",
    "    deduped = {o.get(\"id\"): o for o in all_obs if o.get(\"id\") is not None}\n",
    "    clipped = [o for o in deduped.values() if _obs_in_geom(o, g)]\n",
    "    return clipped\n",
    "\n",
    "# ============================ About-box ============================\n",
    "\n",
    "def add_about_box(\n",
    "    m: folium.Map,\n",
    "    *,\n",
    "    issue_number: int,\n",
    "    map_name: str,\n",
    "    created_date: str | None = None,\n",
    "    repo: str = \"salgo60/Stockholm_Archipelago_Trail\",\n",
    "    collapsed: bool = False,\n",
    "    offset_px: tuple[int, int] = (10, 54),  # (top, left)\n",
    ") -> None:\n",
    "    if created_date is None:\n",
    "        created_date = dt.now().strftime(\"%Y-%m-%d %H:%M\")\n",
    "\n",
    "    map_dom_id = m.get_name()\n",
    "    box_id = f\"sat-about-{map_dom_id}\"\n",
    "    header_id = f\"{box_id}-hdr\"\n",
    "    issue_url = f\"https://github.com/{repo}/issues/{issue_number}\"\n",
    "    top, left = offset_px\n",
    "    collapsed_class = \"sat-about-collapsed\" if collapsed else \"\"\n",
    "\n",
    "    links = [\n",
    "        (\"SAT Dashboard\", \"https://raw.githack.com/salgo60/Stockholm_Archipelago_Trail/main/notebook/output/SAT_ALL_IN_ONE_142_3_dashboard_latest.html\"),\n",
    "        (\"Project repo issues\", \"https://github.com/salgo60/Stockholm_Archipelago_Trail/issues?q=is%3Aissue\"),\n",
    "        (\"Trail on OSM (rel 19012437)\", \"https://www.openstreetmap.org/relation/19012437\"),\n",
    "        (\"Trail on Wikicommons\", \"https://commons.wikimedia.org/wiki/Category:Stockholm_Archipelago_Trail\"),\n",
    "        (\"Official page\", \"https://stockholmarchipelagotrail.com/\"),\n",
    "        (\"Unofficial FB group\", \"https://www.facebook.com/groups/2875020699552247\"),\n",
    "        (\"Visit Sweden\", \"https://traveltrade.visitsweden.com/plan/news-sweden/Stockholm-Archipelago-Trail/\"),\n",
    "    ]\n",
    "\n",
    "    links_html = \"\".join(\n",
    "        f'<div><a href=\"{html.escape(u)}\" target=\"_blank\" style=\"text-decoration:none;\">🔗 {html.escape(t)}</a></div>'\n",
    "        for t, u in links\n",
    "    )\n",
    "\n",
    "    from string import Template as _Tpl\n",
    "    tpl = _Tpl(r\"\"\"\n",
    "<style>\n",
    "  .sat-about { position: fixed; z-index: 10000; top: ${top}px; left: ${left}px;\n",
    "    background: rgba(255,255,255,0.97); border: 2px solid #666; border-radius: 10px;\n",
    "    box-shadow: 0 2px 6px rgba(0,0,0,0.25); font: 12px/1.35 -apple-system, system-ui, Segoe UI, Roboto, Helvetica, Arial, sans-serif;\n",
    "    min-width: 240px; max-width: 320px; pointer-events: auto; }\n",
    "  .sat-about-header { cursor: pointer; padding: 8px 10px; font-weight: 700; display: flex; align-items: center; gap: 6px; user-select: none; background: rgba(248,248,248,.9); border-bottom: 1px solid #e5e7eb; }\n",
    "  .sat-about-body { padding: 8px 10px 10px 10px; }\n",
    "  .sat-about-collapsed .sat-about-body { display: none; }\n",
    "  .sat-chevron { margin-left: auto; transition: transform .15s ease-in-out; }\n",
    "  .sat-about-collapsed .sat-chevron { transform: rotate(-90deg); }\n",
    "  .sat-links { margin-top: 6px; padding-top: 6px; border-top: 1px solid #e5e7eb; }\n",
    "</style>\n",
    "<div id=\"${box_id}\" class=\"sat-about ${collapsed_class}\">\n",
    "  <div id=\"${header_id}\" class=\"sat-about-header\" title=\"Click to collapse/expand\">\n",
    "    <span>ℹ️ About</span><span class=\"sat-chevron\">▸</span>\n",
    "  </div>\n",
    "  <div class=\"sat-about-body\">\n",
    "    <div style=\"font-weight:700;margin-bottom:4px;\">Stockholm Archipelago Trail Map</div>\n",
    "    <div>Issue: <a href=\"${issue_url}\" target=\"_blank\">#${issue_number}</a>&nbsp;&nbsp; Map: ${map_name}</div>\n",
    "    <div>Created: ${created_date}</div>\n",
    "    <div>Latest updates: saved as <i>_latest.html</i></div>\n",
    "    <div class=\"sat-links\">${links_html}</div>\n",
    "  </div>\n",
    "</div>\n",
    "<script>\n",
    "(function(){\n",
    "  var boxId = \"${box_id}\";\n",
    "  var hdrId = \"${header_id}\";\n",
    "  var storageKey = \"satAboutCollapsed_${map_dom_id}_#${issue_number}\";\n",
    "  function setCollapsed(box, collapsed) {\n",
    "    if (!box) return;\n",
    "    if (collapsed) box.classList.add(\"sat-about-collapsed\");\n",
    "    else box.classList.remove(\"sat-about-collapsed\");\n",
    "    try { localStorage.setItem(storageKey, collapsed ? \"1\" : \"0\"); } catch(e) {}\n",
    "  }\n",
    "  function init(){\n",
    "    var box = document.getElementById(boxId);\n",
    "    var hdr = document.getElementById(hdrId);\n",
    "    if (!box || !hdr) return;\n",
    "    try {\n",
    "      var stored = localStorage.getItem(storageKey);\n",
    "      if (stored === \"1\") setCollapsed(box, true);\n",
    "      if (stored === \"0\") setCollapsed(box, false);\n",
    "    } catch(e) {}\n",
    "    hdr.addEventListener(\"click\", function(e){ e.stopPropagation(); setCollapsed(box, !box.classList.contains(\"sat-about-collapsed\")); });\n",
    "  }\n",
    "  if (document.readyState === \"loading\") document.addEventListener(\"DOMContentLoaded\", init); else init();\n",
    "})();\n",
    "</script>\n",
    "\"\"\")\n",
    "\n",
    "    html_code = tpl.substitute(\n",
    "        box_id=box_id,\n",
    "        header_id=header_id,\n",
    "        issue_number=179,\n",
    "        issue_url=f\"https://github.com/{repo}/issues/{179}\",\n",
    "        map_name=html.escape(map_name),\n",
    "        created_date=created_date,\n",
    "        links_html=links_html,\n",
    "        collapsed_class=collapsed_class,\n",
    "        map_dom_id=map_dom_id,\n",
    "        top=top,\n",
    "        left=left,\n",
    "    )\n",
    "    m.get_root().html.add_child(folium.Element(html_code))\n",
    "\n",
    "# ============================ Huvudkörning ============================\n",
    "\n",
    "def main() -> None:\n",
    "    if not TRAIL_FILE.exists():\n",
    "        raise FileNotFoundError(\"Hittar inte SAT_full.geojson.\")\n",
    "\n",
    "    with TRAIL_FILE.open(encoding=\"utf-8\") as f:\n",
    "        gj = json.load(f)\n",
    "\n",
    "    # --- Extrahera linjesegment ---\n",
    "    lines: list[LineString] = []\n",
    "    for feat in gj.get(\"features\", []):\n",
    "        geom = shape(feat.get(\"geometry\"))\n",
    "        if isinstance(geom, LineString) and len(geom.coords) >= 2:\n",
    "            lines.append(geom)\n",
    "        elif isinstance(geom, MultiLineString):\n",
    "            for seg in geom.geoms:\n",
    "                if len(seg.coords) >= 2:\n",
    "                    lines.append(seg)\n",
    "\n",
    "    if not lines:\n",
    "        raise ValueError(\"SAT_full.geojson innehåller inga linjesegment.\")\n",
    "\n",
    "    trail = unary_union(lines)\n",
    "    center_lat, center_lon = trail.centroid.y, trail.centroid.x\n",
    "\n",
    "    # --- Buffert + bbox ---\n",
    "    search_geom = trail.buffer(BUFFER_DEG)\n",
    "    if hasattr(search_geom, \"simplify\"):\n",
    "        search_geom = search_geom.simplify(0.0002, preserve_topology=True)\n",
    "\n",
    "    minx, miny, maxx, maxy = search_geom.bounds\n",
    "    print(\"Buffer bbox:\", (minx, miny, maxx, maxy))\n",
    "\n",
    "    # --- Datumintervall (senaste 10 dagar) ---\n",
    "    d2 = date.today().isoformat()\n",
    "    d1 = (date.today() - timedelta(days=10000)).isoformat()\n",
    "    print(\"Datumintervall:\", d1, \"→\", d2)\n",
    "\n",
    "    # --- Hämta observationer per taxa (bbox-only) ---\n",
    "    all_groups: dict[str, list[dict[str, Any]]] = {}\n",
    "    for iconic_taxa, desc in TAXA_GROUPS:\n",
    "        all_groups[iconic_taxa] = fetch_inat_bbox_only(\n",
    "            search_geom,\n",
    "            iconic_taxa=iconic_taxa,\n",
    "            d1=d1,\n",
    "            d2=d2,\n",
    "            per_page=200,\n",
    "            max_pages=5,\n",
    "            show_progress=True,\n",
    "            desc=f\"{desc}\",\n",
    "        )\n",
    "\n",
    "    # --- Bygg karta ---\n",
    "    m = folium.Map(location=[center_lat, center_lon], zoom_start=10, control_scale=True)\n",
    "\n",
    "    folium.GeoJson(mapping(trail), name=\"SAT-led\", style_function=lambda _x: {\"color\": \"#1e40af\", \"weight\": 3}).add_to(m)\n",
    "    folium.GeoJson(\n",
    "        mapping(search_geom),\n",
    "        name=\"Sökzon (2000 m)\",\n",
    "        style_function=lambda _x: {\"color\": \"#3388ff\", \"weight\": 1, \"fillOpacity\": 0.05},\n",
    "    ).add_to(m)\n",
    "\n",
    "    # --- Samla alla features till tidslager + statiskt lager ---\n",
    "    all_bounds: list[tuple[float, float]] = []\n",
    "    all_features: list[dict[str, Any]] = []\n",
    "\n",
    "    for tx, obs in tqdm(all_groups.items(), desc=\"Bygger features\", total=len(all_groups)):\n",
    "        color = TAXON_COLORS.get(tx, \"#3388ff\")\n",
    "        fc, bounds, _skipped = _to_feature_collection(obs, clip_geom=search_geom, color=color, desc=f\"{tx} → features\", radius=4)\n",
    "        all_features.extend(fc[\"features\"])\n",
    "        all_bounds.extend(bounds)\n",
    "\n",
    "    fc_all = {\"type\": \"FeatureCollection\", \"features\": all_features}\n",
    "    fc_all = make_json_safe(fc_all)\n",
    "    n_features = len(fc_all[\"features\"])\n",
    "    print(f\"Features in time layer: {n_features}\")\n",
    "    if not n_features:\n",
    "        print(\"No features → widen date range, loosen buffer/bbox, or fetch fewer taxa.\")\n",
    "\n",
    "    # 1) Tidslager\n",
    "    days_total = 3650  # ~10 år\n",
    "    total_ms = 10000   # ~10 s\n",
    "    transition_time = max(1, int(total_ms / days_total))\n",
    "\n",
    "    TimestampedGeoJson(\n",
    "        fc_all,\n",
    "        period=\"P1D\",\n",
    "        duration=\"P1Y\",\n",
    "        auto_play=True,\n",
    "        loop=True,\n",
    "        transition_time=transition_time,\n",
    "    ).add_to(m)\n",
    "\n",
    "    # 2) Statiskt lager (alla punkter)\n",
    "#   folium.GeoJson(\n",
    "#        fc_all,\n",
    "#        name=\"Alla observationer\",\n",
    "#        point_to_layer=lambda feature, latlng: folium.CircleMarker(\n",
    "#            location=latlng,\n",
    "#            radius=feature[\"properties\"].get(\"radius\", 3),\n",
    "#            color=feature[\"properties\"].get(\"style\", {}).get(\"color\", \"black\"),\n",
    "#            fill=True,\n",
    "#            fill_color=feature[\"properties\"].get(\"style\", {}).get(\"fillColor\", \"black\"),\n",
    "#            fill_opacity=feature[\"properties\"].get(\"style\", {}).get(\"fillOpacity\", 0.4),\n",
    "#            weight=1,\n",
    "#        ),\n",
    "#        popup=folium.GeoJsonPopup(fields=[\"popup\"], labels=False, parse_html=True, max_width=350),\n",
    "#        show=True,\n",
    "#    ).add_to(m)\n",
    "\n",
    "    # --- Per-taxon layers WITHOUT style_function / point_to_layer ---\n",
    "    for tx, obs in all_groups.items():\n",
    "        color = TAXON_COLORS.get(tx, \"#888\")\n",
    "        fc, _bounds, _ = _to_feature_collection(\n",
    "            obs, clip_geom=search_geom, color=color, desc=f\"{tx} → features\", radius=4\n",
    "        )\n",
    "        fc = make_json_safe(fc)\n",
    "        feats = fc.get(\"features\", [])\n",
    "        n = len(feats)\n",
    "        if n == 0:\n",
    "            continue\n",
    "    \n",
    "        fg = folium.FeatureGroup(name=f\"{tx} ({n})\", show=True)\n",
    "    \n",
    "        for f in feats:\n",
    "            if not isinstance(f.get(\"geometry\", {}), dict):\n",
    "                continue\n",
    "            coords = f[\"geometry\"].get(\"coordinates\")\n",
    "            if not (isinstance(coords, (list, tuple)) and len(coords) >= 2):\n",
    "                continue\n",
    "            lon, lat = coords[:2]\n",
    "            props = f.get(\"properties\", {}) or {}\n",
    "    \n",
    "            # pull style (set earlier in obs_to_feature), with fallbacks\n",
    "            style = props.get(\"style\", {}) or {}\n",
    "            radius = int(style.get(\"radius\", props.get(\"radius\", 4)))\n",
    "            edge = style.get(\"color\", color)\n",
    "            fill = style.get(\"fillColor\", color)\n",
    "            fill_opacity = float(style.get(\"fillOpacity\", 0.6))\n",
    "    \n",
    "            marker = folium.CircleMarker(\n",
    "                location=(lat, lon),\n",
    "                radius=radius,\n",
    "                color=edge,\n",
    "                weight=1,\n",
    "                fill=True,\n",
    "                fill_color=fill,\n",
    "                fill_opacity=fill_opacity,\n",
    "            )\n",
    "    \n",
    "            # tooltip/popup without any functions\n",
    "            t = props.get(\"time\")\n",
    "            if t:\n",
    "                marker.tooltip = t\n",
    "            pop = props.get(\"popup\")\n",
    "            if pop:\n",
    "                marker.popup = folium.Popup(pop, max_width=350, parse_html=True)\n",
    "    \n",
    "            marker.add_to(fg)\n",
    "\n",
    "    fg.add_to(m)\n",
    "\n",
    "    # 3) Per-taxon lager + count\n",
    "    # --- Per-taxon layers WITHOUT style_function / point_to_layer ---\n",
    "    for tx, obs in all_groups.items():\n",
    "        color = TAXON_COLORS.get(tx, \"#888\")\n",
    "        fc, _bounds, _ = _to_feature_collection(\n",
    "            obs, clip_geom=search_geom, color=color, desc=f\"{tx} → features\", radius=4\n",
    "        )\n",
    "        fc = make_json_safe(fc)\n",
    "        feats = fc.get(\"features\", [])\n",
    "        n = len(feats)\n",
    "        if n == 0:\n",
    "            continue\n",
    "    \n",
    "        fg = folium.FeatureGroup(name=f\"{tx} ({n})\", show=True)\n",
    "    \n",
    "        for f in feats:\n",
    "            g = f.get(\"geometry\") or {}\n",
    "            if not isinstance(g, dict):\n",
    "                continue\n",
    "            coords = g.get(\"coordinates\")\n",
    "            if not (isinstance(coords, (list, tuple)) and len(coords) >= 2):\n",
    "                continue\n",
    "            lon, lat = coords[:2]\n",
    "            props = f.get(\"properties\") or {}\n",
    "            style = (props.get(\"style\") or {})\n",
    "            radius = int(style.get(\"radius\", props.get(\"radius\", 4)))\n",
    "            edge = style.get(\"color\", color)\n",
    "            fill = style.get(\"fillColor\", color)\n",
    "            fill_opacity = float(style.get(\"fillOpacity\", 0.6))\n",
    "    \n",
    "            marker = folium.CircleMarker(\n",
    "                location=(lat, lon),\n",
    "                radius=radius,\n",
    "                color=edge,\n",
    "                weight=1,\n",
    "                fill=True,\n",
    "                fill_color=fill,\n",
    "                fill_opacity=fill_opacity,\n",
    "            )\n",
    "    \n",
    "            t = props.get(\"time\")\n",
    "            if t:\n",
    "                marker.tooltip = t\n",
    "    \n",
    "            pop = props.get(\"popup\")\n",
    "            if pop:\n",
    "                marker.popup = folium.Popup(pop, max_width=350, parse_html=True)\n",
    "    \n",
    "            marker.add_to(fg)\n",
    "    \n",
    "        fg.add_to(m)\n",
    "\n",
    "\n",
    "    folium.LayerControl(collapsed=False).add_to(m)\n",
    "\n",
    "    # --- Legend ---\n",
    "    legend_html = \"\"\"\n",
    "<div style=\"position: fixed; bottom: 50px; right: 50px; width: 170px; background: white; border:2px solid grey; z-index:9999; font-size:14px; padding: 10px;\">\n",
    "  <b>Taxa</b><br>\n",
    "  <i style=\"color:#2b8a3e;\">●</i> Växter<br>\n",
    "  <i style=\"color:#1d4ed8;\">●</i> Fåglar<br>\n",
    "  <i style=\"color:#78350f;\">●</i> Däggdjur<br>\n",
    "  <i style=\"color:#6b21a8;\">●</i> Svampar<br>\n",
    "  <i style=\"color:#eab308;\">●</i> Insekter<br>\n",
    "  <i style=\"color:#14b8a6;\">●</i> Groddjur<br>\n",
    "  <i style=\"color:#059669;\">●</i> Kräldjur<br>\n",
    "  <i style=\"color:#7f1d1d;\">●</i> Spindeldjur<br>\n",
    "  <i style=\"color:#9333ea;\">●</i> Blötdjur\n",
    "</div>\n",
    "\"\"\"\n",
    "    m.get_root().html.add_child(folium.Element(legend_html))\n",
    "\n",
    "    # --- Auto-zoom ---\n",
    "    if all_bounds:\n",
    "        m.fit_bounds(all_bounds)\n",
    "\n",
    "    # --- About box ---\n",
    "    #add_about_box(m, issue_number=179, map_name=\"SAT iNaturalist (fast)\")\n",
    "\n",
    "    # --- Spara ---\n",
    "    OUTPUT_HTML.parent.mkdir(parents=True, exist_ok=True)\n",
    "    m.save(str(OUTPUT_HTML))\n",
    "    print(f\"✅ Sparade: {OUTPUT_HTML}\")\n",
    "\n",
    "\n",
    "if __name__ == \"__main__\":\n",
    "    main()\n"
   ]
  },
  {
   "cell_type": "code",
   "execution_count": null,
   "id": "680c2ee6-0e22-4478-b3d9-9642bc1b9dd0",
   "metadata": {},
   "outputs": [],
   "source": [
    "end_time = time.time()\n",
    "duration = end_time - start_time\n",
    "print(f\"GeoJSON saved to {OUT}\")\n",
    "print(f\"Finished in {duration:.2f} seconds.\")\n",
    "\n",
    "    "
   ]
  },
  {
   "cell_type": "code",
   "execution_count": null,
   "id": "d82a60df-88ac-46d3-ab04-5555748103f4",
   "metadata": {},
   "outputs": [],
   "source": []
  }
 ],
 "metadata": {
  "kernelspec": {
   "display_name": "Python 3 (ipykernel)",
   "language": "python",
   "name": "python3"
  },
  "language_info": {
   "codemirror_mode": {
    "name": "ipython",
    "version": 3
   },
   "file_extension": ".py",
   "mimetype": "text/x-python",
   "name": "python",
   "nbconvert_exporter": "python",
   "pygments_lexer": "ipython3",
   "version": "3.12.2"
  }
 },
 "nbformat": 4,
 "nbformat_minor": 5
}
