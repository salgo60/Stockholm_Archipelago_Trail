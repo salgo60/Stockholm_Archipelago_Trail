{
 "cells": [
  {
   "cell_type": "markdown",
   "id": "b254d8fe-bef9-4f8e-af96-d87cca44699f",
   "metadata": {},
   "source": [
    "### Run the query in Wikidata Query Service\n",
    "* https://github.com/salgo60/Stockholm_Archipelago_Trail/issues/110"
   ]
  },
  {
   "cell_type": "code",
   "execution_count": 1,
   "id": "b11a24b2-09c1-400b-895e-2e890d1e90b9",
   "metadata": {},
   "outputs": [
    {
     "name": "stdout",
     "output_type": "stream",
     "text": [
      "Start: 2025-07-17 22:11:35\n"
     ]
    }
   ],
   "source": [
    "import time\n",
    "from datetime import datetime\n",
    "\n",
    "start_time = time.time()\n",
    "print(\"Start:\", datetime.now().strftime(\"%Y-%m-%d %H:%M:%S\"))\n"
   ]
  },
  {
   "cell_type": "code",
   "execution_count": 2,
   "id": "6422734d-e0d7-42e3-97d8-44b3b0d7d09e",
   "metadata": {},
   "outputs": [],
   "source": [
    "# pip install sparqlwrapper\n",
    "# https://rdflib.github.io/sparqlwrapper/\n",
    "\n",
    "import sys\n",
    "from SPARQLWrapper import SPARQLWrapper, JSON\n",
    "\n",
    "endpoint_url = \"https://query.wikidata.org/sparql\"\n",
    "\n",
    "query = \"\"\"#title: Miss Instagram Location connected to SAT\n",
    "SELECT DISTINCT ?id ?geo ?idLabel ?img ?SATLabel ?Instagram ?Facebook ?InstagramL ?Googlemap WHERE {\n",
    "  ?id wdt:P6104 wd:Q134294510;\n",
    "       wdt:P625 ?geo.\n",
    "\n",
    "  ?id wdt:P2789 ?SAT.\n",
    "  ?SAT wdt:P361 wd:Q131318799.\n",
    "\n",
    "  OPTIONAL {?id wdt:P2003 ?InstaU}\n",
    "  minus {?id wdt:P4173 ?InstaL}\n",
    "\n",
    "  BIND(URI(CONCAT(\"https://www.instagram.com/explore/locations/\", ?InstaL)) AS ?InstagramL)\n",
    "\n",
    "  SERVICE wikibase:label { bd:serviceParam wikibase:language \"sv,en,nn\". }\n",
    "} order by ?SATLabel \n",
    "\"\"\"\n",
    "\n",
    "\n",
    "def get_results(endpoint_url, query):\n",
    "    user_agent = \"WDQS-example Python/%s.%s\" % (sys.version_info[0], sys.version_info[1])\n",
    "    # TODO adjust user agent; see https://w.wiki/CX6\n",
    "    sparql = SPARQLWrapper(endpoint_url, agent=user_agent)\n",
    "    sparql.setQuery(query)\n",
    "    sparql.setReturnFormat(JSON)\n",
    "    return sparql.query().convert()\n",
    "\n",
    "\n",
    "results = get_results(endpoint_url, query)\n"
   ]
  },
  {
   "cell_type": "markdown",
   "id": "b63c5233-b8fd-4a7c-97bd-1590da5a1c3b",
   "metadata": {},
   "source": [
    "Manually search using the Label + coordinates in Google:\n",
    "* site:instagram.com/explore/locations/ \"Mock Location 2\""
   ]
  },
  {
   "cell_type": "markdown",
   "id": "831c51bb-8d93-4122-95a9-205162da2453",
   "metadata": {},
   "source": [
    "### Next try"
   ]
  },
  {
   "cell_type": "code",
   "execution_count": 3,
   "id": "7b8625e0-841d-45b1-8f23-af9aa9b33c48",
   "metadata": {},
   "outputs": [],
   "source": [
    "from SPARQLWrapper import SPARQLWrapper, JSON\n",
    "\n",
    "def fetch_trail_items():\n",
    "    sparql = SPARQLWrapper(\"https://query.wikidata.org/sparql\")\n",
    "    sparql.setQuery(\"\"\"\n",
    "      SELECT ?item ?coord ?itemLabel WHERE {\n",
    "        ?item wdt:P6104 wd:Q134294510;\n",
    "              wdt:P625 ?coord.\n",
    "        SERVICE wikibase:label { bd:serviceParam wikibase:language \"en\" }\n",
    "      }\n",
    "    \"\"\")\n",
    "    sparql.setReturnFormat(JSON)\n",
    "    results = sparql.query().convert()\n",
    "    return [{\n",
    "      \"qid\": r[\"item\"][\"value\"].split(\"/\")[-1],\n",
    "      \"label\": r[\"itemLabel\"][\"value\"],\n",
    "      \"coord\": r[\"coord\"][\"value\"].replace(\"Point(\", \"\").rstrip(\")\").split()\n",
    "    } for r in results[\"results\"][\"bindings\"]]\n"
   ]
  },
  {
   "cell_type": "code",
   "execution_count": 4,
   "id": "5feba086-f868-45d6-89c0-c0006780ab34",
   "metadata": {},
   "outputs": [
    {
     "ename": "ChallengeRequired",
     "evalue": "challenge_required",
     "output_type": "error",
     "traceback": [
      "\u001b[0;31m---------------------------------------------------------------------------\u001b[0m",
      "\u001b[0;31mHTTPError\u001b[0m                                 Traceback (most recent call last)",
      "File \u001b[0;32m/Library/Frameworks/Python.framework/Versions/3.12/lib/python3.12/site-packages/instagrapi/mixins/private.py:359\u001b[0m, in \u001b[0;36mPrivateRequestMixin._send_private_request\u001b[0;34m(self, endpoint, data, params, login, with_signature, headers, extra_sig, domain)\u001b[0m\n\u001b[1;32m    358\u001b[0m \u001b[38;5;28mself\u001b[39m\u001b[38;5;241m.\u001b[39mlast_response \u001b[38;5;241m=\u001b[39m response\n\u001b[0;32m--> 359\u001b[0m \u001b[43mresponse\u001b[49m\u001b[38;5;241;43m.\u001b[39;49m\u001b[43mraise_for_status\u001b[49m\u001b[43m(\u001b[49m\u001b[43m)\u001b[49m\n\u001b[1;32m    360\u001b[0m \u001b[38;5;66;03m# last_json - for Sentry context in traceback\u001b[39;00m\n",
      "File \u001b[0;32m/Library/Frameworks/Python.framework/Versions/3.12/lib/python3.12/site-packages/requests/models.py:1026\u001b[0m, in \u001b[0;36mResponse.raise_for_status\u001b[0;34m(self)\u001b[0m\n\u001b[1;32m   1025\u001b[0m \u001b[38;5;28;01mif\u001b[39;00m http_error_msg:\n\u001b[0;32m-> 1026\u001b[0m     \u001b[38;5;28;01mraise\u001b[39;00m HTTPError(http_error_msg, response\u001b[38;5;241m=\u001b[39m\u001b[38;5;28mself\u001b[39m)\n",
      "\u001b[0;31mHTTPError\u001b[0m: 400 Client Error: Bad Request for url: https://i.instagram.com/api/v1/feed/reels_tray/",
      "\nDuring handling of the above exception, another exception occurred:\n",
      "\u001b[0;31mChallengeRequired\u001b[0m                         Traceback (most recent call last)",
      "File \u001b[0;32m/Library/Frameworks/Python.framework/Versions/3.12/lib/python3.12/site-packages/instagrapi/mixins/private.py:535\u001b[0m, in \u001b[0;36mPrivateRequestMixin.private_request\u001b[0;34m(self, endpoint, data, params, login, with_signature, headers, extra_sig, domain)\u001b[0m\n\u001b[1;32m    534\u001b[0m     \u001b[38;5;28mself\u001b[39m\u001b[38;5;241m.\u001b[39mprivate_requests_count \u001b[38;5;241m+\u001b[39m\u001b[38;5;241m=\u001b[39m \u001b[38;5;241m1\u001b[39m\n\u001b[0;32m--> 535\u001b[0m     \u001b[38;5;28;43mself\u001b[39;49m\u001b[38;5;241;43m.\u001b[39;49m\u001b[43m_send_private_request\u001b[49m\u001b[43m(\u001b[49m\u001b[43mendpoint\u001b[49m\u001b[43m,\u001b[49m\u001b[43m \u001b[49m\u001b[38;5;241;43m*\u001b[39;49m\u001b[38;5;241;43m*\u001b[39;49m\u001b[43mkwargs\u001b[49m\u001b[43m)\u001b[49m\n\u001b[1;32m    536\u001b[0m \u001b[38;5;28;01mexcept\u001b[39;00m ClientRequestTimeout:\n",
      "File \u001b[0;32m/Library/Frameworks/Python.framework/Versions/3.12/lib/python3.12/site-packages/instagrapi/mixins/private.py:401\u001b[0m, in \u001b[0;36mPrivateRequestMixin._send_private_request\u001b[0;34m(self, endpoint, data, params, login, with_signature, headers, extra_sig, domain)\u001b[0m\n\u001b[1;32m    400\u001b[0m \u001b[38;5;28;01melif\u001b[39;00m message \u001b[38;5;241m==\u001b[39m \u001b[38;5;124m\"\u001b[39m\u001b[38;5;124mchallenge_required\u001b[39m\u001b[38;5;124m\"\u001b[39m:\n\u001b[0;32m--> 401\u001b[0m     \u001b[38;5;28;01mraise\u001b[39;00m ChallengeRequired(\u001b[38;5;241m*\u001b[39m\u001b[38;5;241m*\u001b[39mlast_json)\n\u001b[1;32m    402\u001b[0m \u001b[38;5;28;01melif\u001b[39;00m message \u001b[38;5;241m==\u001b[39m \u001b[38;5;124m\"\u001b[39m\u001b[38;5;124mfeedback_required\u001b[39m\u001b[38;5;124m\"\u001b[39m:\n",
      "\u001b[0;31mChallengeRequired\u001b[0m: challenge_required",
      "\nDuring handling of the above exception, another exception occurred:\n",
      "\u001b[0;31mHTTPError\u001b[0m                                 Traceback (most recent call last)",
      "File \u001b[0;32m/Library/Frameworks/Python.framework/Versions/3.12/lib/python3.12/site-packages/instagrapi/mixins/private.py:359\u001b[0m, in \u001b[0;36mPrivateRequestMixin._send_private_request\u001b[0;34m(self, endpoint, data, params, login, with_signature, headers, extra_sig, domain)\u001b[0m\n\u001b[1;32m    358\u001b[0m \u001b[38;5;28mself\u001b[39m\u001b[38;5;241m.\u001b[39mlast_response \u001b[38;5;241m=\u001b[39m response\n\u001b[0;32m--> 359\u001b[0m \u001b[43mresponse\u001b[49m\u001b[38;5;241;43m.\u001b[39;49m\u001b[43mraise_for_status\u001b[49m\u001b[43m(\u001b[49m\u001b[43m)\u001b[49m\n\u001b[1;32m    360\u001b[0m \u001b[38;5;66;03m# last_json - for Sentry context in traceback\u001b[39;00m\n",
      "File \u001b[0;32m/Library/Frameworks/Python.framework/Versions/3.12/lib/python3.12/site-packages/requests/models.py:1026\u001b[0m, in \u001b[0;36mResponse.raise_for_status\u001b[0;34m(self)\u001b[0m\n\u001b[1;32m   1025\u001b[0m \u001b[38;5;28;01mif\u001b[39;00m http_error_msg:\n\u001b[0;32m-> 1026\u001b[0m     \u001b[38;5;28;01mraise\u001b[39;00m HTTPError(http_error_msg, response\u001b[38;5;241m=\u001b[39m\u001b[38;5;28mself\u001b[39m)\n",
      "\u001b[0;31mHTTPError\u001b[0m: 400 Client Error: Bad Request for url: https://i.instagram.com/api/v1/feed/reels_tray/",
      "\nDuring handling of the above exception, another exception occurred:\n",
      "\u001b[0;31mChallengeRequired\u001b[0m                         Traceback (most recent call last)",
      "Cell \u001b[0;32mIn[4], line 7\u001b[0m\n\u001b[1;32m      4\u001b[0m \u001b[38;5;28;01mfrom\u001b[39;00m \u001b[38;5;21;01mSPARQLWrapper\u001b[39;00m \u001b[38;5;28;01mimport\u001b[39;00m SPARQLWrapper, JSON\n\u001b[1;32m      6\u001b[0m cl \u001b[38;5;241m=\u001b[39m Client()\n\u001b[0;32m----> 7\u001b[0m \u001b[43mcl\u001b[49m\u001b[38;5;241;43m.\u001b[39;49m\u001b[43mlogin\u001b[49m\u001b[43m(\u001b[49m\u001b[38;5;124;43m\"\u001b[39;49m\u001b[38;5;124;43msalgo60@msn.com\u001b[39;49m\u001b[38;5;124;43m\"\u001b[39;49m\u001b[43m,\u001b[49m\u001b[43m \u001b[49m\u001b[38;5;124;43m\"\u001b[39;49m\u001b[38;5;124;43msalgo60602\u001b[39;49m\u001b[38;5;124;43m\"\u001b[39;49m\u001b[43m)\u001b[49m\n\u001b[1;32m      9\u001b[0m \u001b[38;5;28;01mdef\u001b[39;00m \u001b[38;5;21mfetch_trail_items\u001b[39m():\n\u001b[1;32m     10\u001b[0m     sparql \u001b[38;5;241m=\u001b[39m SPARQLWrapper(\u001b[38;5;124m\"\u001b[39m\u001b[38;5;124mhttps://query.wikidata.org/sparql\u001b[39m\u001b[38;5;124m\"\u001b[39m)\n",
      "File \u001b[0;32m/Library/Frameworks/Python.framework/Versions/3.12/lib/python3.12/site-packages/instagrapi/mixins/auth.py:476\u001b[0m, in \u001b[0;36mLoginMixin.login\u001b[0;34m(self, username, password, relogin, verification_code)\u001b[0m\n\u001b[1;32m    472\u001b[0m     \u001b[38;5;28mself\u001b[39m\u001b[38;5;241m.\u001b[39mauthorization_data \u001b[38;5;241m=\u001b[39m \u001b[38;5;28mself\u001b[39m\u001b[38;5;241m.\u001b[39mparse_authorization(\n\u001b[1;32m    473\u001b[0m         \u001b[38;5;28mself\u001b[39m\u001b[38;5;241m.\u001b[39mlast_response\u001b[38;5;241m.\u001b[39mheaders\u001b[38;5;241m.\u001b[39mget(\u001b[38;5;124m\"\u001b[39m\u001b[38;5;124mig-set-authorization\u001b[39m\u001b[38;5;124m\"\u001b[39m)\n\u001b[1;32m    474\u001b[0m     )\n\u001b[1;32m    475\u001b[0m \u001b[38;5;28;01mif\u001b[39;00m logged:\n\u001b[0;32m--> 476\u001b[0m     \u001b[38;5;28;43mself\u001b[39;49m\u001b[38;5;241;43m.\u001b[39;49m\u001b[43mlogin_flow\u001b[49m\u001b[43m(\u001b[49m\u001b[43m)\u001b[49m\n\u001b[1;32m    477\u001b[0m     \u001b[38;5;28mself\u001b[39m\u001b[38;5;241m.\u001b[39mlast_login \u001b[38;5;241m=\u001b[39m time\u001b[38;5;241m.\u001b[39mtime()\n\u001b[1;32m    478\u001b[0m     \u001b[38;5;28;01mreturn\u001b[39;00m \u001b[38;5;28;01mTrue\u001b[39;00m\n",
      "File \u001b[0;32m/Library/Frameworks/Python.framework/Versions/3.12/lib/python3.12/site-packages/instagrapi/mixins/auth.py:186\u001b[0m, in \u001b[0;36mPostLoginFlowMixin.login_flow\u001b[0;34m(self)\u001b[0m\n\u001b[1;32m    183\u001b[0m check_flow \u001b[38;5;241m=\u001b[39m []\n\u001b[1;32m    184\u001b[0m \u001b[38;5;66;03m# chance = random.randint(1, 100) % 2 == 0\u001b[39;00m\n\u001b[1;32m    185\u001b[0m \u001b[38;5;66;03m# reason = \"pull_to_refresh\" if chance else \"cold_start\"\u001b[39;00m\n\u001b[0;32m--> 186\u001b[0m check_flow\u001b[38;5;241m.\u001b[39mappend(\u001b[38;5;28;43mself\u001b[39;49m\u001b[38;5;241;43m.\u001b[39;49m\u001b[43mget_reels_tray_feed\u001b[49m\u001b[43m(\u001b[49m\u001b[38;5;124;43m\"\u001b[39;49m\u001b[38;5;124;43mcold_start\u001b[39;49m\u001b[38;5;124;43m\"\u001b[39;49m\u001b[43m)\u001b[49m)\n\u001b[1;32m    187\u001b[0m check_flow\u001b[38;5;241m.\u001b[39mappend(\u001b[38;5;28mself\u001b[39m\u001b[38;5;241m.\u001b[39mget_timeline_feed([\u001b[38;5;124m\"\u001b[39m\u001b[38;5;124mcold_start_fetch\u001b[39m\u001b[38;5;124m\"\u001b[39m]))\n\u001b[1;32m    188\u001b[0m \u001b[38;5;28;01mreturn\u001b[39;00m \u001b[38;5;28mall\u001b[39m(check_flow)\n",
      "File \u001b[0;32m/Library/Frameworks/Python.framework/Versions/3.12/lib/python3.12/site-packages/instagrapi/mixins/auth.py:280\u001b[0m, in \u001b[0;36mPostLoginFlowMixin.get_reels_tray_feed\u001b[0;34m(self, reason)\u001b[0m\n\u001b[1;32m    278\u001b[0m \u001b[38;5;28;01melse\u001b[39;00m:\n\u001b[1;32m    279\u001b[0m     data[\u001b[38;5;124m\"\u001b[39m\u001b[38;5;124mreel_tray_impressions\u001b[39m\u001b[38;5;124m\"\u001b[39m] \u001b[38;5;241m=\u001b[39m {\u001b[38;5;28mself\u001b[39m\u001b[38;5;241m.\u001b[39muser_id: \u001b[38;5;28mstr\u001b[39m(time\u001b[38;5;241m.\u001b[39mtime())}\n\u001b[0;32m--> 280\u001b[0m \u001b[38;5;28;01mreturn\u001b[39;00m \u001b[38;5;28;43mself\u001b[39;49m\u001b[38;5;241;43m.\u001b[39;49m\u001b[43mprivate_request\u001b[49m\u001b[43m(\u001b[49m\u001b[38;5;124;43m\"\u001b[39;49m\u001b[38;5;124;43mfeed/reels_tray/\u001b[39;49m\u001b[38;5;124;43m\"\u001b[39;49m\u001b[43m,\u001b[49m\u001b[43m \u001b[49m\u001b[43mdata\u001b[49m\u001b[43m)\u001b[49m\n",
      "File \u001b[0;32m/Library/Frameworks/Python.framework/Versions/3.12/lib/python3.12/site-packages/instagrapi/mixins/private.py:554\u001b[0m, in \u001b[0;36mPrivateRequestMixin.private_request\u001b[0;34m(self, endpoint, data, params, login, with_signature, headers, extra_sig, domain)\u001b[0m\n\u001b[1;32m    551\u001b[0m     \u001b[38;5;28;01mif\u001b[39;00m login \u001b[38;5;129;01mand\u001b[39;00m \u001b[38;5;28mself\u001b[39m\u001b[38;5;241m.\u001b[39muser_id:\n\u001b[1;32m    552\u001b[0m         \u001b[38;5;66;03m# After challenge resolve return last_json\u001b[39;00m\n\u001b[1;32m    553\u001b[0m         \u001b[38;5;28;01mreturn\u001b[39;00m \u001b[38;5;28mself\u001b[39m\u001b[38;5;241m.\u001b[39mlast_json\n\u001b[0;32m--> 554\u001b[0m     \u001b[38;5;28;01mreturn\u001b[39;00m \u001b[38;5;28;43mself\u001b[39;49m\u001b[38;5;241;43m.\u001b[39;49m\u001b[43m_send_private_request\u001b[49m\u001b[43m(\u001b[49m\u001b[43mendpoint\u001b[49m\u001b[43m,\u001b[49m\u001b[43m \u001b[49m\u001b[38;5;241;43m*\u001b[39;49m\u001b[38;5;241;43m*\u001b[39;49m\u001b[43mkwargs\u001b[49m\u001b[43m)\u001b[49m\n\u001b[1;32m    555\u001b[0m \u001b[38;5;28;01mreturn\u001b[39;00m \u001b[38;5;28mself\u001b[39m\u001b[38;5;241m.\u001b[39mlast_json\n",
      "File \u001b[0;32m/Library/Frameworks/Python.framework/Versions/3.12/lib/python3.12/site-packages/instagrapi/mixins/private.py:401\u001b[0m, in \u001b[0;36mPrivateRequestMixin._send_private_request\u001b[0;34m(self, endpoint, data, params, login, with_signature, headers, extra_sig, domain)\u001b[0m\n\u001b[1;32m    399\u001b[0m     \u001b[38;5;28;01mraise\u001b[39;00m TwoFactorRequired(\u001b[38;5;241m*\u001b[39m\u001b[38;5;241m*\u001b[39mlast_json)\n\u001b[1;32m    400\u001b[0m \u001b[38;5;28;01melif\u001b[39;00m message \u001b[38;5;241m==\u001b[39m \u001b[38;5;124m\"\u001b[39m\u001b[38;5;124mchallenge_required\u001b[39m\u001b[38;5;124m\"\u001b[39m:\n\u001b[0;32m--> 401\u001b[0m     \u001b[38;5;28;01mraise\u001b[39;00m ChallengeRequired(\u001b[38;5;241m*\u001b[39m\u001b[38;5;241m*\u001b[39mlast_json)\n\u001b[1;32m    402\u001b[0m \u001b[38;5;28;01melif\u001b[39;00m message \u001b[38;5;241m==\u001b[39m \u001b[38;5;124m\"\u001b[39m\u001b[38;5;124mfeedback_required\u001b[39m\u001b[38;5;124m\"\u001b[39m:\n\u001b[1;32m    403\u001b[0m     \u001b[38;5;28;01mraise\u001b[39;00m FeedbackRequired(\n\u001b[1;32m    404\u001b[0m         \u001b[38;5;241m*\u001b[39m\u001b[38;5;241m*\u001b[39m\u001b[38;5;28mdict\u001b[39m(\n\u001b[1;32m    405\u001b[0m             last_json,\n\u001b[0;32m   (...)\u001b[0m\n\u001b[1;32m    408\u001b[0m         )\n\u001b[1;32m    409\u001b[0m     )\n",
      "\u001b[0;31mChallengeRequired\u001b[0m: challenge_required"
     ]
    }
   ],
   "source": [
    "from instagrapi import Client\n",
    "import time\n",
    "import random\n",
    "from SPARQLWrapper import SPARQLWrapper, JSON\n",
    "\n",
    "cl = Client()\n",
    "cl.login(\"salgo60@msn.com\", \"salgo\")\n",
    "\n",
    "def fetch_trail_items():\n",
    "    sparql = SPARQLWrapper(\"https://query.wikidata.org/sparql\")\n",
    "    sparql.setQuery(\"\"\"\n",
    "      SELECT ?item ?coord ?itemLabel WHERE {\n",
    "        ?item wdt:P6104 wd:Q134294510;\n",
    "              wdt:P625 ?coord.\n",
    "        SERVICE wikibase:label { bd:serviceParam wikibase:language \"en\" }\n",
    "      }\n",
    "    \"\"\")\n",
    "    sparql.setReturnFormat(JSON)\n",
    "    results = sparql.query().convert()\n",
    "    return [{\n",
    "      \"qid\": r[\"item\"][\"value\"].split(\"/\")[-1],\n",
    "      \"label\": r[\"itemLabel\"][\"value\"],\n",
    "      \"coord\": r[\"coord\"][\"value\"].replace(\"Point(\", \"\").rstrip(\")\").split()\n",
    "    } for r in results[\"results\"][\"bindings\"]]\n",
    "\n",
    "def find_instagram_location(lat, lng, retries=1):\n",
    "    try:\n",
    "        locations = cl.location_search(lat=float(lat), lng=float(lng))\n",
    "        return locations[0] if locations else None\n",
    "    except Exception as e:\n",
    "        print(f\"⚠️ Error: {e}. Retrying in 60 seconds...\")\n",
    "        if retries > 0:\n",
    "            time.sleep(60)\n",
    "            return find_instagram_location(lat, lng, retries - 1)\n",
    "        return None\n",
    "\n",
    "items = fetch_trail_items()\n",
    "qs_lines = []\n",
    "request_count = 0\n",
    "\n",
    "for i, item in enumerate(items):\n",
    "    lat, lng = item[\"coord\"][1], item[\"coord\"][0]\n",
    "    print(f\"\\n🔎 [{i+1}/{len(items)}] Processing: {item['label']} at ({lat}, {lng})\")\n",
    "\n",
    "    insta = find_instagram_location(lat, lng)\n",
    "    request_count += 1\n",
    "\n",
    "    if insta:\n",
    "        qs_line = f\"{item['qid']}\\tP4173\\t{insta.pk}\"\n",
    "        print(f\"✅ Found Instagram ID: {insta.pk} → {qs_line}\")\n",
    "        qs_lines.append(qs_line)\n",
    "    else:\n",
    "        print(\"❌ No Instagram location found.\")\n",
    "\n",
    "    sleep_time = random.uniform(10.5, 1000.5)\n",
    "    print(f\"⏳ Sleeping for {sleep_time:.1f} seconds... | Total requests so far: {request_count}\")\n",
    "    time.sleep(sleep_time)\n",
    "\n",
    "# Save to QuickStatements file\n",
    "with open(\"add_instagram_locations.qs\", \"w\") as f:\n",
    "    f.write(\"\\n\".join(qs_lines))\n",
    "\n",
    "print(f\"\\n✅ Done! Processed {len(items)} items, {len(qs_lines)} Instagram IDs found.\")\n"
   ]
  },
  {
   "cell_type": "code",
   "execution_count": null,
   "id": "ad31406c-6d50-4c4f-9d4f-53700791a0be",
   "metadata": {},
   "outputs": [],
   "source": [
    " # End timer and calculate duration\n",
    "end_time = time.time()\n",
    "elapsed_time = end_time - start_time\n",
    "\n",
    "# Print current date and total time\n",
    "print(\"Date:\", datetime.now().strftime(\"%Y-%m-%d %H:%M:%S\"))\n",
    "print(\"Total time elapsed: {:.2f} seconds\".format(elapsed_time))"
   ]
  },
  {
   "cell_type": "code",
   "execution_count": null,
   "id": "742c18eb-9398-44ed-a827-c7fb4502cfc6",
   "metadata": {},
   "outputs": [],
   "source": []
  }
 ],
 "metadata": {
  "kernelspec": {
   "display_name": "Python 3 (ipykernel)",
   "language": "python",
   "name": "python3"
  },
  "language_info": {
   "codemirror_mode": {
    "name": "ipython",
    "version": 3
   },
   "file_extension": ".py",
   "mimetype": "text/x-python",
   "name": "python",
   "nbconvert_exporter": "python",
   "pygments_lexer": "ipython3",
   "version": "3.12.2"
  }
 },
 "nbformat": 4,
 "nbformat_minor": 5
}
