{
 "cells": [
  {
   "cell_type": "markdown",
   "id": "f4cec4b2",
   "metadata": {},
   "source": [
    "# Stockholm Archipelago Trail POI Map\n",
    "This notebook fetches Stockholm Archipelago Trail sections from Wikidata and displays drinking water, toilets, restaurants, hotels, campsites and hostels within 500 m of the trail on a Folium map. \n",
    "* [Issue 153](https://github.com/salgo60/Stockholm_Archipelago_Trail/pull/153)\n",
    "* This [notebook](https://github.com/salgo60/Stockholm_Archipelago_Trail/blob/main/notebook/sat_poi_folium_map.ipynb)"
   ]
  },
  {
   "cell_type": "code",
   "execution_count": 1,
   "id": "ec02d38d-e5cc-440e-a7d8-d7a8bc38ca09",
   "metadata": {},
   "outputs": [
    {
     "name": "stdout",
     "output_type": "stream",
     "text": [
      "Start: 2025-09-07 20:10:40\n"
     ]
    }
   ],
   "source": [
    "import time\n",
    "\n",
    "from datetime import datetime\n",
    "\n",
    "now = datetime.now()\n",
    "timestamp = now.timestamp()\n",
    "\n",
    "start_time = time.time()\n",
    "print(\"Start:\", datetime.now().strftime(\"%Y-%m-%d %H:%M:%S\"))\n",
    "\n",
    "\n"
   ]
  },
  {
   "cell_type": "code",
   "execution_count": 2,
   "id": "3f4b98e4",
   "metadata": {},
   "outputs": [],
   "source": [
    "import pandas as pd\n",
    "import requests\n",
    "import folium\n"
   ]
  },
  {
   "cell_type": "code",
   "execution_count": 3,
   "id": "e8a7c518",
   "metadata": {},
   "outputs": [],
   "source": [
    "def fetch_sat_sections_from_wikidata(trail_qid: str = \"Q131318799\") -> pd.DataFrame:\n",
    "    query = f\"\"\"\n",
    "    SELECT ?section ?sectionLabel ?osmr ?osmw_p10689 ?osmw_p11693 WHERE {{\n",
    "      VALUES ?trail {{ wd:{trail_qid} }}\n",
    "      {{\n",
    "        ?section wdt:P361+ ?trail .\n",
    "      }} UNION {{\n",
    "        ?trail wdt:P527 ?section .\n",
    "      }}\n",
    "      FILTER(?section != ?trail)\n",
    "      OPTIONAL {{ ?section wdt:P402 ?osmr }}             # OSM relation id\n",
    "      OPTIONAL {{ ?section wdt:P10689 ?osmw_p10689 }}    # OSM way id (alt 1)\n",
    "      OPTIONAL {{ ?section wdt:P11693 ?osmw_p11693 }}    # OSM way id (alt 2)\n",
    "      SERVICE wikibase:label {{ bd:serviceParam wikibase:language \"sv,en\". }}\n",
    "    }}\n",
    "    ORDER BY ?sectionLabel\n",
    "    \"\"\"\n",
    "    url = \"https://query.wikidata.org/sparql\"\n",
    "    headers = {\"Accept\": \"application/sparql-results+json\"}\n",
    "    response = requests.get(url, params={\"query\": query}, headers=headers)\n",
    "    response.raise_for_status()\n",
    "    data = response.json()\n",
    "    rows = []\n",
    "    for item in data['results']['bindings']:\n",
    "        rows.append({\n",
    "            'section': item['section']['value'],\n",
    "            'sectionLabel': item.get('sectionLabel', {}).get('value'),\n",
    "            'osmr': item.get('osmr', {}).get('value'),\n",
    "            'osmw_p10689': item.get('osmw_p10689', {}).get('value'),\n",
    "            'osmw_p11693': item.get('osmw_p11693', {}).get('value'),\n",
    "        })\n",
    "    df = pd.DataFrame(rows)\n",
    "    for col in ['osmr','osmw_p10689','osmw_p11693']:\n",
    "        df[col] = pd.to_numeric(df[col], errors='coerce').astype('Int64')\n",
    "    return df\n"
   ]
  },
  {
   "cell_type": "code",
   "execution_count": 4,
   "id": "fc7ba511",
   "metadata": {},
   "outputs": [
    {
     "data": {
      "text/html": [
       "<div>\n",
       "<style scoped>\n",
       "    .dataframe tbody tr th:only-of-type {\n",
       "        vertical-align: middle;\n",
       "    }\n",
       "\n",
       "    .dataframe tbody tr th {\n",
       "        vertical-align: top;\n",
       "    }\n",
       "\n",
       "    .dataframe thead th {\n",
       "        text-align: right;\n",
       "    }\n",
       "</style>\n",
       "<table border=\"1\" class=\"dataframe\">\n",
       "  <thead>\n",
       "    <tr style=\"text-align: right;\">\n",
       "      <th></th>\n",
       "      <th>section</th>\n",
       "      <th>sectionLabel</th>\n",
       "      <th>osmr</th>\n",
       "      <th>osmw_p10689</th>\n",
       "      <th>osmw_p11693</th>\n",
       "    </tr>\n",
       "  </thead>\n",
       "  <tbody>\n",
       "    <tr>\n",
       "      <th>0</th>\n",
       "      <td>http://www.wikidata.org/entity/Q134625714</td>\n",
       "      <td>Roddbåtar att korsa mellan Finnhamn till Ingmarsö</td>\n",
       "      <td>&lt;NA&gt;</td>\n",
       "      <td>39504808</td>\n",
       "      <td>&lt;NA&gt;</td>\n",
       "    </tr>\n",
       "    <tr>\n",
       "      <th>1</th>\n",
       "      <td>http://www.wikidata.org/entity/Q133884655</td>\n",
       "      <td>Roddbåtar att korsa mellan Ingmarsö till Finnhamn</td>\n",
       "      <td>&lt;NA&gt;</td>\n",
       "      <td>39504808</td>\n",
       "      <td>&lt;NA&gt;</td>\n",
       "    </tr>\n",
       "    <tr>\n",
       "      <th>2</th>\n",
       "      <td>http://www.wikidata.org/entity/Q133374147</td>\n",
       "      <td>SAT Arholma</td>\n",
       "      <td>19012436</td>\n",
       "      <td>&lt;NA&gt;</td>\n",
       "      <td>&lt;NA&gt;</td>\n",
       "    </tr>\n",
       "    <tr>\n",
       "      <th>3</th>\n",
       "      <td>http://www.wikidata.org/entity/Q133374147</td>\n",
       "      <td>SAT Arholma</td>\n",
       "      <td>19012436</td>\n",
       "      <td>&lt;NA&gt;</td>\n",
       "      <td>&lt;NA&gt;</td>\n",
       "    </tr>\n",
       "    <tr>\n",
       "      <th>4</th>\n",
       "      <td>http://www.wikidata.org/entity/Q133724240</td>\n",
       "      <td>SAT Brottö</td>\n",
       "      <td>19141225</td>\n",
       "      <td>&lt;NA&gt;</td>\n",
       "      <td>&lt;NA&gt;</td>\n",
       "    </tr>\n",
       "  </tbody>\n",
       "</table>\n",
       "</div>"
      ],
      "text/plain": [
       "                                     section  \\\n",
       "0  http://www.wikidata.org/entity/Q134625714   \n",
       "1  http://www.wikidata.org/entity/Q133884655   \n",
       "2  http://www.wikidata.org/entity/Q133374147   \n",
       "3  http://www.wikidata.org/entity/Q133374147   \n",
       "4  http://www.wikidata.org/entity/Q133724240   \n",
       "\n",
       "                                        sectionLabel      osmr  osmw_p10689  \\\n",
       "0  Roddbåtar att korsa mellan Finnhamn till Ingmarsö      <NA>     39504808   \n",
       "1  Roddbåtar att korsa mellan Ingmarsö till Finnhamn      <NA>     39504808   \n",
       "2                                        SAT Arholma  19012436         <NA>   \n",
       "3                                        SAT Arholma  19012436         <NA>   \n",
       "4                                         SAT Brottö  19141225         <NA>   \n",
       "\n",
       "   osmw_p11693  \n",
       "0         <NA>  \n",
       "1         <NA>  \n",
       "2         <NA>  \n",
       "3         <NA>  \n",
       "4         <NA>  "
      ]
     },
     "execution_count": 4,
     "metadata": {},
     "output_type": "execute_result"
    }
   ],
   "source": [
    "sections_df = fetch_sat_sections_from_wikidata()\n",
    "sections_df.head()\n"
   ]
  },
  {
   "cell_type": "code",
   "execution_count": 5,
   "id": "02081234",
   "metadata": {},
   "outputs": [],
   "source": [
    "def fetch_pois_for_section(osm_id: int, id_type: str, dist: int = 500):\n",
    "    if id_type == 'relation':\n",
    "        pivot = f'way(r:{osm_id})'\n",
    "    else:\n",
    "        pivot = f'way({osm_id})'\n",
    "    query = f\"\"\"\n",
    "    [out:json][timeout:25];\n",
    "    {pivot}->.trail;\n",
    "    (\n",
    "      nwr(around:{dist}, .trail)[\"amenity\"=\"drinking_water\"];\n",
    "      nwr(around:{dist}, .trail)[\"amenity\"=\"toilets\"];\n",
    "      nwr(around:{dist}, .trail)[\"amenity\"=\"restaurant\"];\n",
    "      nwr(around:{dist}, .trail)[\"tourism\"=\"hotel\"];\n",
    "      nwr(around:{dist}, .trail)[\"tourism\"=\"camp_site\"];\n",
    "      nwr(around:{dist}, .trail)[\"tourism\"=\"hostel\"];\n",
    "    );\n",
    "    out center tags;\n",
    "    \"\"\"\n",
    "    response = requests.get('https://overpass-api.de/api/interpreter', params={'data': query})\n",
    "    response.raise_for_status()\n",
    "    data = response.json()\n",
    "    pois = []\n",
    "    for el in data['elements']:\n",
    "        if 'lat' in el and 'lon' in el:\n",
    "            lat, lon = el['lat'], el['lon']\n",
    "        elif 'center' in el:\n",
    "            lat, lon = el['center']['lat'], el['center']['lon']\n",
    "        else:\n",
    "            continue\n",
    "        tags = el.get('tags', {})\n",
    "        tags.update({'osm_id': el['id'], 'osm_type': el['type']})\n",
    "        pois.append({'lat': lat, 'lon': lon, **tags})\n",
    "    return pois\n"
   ]
  },
  {
   "cell_type": "code",
   "execution_count": 6,
   "id": "008d4dae",
   "metadata": {},
   "outputs": [
    {
     "ename": "HTTPError",
     "evalue": "400 Client Error: Bad Request for url: https://overpass-api.de/api/interpreter?data=%0A++++%5Bout%3Ajson%5D%5Btimeout%3A25%5D%3B%0A++++way%2839504808%29-%3E.trail%3B%0A++++%28%0A++++++nwr%28around%3A500%2C+.trail%29%5B%22amenity%22%3D%22drinking_water%22%5D%3B%0A++++++nwr%28around%3A500%2C+.trail%29%5B%22amenity%22%3D%22toilets%22%5D%3B%0A++++++nwr%28around%3A500%2C+.trail%29%5B%22amenity%22%3D%22restaurant%22%5D%3B%0A++++++nwr%28around%3A500%2C+.trail%29%5B%22tourism%22%3D%22hotel%22%5D%3B%0A++++++nwr%28around%3A500%2C+.trail%29%5B%22tourism%22%3D%22camp_site%22%5D%3B%0A++++++nwr%28around%3A500%2C+.trail%29%5B%22tourism%22%3D%22hostel%22%5D%3B%0A++++%29%3B%0A++++out+center+tags%3B%0A++++",
     "output_type": "error",
     "traceback": [
      "\u001b[0;31m---------------------------------------------------------------------------\u001b[0m",
      "\u001b[0;31mHTTPError\u001b[0m                                 Traceback (most recent call last)",
      "Cell \u001b[0;32mIn[6], line 6\u001b[0m\n\u001b[1;32m      4\u001b[0m     all_pois\u001b[38;5;241m.\u001b[39mextend(fetch_pois_for_section(\u001b[38;5;28mint\u001b[39m(row[\u001b[38;5;124m'\u001b[39m\u001b[38;5;124mosmr\u001b[39m\u001b[38;5;124m'\u001b[39m]), \u001b[38;5;124m'\u001b[39m\u001b[38;5;124mrelation\u001b[39m\u001b[38;5;124m'\u001b[39m))\n\u001b[1;32m      5\u001b[0m \u001b[38;5;28;01melif\u001b[39;00m pd\u001b[38;5;241m.\u001b[39mnotnull(row[\u001b[38;5;124m'\u001b[39m\u001b[38;5;124mosmw_p10689\u001b[39m\u001b[38;5;124m'\u001b[39m]):\n\u001b[0;32m----> 6\u001b[0m     all_pois\u001b[38;5;241m.\u001b[39mextend(\u001b[43mfetch_pois_for_section\u001b[49m\u001b[43m(\u001b[49m\u001b[38;5;28;43mint\u001b[39;49m\u001b[43m(\u001b[49m\u001b[43mrow\u001b[49m\u001b[43m[\u001b[49m\u001b[38;5;124;43m'\u001b[39;49m\u001b[38;5;124;43mosmw_p10689\u001b[39;49m\u001b[38;5;124;43m'\u001b[39;49m\u001b[43m]\u001b[49m\u001b[43m)\u001b[49m\u001b[43m,\u001b[49m\u001b[43m \u001b[49m\u001b[38;5;124;43m'\u001b[39;49m\u001b[38;5;124;43mway\u001b[39;49m\u001b[38;5;124;43m'\u001b[39;49m\u001b[43m)\u001b[49m)\n\u001b[1;32m      7\u001b[0m \u001b[38;5;28;01melif\u001b[39;00m pd\u001b[38;5;241m.\u001b[39mnotnull(row[\u001b[38;5;124m'\u001b[39m\u001b[38;5;124mosmw_p11693\u001b[39m\u001b[38;5;124m'\u001b[39m]):\n\u001b[1;32m      8\u001b[0m     all_pois\u001b[38;5;241m.\u001b[39mextend(fetch_pois_for_section(\u001b[38;5;28mint\u001b[39m(row[\u001b[38;5;124m'\u001b[39m\u001b[38;5;124mosmw_p11693\u001b[39m\u001b[38;5;124m'\u001b[39m]), \u001b[38;5;124m'\u001b[39m\u001b[38;5;124mway\u001b[39m\u001b[38;5;124m'\u001b[39m))\n",
      "Cell \u001b[0;32mIn[5], line 20\u001b[0m, in \u001b[0;36mfetch_pois_for_section\u001b[0;34m(osm_id, id_type, dist)\u001b[0m\n\u001b[1;32m      6\u001b[0m query \u001b[38;5;241m=\u001b[39m \u001b[38;5;124mf\u001b[39m\u001b[38;5;124m\"\"\"\u001b[39m\n\u001b[1;32m      7\u001b[0m \u001b[38;5;124m[out:json][timeout:25];\u001b[39m\n\u001b[1;32m      8\u001b[0m \u001b[38;5;124m\u001b[39m\u001b[38;5;132;01m{\u001b[39;00mpivot\u001b[38;5;132;01m}\u001b[39;00m\u001b[38;5;124m->.trail;\u001b[39m\n\u001b[0;32m   (...)\u001b[0m\n\u001b[1;32m     17\u001b[0m \u001b[38;5;124mout center tags;\u001b[39m\n\u001b[1;32m     18\u001b[0m \u001b[38;5;124m\u001b[39m\u001b[38;5;124m\"\"\"\u001b[39m\n\u001b[1;32m     19\u001b[0m response \u001b[38;5;241m=\u001b[39m requests\u001b[38;5;241m.\u001b[39mget(\u001b[38;5;124m'\u001b[39m\u001b[38;5;124mhttps://overpass-api.de/api/interpreter\u001b[39m\u001b[38;5;124m'\u001b[39m, params\u001b[38;5;241m=\u001b[39m{\u001b[38;5;124m'\u001b[39m\u001b[38;5;124mdata\u001b[39m\u001b[38;5;124m'\u001b[39m: query})\n\u001b[0;32m---> 20\u001b[0m \u001b[43mresponse\u001b[49m\u001b[38;5;241;43m.\u001b[39;49m\u001b[43mraise_for_status\u001b[49m\u001b[43m(\u001b[49m\u001b[43m)\u001b[49m\n\u001b[1;32m     21\u001b[0m data \u001b[38;5;241m=\u001b[39m response\u001b[38;5;241m.\u001b[39mjson()\n\u001b[1;32m     22\u001b[0m pois \u001b[38;5;241m=\u001b[39m []\n",
      "File \u001b[0;32m/Library/Frameworks/Python.framework/Versions/3.12/lib/python3.12/site-packages/requests/models.py:1026\u001b[0m, in \u001b[0;36mResponse.raise_for_status\u001b[0;34m(self)\u001b[0m\n\u001b[1;32m   1021\u001b[0m     http_error_msg \u001b[38;5;241m=\u001b[39m (\n\u001b[1;32m   1022\u001b[0m         \u001b[38;5;124mf\u001b[39m\u001b[38;5;124m\"\u001b[39m\u001b[38;5;132;01m{\u001b[39;00m\u001b[38;5;28mself\u001b[39m\u001b[38;5;241m.\u001b[39mstatus_code\u001b[38;5;132;01m}\u001b[39;00m\u001b[38;5;124m Server Error: \u001b[39m\u001b[38;5;132;01m{\u001b[39;00mreason\u001b[38;5;132;01m}\u001b[39;00m\u001b[38;5;124m for url: \u001b[39m\u001b[38;5;132;01m{\u001b[39;00m\u001b[38;5;28mself\u001b[39m\u001b[38;5;241m.\u001b[39murl\u001b[38;5;132;01m}\u001b[39;00m\u001b[38;5;124m\"\u001b[39m\n\u001b[1;32m   1023\u001b[0m     )\n\u001b[1;32m   1025\u001b[0m \u001b[38;5;28;01mif\u001b[39;00m http_error_msg:\n\u001b[0;32m-> 1026\u001b[0m     \u001b[38;5;28;01mraise\u001b[39;00m HTTPError(http_error_msg, response\u001b[38;5;241m=\u001b[39m\u001b[38;5;28mself\u001b[39m)\n",
      "\u001b[0;31mHTTPError\u001b[0m: 400 Client Error: Bad Request for url: https://overpass-api.de/api/interpreter?data=%0A++++%5Bout%3Ajson%5D%5Btimeout%3A25%5D%3B%0A++++way%2839504808%29-%3E.trail%3B%0A++++%28%0A++++++nwr%28around%3A500%2C+.trail%29%5B%22amenity%22%3D%22drinking_water%22%5D%3B%0A++++++nwr%28around%3A500%2C+.trail%29%5B%22amenity%22%3D%22toilets%22%5D%3B%0A++++++nwr%28around%3A500%2C+.trail%29%5B%22amenity%22%3D%22restaurant%22%5D%3B%0A++++++nwr%28around%3A500%2C+.trail%29%5B%22tourism%22%3D%22hotel%22%5D%3B%0A++++++nwr%28around%3A500%2C+.trail%29%5B%22tourism%22%3D%22camp_site%22%5D%3B%0A++++++nwr%28around%3A500%2C+.trail%29%5B%22tourism%22%3D%22hostel%22%5D%3B%0A++++%29%3B%0A++++out+center+tags%3B%0A++++"
     ]
    }
   ],
   "source": [
    "all_pois = []\n",
    "for _, row in sections_df.iterrows():\n",
    "    if pd.notnull(row['osmr']):\n",
    "        all_pois.extend(fetch_pois_for_section(int(row['osmr']), 'relation'))\n",
    "    elif pd.notnull(row['osmw_p10689']):\n",
    "        all_pois.extend(fetch_pois_for_section(int(row['osmw_p10689']), 'way'))\n",
    "    elif pd.notnull(row['osmw_p11693']):\n",
    "        all_pois.extend(fetch_pois_for_section(int(row['osmw_p11693']), 'way'))\n",
    "poi_df = pd.DataFrame(all_pois)\n",
    "poi_df.head()\n"
   ]
  },
  {
   "cell_type": "code",
   "execution_count": 7,
   "id": "2e2556e9",
   "metadata": {},
   "outputs": [
    {
     "ename": "NameError",
     "evalue": "name 'poi_df' is not defined",
     "output_type": "error",
     "traceback": [
      "\u001b[0;31m---------------------------------------------------------------------------\u001b[0m",
      "\u001b[0;31mNameError\u001b[0m                                 Traceback (most recent call last)",
      "Cell \u001b[0;32mIn[7], line 10\u001b[0m\n\u001b[1;32m      1\u001b[0m m \u001b[38;5;241m=\u001b[39m folium\u001b[38;5;241m.\u001b[39mMap(location\u001b[38;5;241m=\u001b[39m[\u001b[38;5;241m59.3\u001b[39m, \u001b[38;5;241m18.0\u001b[39m], zoom_start\u001b[38;5;241m=\u001b[39m\u001b[38;5;241m8\u001b[39m)\n\u001b[1;32m      2\u001b[0m category_colors \u001b[38;5;241m=\u001b[39m {\n\u001b[1;32m      3\u001b[0m     \u001b[38;5;124m'\u001b[39m\u001b[38;5;124mdrinking_water\u001b[39m\u001b[38;5;124m'\u001b[39m: \u001b[38;5;124m'\u001b[39m\u001b[38;5;124mblue\u001b[39m\u001b[38;5;124m'\u001b[39m,\n\u001b[1;32m      4\u001b[0m     \u001b[38;5;124m'\u001b[39m\u001b[38;5;124mtoilets\u001b[39m\u001b[38;5;124m'\u001b[39m: \u001b[38;5;124m'\u001b[39m\u001b[38;5;124mgreen\u001b[39m\u001b[38;5;124m'\u001b[39m,\n\u001b[0;32m   (...)\u001b[0m\n\u001b[1;32m      8\u001b[0m     \u001b[38;5;124m'\u001b[39m\u001b[38;5;124mhostel\u001b[39m\u001b[38;5;124m'\u001b[39m: \u001b[38;5;124m'\u001b[39m\u001b[38;5;124mgray\u001b[39m\u001b[38;5;124m'\u001b[39m,\n\u001b[1;32m      9\u001b[0m }\n\u001b[0;32m---> 10\u001b[0m \u001b[38;5;28;01mfor\u001b[39;00m _, feature \u001b[38;5;129;01min\u001b[39;00m \u001b[43mpoi_df\u001b[49m\u001b[38;5;241m.\u001b[39miterrows():\n\u001b[1;32m     11\u001b[0m     lat, lon \u001b[38;5;241m=\u001b[39m feature[\u001b[38;5;124m'\u001b[39m\u001b[38;5;124mlat\u001b[39m\u001b[38;5;124m'\u001b[39m], feature[\u001b[38;5;124m'\u001b[39m\u001b[38;5;124mlon\u001b[39m\u001b[38;5;124m'\u001b[39m]\n\u001b[1;32m     12\u001b[0m     \u001b[38;5;28;01mif\u001b[39;00m feature\u001b[38;5;241m.\u001b[39mget(\u001b[38;5;124m'\u001b[39m\u001b[38;5;124mamenity\u001b[39m\u001b[38;5;124m'\u001b[39m) \u001b[38;5;129;01min\u001b[39;00m category_colors:\n",
      "\u001b[0;31mNameError\u001b[0m: name 'poi_df' is not defined"
     ]
    }
   ],
   "source": [
    "m = folium.Map(location=[59.3, 18.0], zoom_start=8)\n",
    "category_colors = {\n",
    "    'drinking_water': 'blue',\n",
    "    'toilets': 'green',\n",
    "    'restaurant': 'red',\n",
    "    'hotel': 'purple',\n",
    "    'camp_site': 'orange',\n",
    "    'hostel': 'gray',\n",
    "}\n",
    "for _, feature in poi_df.iterrows():\n",
    "    lat, lon = feature['lat'], feature['lon']\n",
    "    if feature.get('amenity') in category_colors:\n",
    "        key = feature['amenity']\n",
    "    elif feature.get('tourism') in category_colors:\n",
    "        key = feature['tourism']\n",
    "    else:\n",
    "        continue\n",
    "    folium.CircleMarker([lat, lon], radius=5, color=category_colors[key], fill=True, fill_color=category_colors[key], popup=key).add_to(m)\n",
    "m\n"
   ]
  },
  {
   "cell_type": "code",
   "execution_count": null,
   "id": "7fe813c4",
   "metadata": {},
   "outputs": [],
   "source": [
    "m.save('../html/sat_153_poi_map.html')\n"
   ]
  },
  {
   "cell_type": "code",
   "execution_count": null,
   "id": "2711cc66-44c9-4871-aa2d-08a4e3c89fe2",
   "metadata": {},
   "outputs": [],
   "source": [
    "# End timer and calculate duration\n",
    "end_time = time.time()\n",
    "elapsed_time = end_time - start_time# Bygg audit-lager för den här etappen\n",
    "\n",
    "# Print current date and total time\n",
    "print(\"Date:\", datetime.now().strftime(\"%Y-%m-%d %H:%M:%S\"))\n",
    "print(\"Total time elapsed: {:.2f} seconds\".format(elapsed_time))\n"
   ]
  },
  {
   "cell_type": "code",
   "execution_count": null,
   "id": "5e8c1b90-1bd8-4020-827c-155176c0d3ce",
   "metadata": {},
   "outputs": [],
   "source": []
  }
 ],
 "metadata": {
  "kernelspec": {
   "display_name": "Python 3 (ipykernel)",
   "language": "python",
   "name": "python3"
  },
  "language_info": {
   "codemirror_mode": {
    "name": "ipython",
    "version": 3
   },
   "file_extension": ".py",
   "mimetype": "text/x-python",
   "name": "python",
   "nbconvert_exporter": "python",
   "pygments_lexer": "ipython3",
   "version": "3.12.2"
  }
 },
 "nbformat": 4,
 "nbformat_minor": 5
}
