{
 "cells": [
  {
   "cell_type": "markdown",
   "id": "96aedf9a-548c-414a-8ad8-7c8825a6502a",
   "metadata": {},
   "source": [
    "## SAT179_3_iNaturalist\n",
    "\n",
    "* [#179](https://github.com/salgo60/Stockholm_Archipelago_Trail/issues/179) \"Koppla SAT till artobservationer\"\n",
    "* notebooks\n",
    "    * [SAT179_iNaturalist.ipynb](https://github.com/salgo60/Stockholm_Archipelago_Trail/tree/main/notebook/SAT179_iNaturalist.ipynb)\n",
    "    * [SAT179_2_iNaturalist.ipynb](https://github.com/salgo60/Stockholm_Archipelago_Trail/tree/main/notebook/SAT179_2_iNaturalist.ipynb)\n",
    "    * [SAT179_3_iNaturalist.ipynb](https://github.com/salgo60/Stockholm_Archipelago_Trail/tree/main/notebook/SAT179_3_iNaturalist.ipynb)"
   ]
  },
  {
   "cell_type": "code",
   "execution_count": 1,
   "id": "a2f176ed-136b-4ae5-aa04-6bf7c8813e3c",
   "metadata": {},
   "outputs": [
    {
     "name": "stdout",
     "output_type": "stream",
     "text": [
      "Started: 2025-09-23 15:54\n"
     ]
    }
   ],
   "source": [
    "import time\n",
    "import datetime  \n",
    "start_time = time.time()\n",
    "start_str = datetime.datetime.now().strftime(\"%Y-%m-%d %H:%M\")\n",
    "print(f\"Started: {start_str}\")\n"
   ]
  },
  {
   "cell_type": "code",
   "execution_count": 3,
   "id": "c0fc3eff-4cc3-48a5-b06d-8f01b599eaee",
   "metadata": {},
   "outputs": [
    {
     "name": "stdout",
     "output_type": "stream",
     "text": [
      "Datumintervall: 2025-09-13 → 2025-09-23\n"
     ]
    },
    {
     "data": {
      "application/vnd.jupyter.widget-view+json": {
       "model_id": "d602092ca13243a4be0d8e79f65904d1",
       "version_major": 2,
       "version_minor": 0
      },
      "text/plain": [
       "Birds:   0%|          | 0/75 [00:00<?, ?page/s]"
      ]
     },
     "metadata": {},
     "output_type": "display_data"
    },
    {
     "data": {
      "application/vnd.jupyter.widget-view+json": {
       "model_id": "e21932f6e33f45bc803e1ae4489d7a99",
       "version_major": 2,
       "version_minor": 0
      },
      "text/plain": [
       "Plants:   0%|          | 0/75 [00:00<?, ?page/s]"
      ]
     },
     "metadata": {},
     "output_type": "display_data"
    },
    {
     "data": {
      "application/vnd.jupyter.widget-view+json": {
       "model_id": "23516cc9854649b292d28d05f9c57f6f",
       "version_major": 2,
       "version_minor": 0
      },
      "text/plain": [
       "Mammals:   0%|          | 0/75 [00:00<?, ?page/s]"
      ]
     },
     "metadata": {},
     "output_type": "display_data"
    },
    {
     "data": {
      "application/vnd.jupyter.widget-view+json": {
       "model_id": "6c8219f3450f430e86ea4ddfa26617cb",
       "version_major": 2,
       "version_minor": 0
      },
      "text/plain": [
       "Fungi:   0%|          | 0/75 [00:00<?, ?page/s]"
      ]
     },
     "metadata": {},
     "output_type": "display_data"
    },
    {
     "data": {
      "application/vnd.jupyter.widget-view+json": {
       "model_id": "859a082a7dca43efb5578b81e49d4532",
       "version_major": 2,
       "version_minor": 0
      },
      "text/plain": [
       "Insects:   0%|          | 0/75 [00:00<?, ?page/s]"
      ]
     },
     "metadata": {},
     "output_type": "display_data"
    },
    {
     "data": {
      "application/vnd.jupyter.widget-view+json": {
       "model_id": "4b7f15af330b4d77ad67476ee5396cdf",
       "version_major": 2,
       "version_minor": 0
      },
      "text/plain": [
       "Amphibians:   0%|          | 0/75 [00:00<?, ?page/s]"
      ]
     },
     "metadata": {},
     "output_type": "display_data"
    },
    {
     "data": {
      "application/vnd.jupyter.widget-view+json": {
       "model_id": "1284ac7abcf7431a92f4230c4c4f1e63",
       "version_major": 2,
       "version_minor": 0
      },
      "text/plain": [
       "Reptiles:   0%|          | 0/75 [00:00<?, ?page/s]"
      ]
     },
     "metadata": {},
     "output_type": "display_data"
    },
    {
     "name": "stdout",
     "output_type": "stream",
     "text": [
      "\tBackoff: 2.02s for 429\n",
      "\tBackoff: 2.93s for 429\n",
      "\tBackoff: 2.88s for 429\n"
     ]
    },
    {
     "data": {
      "application/vnd.jupyter.widget-view+json": {
       "model_id": "1cf18d053b944c078eca1fc3789a5e9a",
       "version_major": 2,
       "version_minor": 0
      },
      "text/plain": [
       "Bygger features:   0%|          | 0/7 [00:00<?, ?it/s]"
      ]
     },
     "metadata": {},
     "output_type": "display_data"
    },
    {
     "data": {
      "application/vnd.jupyter.widget-view+json": {
       "model_id": "",
       "version_major": 2,
       "version_minor": 0
      },
      "text/plain": [
       "Aves → features:   0%|          | 0/66 [00:00<?, ?it/s]"
      ]
     },
     "metadata": {},
     "output_type": "display_data"
    },
    {
     "data": {
      "application/vnd.jupyter.widget-view+json": {
       "model_id": "",
       "version_major": 2,
       "version_minor": 0
      },
      "text/plain": [
       "Plantae → features:   0%|          | 0/173 [00:00<?, ?it/s]"
      ]
     },
     "metadata": {},
     "output_type": "display_data"
    },
    {
     "data": {
      "application/vnd.jupyter.widget-view+json": {
       "model_id": "",
       "version_major": 2,
       "version_minor": 0
      },
      "text/plain": [
       "Mammalia → features:   0%|          | 0/13 [00:00<?, ?it/s]"
      ]
     },
     "metadata": {},
     "output_type": "display_data"
    },
    {
     "data": {
      "application/vnd.jupyter.widget-view+json": {
       "model_id": "",
       "version_major": 2,
       "version_minor": 0
      },
      "text/plain": [
       "Fungi → features:   0%|          | 0/591 [00:00<?, ?it/s]"
      ]
     },
     "metadata": {},
     "output_type": "display_data"
    },
    {
     "data": {
      "application/vnd.jupyter.widget-view+json": {
       "model_id": "",
       "version_major": 2,
       "version_minor": 0
      },
      "text/plain": [
       "Insecta → features:   0%|          | 0/93 [00:00<?, ?it/s]"
      ]
     },
     "metadata": {},
     "output_type": "display_data"
    },
    {
     "data": {
      "application/vnd.jupyter.widget-view+json": {
       "model_id": "",
       "version_major": 2,
       "version_minor": 0
      },
      "text/plain": [
       "Amphibia → features:   0%|          | 0/5 [00:00<?, ?it/s]"
      ]
     },
     "metadata": {},
     "output_type": "display_data"
    },
    {
     "data": {
      "application/vnd.jupyter.widget-view+json": {
       "model_id": "",
       "version_major": 2,
       "version_minor": 0
      },
      "text/plain": [
       "Reptilia → features:   0%|          | 0/8 [00:00<?, ?it/s]"
      ]
     },
     "metadata": {},
     "output_type": "display_data"
    },
    {
     "name": "stdout",
     "output_type": "stream",
     "text": [
      "Features in time layer: 45\n"
     ]
    },
    {
     "data": {
      "application/vnd.jupyter.widget-view+json": {
       "model_id": "",
       "version_major": 2,
       "version_minor": 0
      },
      "text/plain": [
       "Aves → features:   0%|          | 0/66 [00:00<?, ?it/s]"
      ]
     },
     "metadata": {},
     "output_type": "display_data"
    },
    {
     "data": {
      "application/vnd.jupyter.widget-view+json": {
       "model_id": "",
       "version_major": 2,
       "version_minor": 0
      },
      "text/plain": [
       "Plantae → features:   0%|          | 0/173 [00:00<?, ?it/s]"
      ]
     },
     "metadata": {},
     "output_type": "display_data"
    },
    {
     "data": {
      "application/vnd.jupyter.widget-view+json": {
       "model_id": "",
       "version_major": 2,
       "version_minor": 0
      },
      "text/plain": [
       "Mammalia → features:   0%|          | 0/13 [00:00<?, ?it/s]"
      ]
     },
     "metadata": {},
     "output_type": "display_data"
    },
    {
     "data": {
      "application/vnd.jupyter.widget-view+json": {
       "model_id": "",
       "version_major": 2,
       "version_minor": 0
      },
      "text/plain": [
       "Fungi → features:   0%|          | 0/591 [00:00<?, ?it/s]"
      ]
     },
     "metadata": {},
     "output_type": "display_data"
    },
    {
     "data": {
      "application/vnd.jupyter.widget-view+json": {
       "model_id": "",
       "version_major": 2,
       "version_minor": 0
      },
      "text/plain": [
       "Insecta → features:   0%|          | 0/93 [00:00<?, ?it/s]"
      ]
     },
     "metadata": {},
     "output_type": "display_data"
    },
    {
     "data": {
      "application/vnd.jupyter.widget-view+json": {
       "model_id": "",
       "version_major": 2,
       "version_minor": 0
      },
      "text/plain": [
       "Amphibia → features:   0%|          | 0/5 [00:00<?, ?it/s]"
      ]
     },
     "metadata": {},
     "output_type": "display_data"
    },
    {
     "data": {
      "application/vnd.jupyter.widget-view+json": {
       "model_id": "",
       "version_major": 2,
       "version_minor": 0
      },
      "text/plain": [
       "Reptilia → features:   0%|          | 0/8 [00:00<?, ?it/s]"
      ]
     },
     "metadata": {},
     "output_type": "display_data"
    },
    {
     "ename": "AssertionError",
     "evalue": "The field time is not available in the data. Choose from: ().",
     "output_type": "error",
     "traceback": [
      "\u001b[0;31m---------------------------------------------------------------------------\u001b[0m",
      "\u001b[0;31mAssertionError\u001b[0m                            Traceback (most recent call last)",
      "Cell \u001b[0;32mIn[3], line 619\u001b[0m\n\u001b[1;32m    615\u001b[0m     \u001b[38;5;28mprint\u001b[39m(\u001b[38;5;124mf\u001b[39m\u001b[38;5;124m\"\u001b[39m\u001b[38;5;124m✅ Sparade: \u001b[39m\u001b[38;5;132;01m{\u001b[39;00mOUTPUT_HTML\u001b[38;5;132;01m}\u001b[39;00m\u001b[38;5;124m\"\u001b[39m)\n\u001b[1;32m    618\u001b[0m \u001b[38;5;28;01mif\u001b[39;00m \u001b[38;5;18m__name__\u001b[39m \u001b[38;5;241m==\u001b[39m \u001b[38;5;124m\"\u001b[39m\u001b[38;5;124m__main__\u001b[39m\u001b[38;5;124m\"\u001b[39m:\n\u001b[0;32m--> 619\u001b[0m     \u001b[43mmain\u001b[49m\u001b[43m(\u001b[49m\u001b[43m)\u001b[49m\n",
      "Cell \u001b[0;32mIn[3], line 614\u001b[0m, in \u001b[0;36mmain\u001b[0;34m()\u001b[0m\n\u001b[1;32m    612\u001b[0m \u001b[38;5;66;03m# --- Spara ---\u001b[39;00m\n\u001b[1;32m    613\u001b[0m OUTPUT_HTML\u001b[38;5;241m.\u001b[39mparent\u001b[38;5;241m.\u001b[39mmkdir(parents\u001b[38;5;241m=\u001b[39m\u001b[38;5;28;01mTrue\u001b[39;00m, exist_ok\u001b[38;5;241m=\u001b[39m\u001b[38;5;28;01mTrue\u001b[39;00m)\n\u001b[0;32m--> 614\u001b[0m \u001b[43mm\u001b[49m\u001b[38;5;241;43m.\u001b[39;49m\u001b[43msave\u001b[49m\u001b[43m(\u001b[49m\u001b[38;5;28;43mstr\u001b[39;49m\u001b[43m(\u001b[49m\u001b[43mOUTPUT_HTML\u001b[49m\u001b[43m)\u001b[49m\u001b[43m)\u001b[49m\n\u001b[1;32m    615\u001b[0m \u001b[38;5;28mprint\u001b[39m(\u001b[38;5;124mf\u001b[39m\u001b[38;5;124m\"\u001b[39m\u001b[38;5;124m✅ Sparade: \u001b[39m\u001b[38;5;132;01m{\u001b[39;00mOUTPUT_HTML\u001b[38;5;132;01m}\u001b[39;00m\u001b[38;5;124m\"\u001b[39m)\n",
      "File \u001b[0;32m/Library/Frameworks/Python.framework/Versions/3.12/lib/python3.12/site-packages/branca/element.py:228\u001b[0m, in \u001b[0;36mElement.save\u001b[0;34m(self, outfile, close_file, **kwargs)\u001b[0m\n\u001b[1;32m    225\u001b[0m     fid \u001b[38;5;241m=\u001b[39m outfile\n\u001b[1;32m    227\u001b[0m root \u001b[38;5;241m=\u001b[39m \u001b[38;5;28mself\u001b[39m\u001b[38;5;241m.\u001b[39mget_root()\n\u001b[0;32m--> 228\u001b[0m html \u001b[38;5;241m=\u001b[39m \u001b[43mroot\u001b[49m\u001b[38;5;241;43m.\u001b[39;49m\u001b[43mrender\u001b[49m\u001b[43m(\u001b[49m\u001b[38;5;241;43m*\u001b[39;49m\u001b[38;5;241;43m*\u001b[39;49m\u001b[43mkwargs\u001b[49m\u001b[43m)\u001b[49m\n\u001b[1;32m    229\u001b[0m fid\u001b[38;5;241m.\u001b[39mwrite(html\u001b[38;5;241m.\u001b[39mencode(\u001b[38;5;124m\"\u001b[39m\u001b[38;5;124mutf8\u001b[39m\u001b[38;5;124m\"\u001b[39m))\n\u001b[1;32m    230\u001b[0m \u001b[38;5;28;01mif\u001b[39;00m close_file:\n",
      "File \u001b[0;32m/Library/Frameworks/Python.framework/Versions/3.12/lib/python3.12/site-packages/branca/element.py:405\u001b[0m, in \u001b[0;36mFigure.render\u001b[0;34m(self, **kwargs)\u001b[0m\n\u001b[1;32m    403\u001b[0m \u001b[38;5;250m\u001b[39m\u001b[38;5;124;03m\"\"\"Renders the HTML representation of the element.\"\"\"\u001b[39;00m\n\u001b[1;32m    404\u001b[0m \u001b[38;5;28;01mfor\u001b[39;00m name, child \u001b[38;5;129;01min\u001b[39;00m \u001b[38;5;28mself\u001b[39m\u001b[38;5;241m.\u001b[39m_children\u001b[38;5;241m.\u001b[39mitems():\n\u001b[0;32m--> 405\u001b[0m     \u001b[43mchild\u001b[49m\u001b[38;5;241;43m.\u001b[39;49m\u001b[43mrender\u001b[49m\u001b[43m(\u001b[49m\u001b[38;5;241;43m*\u001b[39;49m\u001b[38;5;241;43m*\u001b[39;49m\u001b[43mkwargs\u001b[49m\u001b[43m)\u001b[49m\n\u001b[1;32m    406\u001b[0m \u001b[38;5;28;01mreturn\u001b[39;00m \u001b[38;5;28mself\u001b[39m\u001b[38;5;241m.\u001b[39m_template\u001b[38;5;241m.\u001b[39mrender(this\u001b[38;5;241m=\u001b[39m\u001b[38;5;28mself\u001b[39m, kwargs\u001b[38;5;241m=\u001b[39mkwargs)\n",
      "File \u001b[0;32m/Library/Frameworks/Python.framework/Versions/3.12/lib/python3.12/site-packages/folium/elements.py:46\u001b[0m, in \u001b[0;36mJSCSSMixin.render\u001b[0;34m(self, **kwargs)\u001b[0m\n\u001b[1;32m     43\u001b[0m \u001b[38;5;28;01mfor\u001b[39;00m name, url \u001b[38;5;129;01min\u001b[39;00m \u001b[38;5;28mself\u001b[39m\u001b[38;5;241m.\u001b[39mdefault_css:\n\u001b[1;32m     44\u001b[0m     figure\u001b[38;5;241m.\u001b[39mheader\u001b[38;5;241m.\u001b[39madd_child(CssLink(url), name\u001b[38;5;241m=\u001b[39mname)\n\u001b[0;32m---> 46\u001b[0m \u001b[38;5;28;43msuper\u001b[39;49m\u001b[43m(\u001b[49m\u001b[43m)\u001b[49m\u001b[38;5;241;43m.\u001b[39;49m\u001b[43mrender\u001b[49m\u001b[43m(\u001b[49m\u001b[38;5;241;43m*\u001b[39;49m\u001b[38;5;241;43m*\u001b[39;49m\u001b[43mkwargs\u001b[49m\u001b[43m)\u001b[49m\n",
      "File \u001b[0;32m/Library/Frameworks/Python.framework/Versions/3.12/lib/python3.12/site-packages/folium/map.py:73\u001b[0m, in \u001b[0;36mClass.render\u001b[0;34m(self, **kwargs)\u001b[0m\n\u001b[1;32m     64\u001b[0m     \u001b[38;5;66;03m# A bit weird. I tried adding IncludeStatement directly to both\u001b[39;00m\n\u001b[1;32m     65\u001b[0m     \u001b[38;5;66;03m# figure and script, but failed. So we render this ourself.\u001b[39;00m\n\u001b[1;32m     66\u001b[0m     figure\u001b[38;5;241m.\u001b[39mscript\u001b[38;5;241m.\u001b[39madd_child(\n\u001b[1;32m     67\u001b[0m         Element(stmt\u001b[38;5;241m.\u001b[39m_template\u001b[38;5;241m.\u001b[39mrender(this\u001b[38;5;241m=\u001b[39mstmt, kwargs\u001b[38;5;241m=\u001b[39m\u001b[38;5;28mself\u001b[39m\u001b[38;5;241m.\u001b[39mincludes)),\n\u001b[1;32m     68\u001b[0m         \u001b[38;5;66;03m# make sure each class include gets rendered only once\u001b[39;00m\n\u001b[0;32m   (...)\u001b[0m\n\u001b[1;32m     71\u001b[0m         index\u001b[38;5;241m=\u001b[39m\u001b[38;5;241m-\u001b[39m\u001b[38;5;241m1\u001b[39m,\n\u001b[1;32m     72\u001b[0m     )\n\u001b[0;32m---> 73\u001b[0m \u001b[38;5;28;43msuper\u001b[39;49m\u001b[43m(\u001b[49m\u001b[43m)\u001b[49m\u001b[38;5;241;43m.\u001b[39;49m\u001b[43mrender\u001b[49m\u001b[43m(\u001b[49m\u001b[38;5;241;43m*\u001b[39;49m\u001b[38;5;241;43m*\u001b[39;49m\u001b[43mkwargs\u001b[49m\u001b[43m)\u001b[49m\n",
      "File \u001b[0;32m/Library/Frameworks/Python.framework/Versions/3.12/lib/python3.12/site-packages/branca/element.py:736\u001b[0m, in \u001b[0;36mMacroElement.render\u001b[0;34m(self, **kwargs)\u001b[0m\n\u001b[1;32m    733\u001b[0m     figure\u001b[38;5;241m.\u001b[39mscript\u001b[38;5;241m.\u001b[39madd_child(Element(script(\u001b[38;5;28mself\u001b[39m, kwargs)), name\u001b[38;5;241m=\u001b[39m\u001b[38;5;28mself\u001b[39m\u001b[38;5;241m.\u001b[39mget_name())\n\u001b[1;32m    735\u001b[0m \u001b[38;5;28;01mfor\u001b[39;00m name, element \u001b[38;5;129;01min\u001b[39;00m \u001b[38;5;28mself\u001b[39m\u001b[38;5;241m.\u001b[39m_children\u001b[38;5;241m.\u001b[39mitems():\n\u001b[0;32m--> 736\u001b[0m     \u001b[43melement\u001b[49m\u001b[38;5;241;43m.\u001b[39;49m\u001b[43mrender\u001b[49m\u001b[43m(\u001b[49m\u001b[38;5;241;43m*\u001b[39;49m\u001b[38;5;241;43m*\u001b[39;49m\u001b[43mkwargs\u001b[49m\u001b[43m)\u001b[49m\n",
      "File \u001b[0;32m/Library/Frameworks/Python.framework/Versions/3.12/lib/python3.12/site-packages/folium/map.py:137\u001b[0m, in \u001b[0;36mLayer.render\u001b[0;34m(self, **kwargs)\u001b[0m\n\u001b[1;32m    129\u001b[0m \u001b[38;5;28;01mif\u001b[39;00m \u001b[38;5;28mself\u001b[39m\u001b[38;5;241m.\u001b[39mshow:\n\u001b[1;32m    130\u001b[0m     \u001b[38;5;28mself\u001b[39m\u001b[38;5;241m.\u001b[39madd_child(\n\u001b[1;32m    131\u001b[0m         ElementAddToElement(\n\u001b[1;32m    132\u001b[0m             element_name\u001b[38;5;241m=\u001b[39m\u001b[38;5;28mself\u001b[39m\u001b[38;5;241m.\u001b[39mget_name(),\n\u001b[0;32m   (...)\u001b[0m\n\u001b[1;32m    135\u001b[0m         name\u001b[38;5;241m=\u001b[39m\u001b[38;5;28mself\u001b[39m\u001b[38;5;241m.\u001b[39mget_name() \u001b[38;5;241m+\u001b[39m \u001b[38;5;124m\"\u001b[39m\u001b[38;5;124m_add\u001b[39m\u001b[38;5;124m\"\u001b[39m,\n\u001b[1;32m    136\u001b[0m     )\n\u001b[0;32m--> 137\u001b[0m \u001b[38;5;28;43msuper\u001b[39;49m\u001b[43m(\u001b[49m\u001b[43m)\u001b[49m\u001b[38;5;241;43m.\u001b[39;49m\u001b[43mrender\u001b[49m\u001b[43m(\u001b[49m\u001b[38;5;241;43m*\u001b[39;49m\u001b[38;5;241;43m*\u001b[39;49m\u001b[43mkwargs\u001b[49m\u001b[43m)\u001b[49m\n",
      "File \u001b[0;32m/Library/Frameworks/Python.framework/Versions/3.12/lib/python3.12/site-packages/folium/map.py:73\u001b[0m, in \u001b[0;36mClass.render\u001b[0;34m(self, **kwargs)\u001b[0m\n\u001b[1;32m     64\u001b[0m     \u001b[38;5;66;03m# A bit weird. I tried adding IncludeStatement directly to both\u001b[39;00m\n\u001b[1;32m     65\u001b[0m     \u001b[38;5;66;03m# figure and script, but failed. So we render this ourself.\u001b[39;00m\n\u001b[1;32m     66\u001b[0m     figure\u001b[38;5;241m.\u001b[39mscript\u001b[38;5;241m.\u001b[39madd_child(\n\u001b[1;32m     67\u001b[0m         Element(stmt\u001b[38;5;241m.\u001b[39m_template\u001b[38;5;241m.\u001b[39mrender(this\u001b[38;5;241m=\u001b[39mstmt, kwargs\u001b[38;5;241m=\u001b[39m\u001b[38;5;28mself\u001b[39m\u001b[38;5;241m.\u001b[39mincludes)),\n\u001b[1;32m     68\u001b[0m         \u001b[38;5;66;03m# make sure each class include gets rendered only once\u001b[39;00m\n\u001b[0;32m   (...)\u001b[0m\n\u001b[1;32m     71\u001b[0m         index\u001b[38;5;241m=\u001b[39m\u001b[38;5;241m-\u001b[39m\u001b[38;5;241m1\u001b[39m,\n\u001b[1;32m     72\u001b[0m     )\n\u001b[0;32m---> 73\u001b[0m \u001b[38;5;28;43msuper\u001b[39;49m\u001b[43m(\u001b[49m\u001b[43m)\u001b[49m\u001b[38;5;241;43m.\u001b[39;49m\u001b[43mrender\u001b[49m\u001b[43m(\u001b[49m\u001b[38;5;241;43m*\u001b[39;49m\u001b[38;5;241;43m*\u001b[39;49m\u001b[43mkwargs\u001b[49m\u001b[43m)\u001b[49m\n",
      "File \u001b[0;32m/Library/Frameworks/Python.framework/Versions/3.12/lib/python3.12/site-packages/branca/element.py:736\u001b[0m, in \u001b[0;36mMacroElement.render\u001b[0;34m(self, **kwargs)\u001b[0m\n\u001b[1;32m    733\u001b[0m     figure\u001b[38;5;241m.\u001b[39mscript\u001b[38;5;241m.\u001b[39madd_child(Element(script(\u001b[38;5;28mself\u001b[39m, kwargs)), name\u001b[38;5;241m=\u001b[39m\u001b[38;5;28mself\u001b[39m\u001b[38;5;241m.\u001b[39mget_name())\n\u001b[1;32m    735\u001b[0m \u001b[38;5;28;01mfor\u001b[39;00m name, element \u001b[38;5;129;01min\u001b[39;00m \u001b[38;5;28mself\u001b[39m\u001b[38;5;241m.\u001b[39m_children\u001b[38;5;241m.\u001b[39mitems():\n\u001b[0;32m--> 736\u001b[0m     \u001b[43melement\u001b[49m\u001b[38;5;241;43m.\u001b[39;49m\u001b[43mrender\u001b[49m\u001b[43m(\u001b[49m\u001b[38;5;241;43m*\u001b[39;49m\u001b[38;5;241;43m*\u001b[39;49m\u001b[43mkwargs\u001b[49m\u001b[43m)\u001b[49m\n",
      "File \u001b[0;32m/Library/Frameworks/Python.framework/Versions/3.12/lib/python3.12/site-packages/folium/features.py:871\u001b[0m, in \u001b[0;36mGeoJson.render\u001b[0;34m(self, **kwargs)\u001b[0m\n\u001b[1;32m    869\u001b[0m     \u001b[38;5;28;01mif\u001b[39;00m \u001b[38;5;28mself\u001b[39m\u001b[38;5;241m.\u001b[39mhighlight:\n\u001b[1;32m    870\u001b[0m         \u001b[38;5;28mself\u001b[39m\u001b[38;5;241m.\u001b[39mhighlight_map \u001b[38;5;241m=\u001b[39m mapper\u001b[38;5;241m.\u001b[39mget_highlight_map(\u001b[38;5;28mself\u001b[39m\u001b[38;5;241m.\u001b[39mhighlight_function)\n\u001b[0;32m--> 871\u001b[0m \u001b[38;5;28;43msuper\u001b[39;49m\u001b[43m(\u001b[49m\u001b[43m)\u001b[49m\u001b[38;5;241;43m.\u001b[39;49m\u001b[43mrender\u001b[49m\u001b[43m(\u001b[49m\u001b[43m)\u001b[49m\n",
      "File \u001b[0;32m/Library/Frameworks/Python.framework/Versions/3.12/lib/python3.12/site-packages/folium/map.py:137\u001b[0m, in \u001b[0;36mLayer.render\u001b[0;34m(self, **kwargs)\u001b[0m\n\u001b[1;32m    129\u001b[0m \u001b[38;5;28;01mif\u001b[39;00m \u001b[38;5;28mself\u001b[39m\u001b[38;5;241m.\u001b[39mshow:\n\u001b[1;32m    130\u001b[0m     \u001b[38;5;28mself\u001b[39m\u001b[38;5;241m.\u001b[39madd_child(\n\u001b[1;32m    131\u001b[0m         ElementAddToElement(\n\u001b[1;32m    132\u001b[0m             element_name\u001b[38;5;241m=\u001b[39m\u001b[38;5;28mself\u001b[39m\u001b[38;5;241m.\u001b[39mget_name(),\n\u001b[0;32m   (...)\u001b[0m\n\u001b[1;32m    135\u001b[0m         name\u001b[38;5;241m=\u001b[39m\u001b[38;5;28mself\u001b[39m\u001b[38;5;241m.\u001b[39mget_name() \u001b[38;5;241m+\u001b[39m \u001b[38;5;124m\"\u001b[39m\u001b[38;5;124m_add\u001b[39m\u001b[38;5;124m\"\u001b[39m,\n\u001b[1;32m    136\u001b[0m     )\n\u001b[0;32m--> 137\u001b[0m \u001b[38;5;28;43msuper\u001b[39;49m\u001b[43m(\u001b[49m\u001b[43m)\u001b[49m\u001b[38;5;241;43m.\u001b[39;49m\u001b[43mrender\u001b[49m\u001b[43m(\u001b[49m\u001b[38;5;241;43m*\u001b[39;49m\u001b[38;5;241;43m*\u001b[39;49m\u001b[43mkwargs\u001b[49m\u001b[43m)\u001b[49m\n",
      "File \u001b[0;32m/Library/Frameworks/Python.framework/Versions/3.12/lib/python3.12/site-packages/folium/map.py:73\u001b[0m, in \u001b[0;36mClass.render\u001b[0;34m(self, **kwargs)\u001b[0m\n\u001b[1;32m     64\u001b[0m     \u001b[38;5;66;03m# A bit weird. I tried adding IncludeStatement directly to both\u001b[39;00m\n\u001b[1;32m     65\u001b[0m     \u001b[38;5;66;03m# figure and script, but failed. So we render this ourself.\u001b[39;00m\n\u001b[1;32m     66\u001b[0m     figure\u001b[38;5;241m.\u001b[39mscript\u001b[38;5;241m.\u001b[39madd_child(\n\u001b[1;32m     67\u001b[0m         Element(stmt\u001b[38;5;241m.\u001b[39m_template\u001b[38;5;241m.\u001b[39mrender(this\u001b[38;5;241m=\u001b[39mstmt, kwargs\u001b[38;5;241m=\u001b[39m\u001b[38;5;28mself\u001b[39m\u001b[38;5;241m.\u001b[39mincludes)),\n\u001b[1;32m     68\u001b[0m         \u001b[38;5;66;03m# make sure each class include gets rendered only once\u001b[39;00m\n\u001b[0;32m   (...)\u001b[0m\n\u001b[1;32m     71\u001b[0m         index\u001b[38;5;241m=\u001b[39m\u001b[38;5;241m-\u001b[39m\u001b[38;5;241m1\u001b[39m,\n\u001b[1;32m     72\u001b[0m     )\n\u001b[0;32m---> 73\u001b[0m \u001b[38;5;28;43msuper\u001b[39;49m\u001b[43m(\u001b[49m\u001b[43m)\u001b[49m\u001b[38;5;241;43m.\u001b[39;49m\u001b[43mrender\u001b[49m\u001b[43m(\u001b[49m\u001b[38;5;241;43m*\u001b[39;49m\u001b[38;5;241;43m*\u001b[39;49m\u001b[43mkwargs\u001b[49m\u001b[43m)\u001b[49m\n",
      "File \u001b[0;32m/Library/Frameworks/Python.framework/Versions/3.12/lib/python3.12/site-packages/branca/element.py:736\u001b[0m, in \u001b[0;36mMacroElement.render\u001b[0;34m(self, **kwargs)\u001b[0m\n\u001b[1;32m    733\u001b[0m     figure\u001b[38;5;241m.\u001b[39mscript\u001b[38;5;241m.\u001b[39madd_child(Element(script(\u001b[38;5;28mself\u001b[39m, kwargs)), name\u001b[38;5;241m=\u001b[39m\u001b[38;5;28mself\u001b[39m\u001b[38;5;241m.\u001b[39mget_name())\n\u001b[1;32m    735\u001b[0m \u001b[38;5;28;01mfor\u001b[39;00m name, element \u001b[38;5;129;01min\u001b[39;00m \u001b[38;5;28mself\u001b[39m\u001b[38;5;241m.\u001b[39m_children\u001b[38;5;241m.\u001b[39mitems():\n\u001b[0;32m--> 736\u001b[0m     \u001b[43melement\u001b[49m\u001b[38;5;241;43m.\u001b[39;49m\u001b[43mrender\u001b[49m\u001b[43m(\u001b[49m\u001b[38;5;241;43m*\u001b[39;49m\u001b[38;5;241;43m*\u001b[39;49m\u001b[43mkwargs\u001b[49m\u001b[43m)\u001b[49m\n",
      "File \u001b[0;32m/Library/Frameworks/Python.framework/Versions/3.12/lib/python3.12/site-packages/folium/features.py:1235\u001b[0m, in \u001b[0;36mGeoJsonDetail.render\u001b[0;34m(self, **kwargs)\u001b[0m\n\u001b[1;32m   1233\u001b[0m keys \u001b[38;5;241m=\u001b[39m \u001b[38;5;28mtuple\u001b[39m(x \u001b[38;5;28;01mfor\u001b[39;00m x \u001b[38;5;129;01min\u001b[39;00m keys \u001b[38;5;28;01mif\u001b[39;00m x \u001b[38;5;129;01mnot\u001b[39;00m \u001b[38;5;129;01min\u001b[39;00m (\u001b[38;5;124m\"\u001b[39m\u001b[38;5;124mstyle\u001b[39m\u001b[38;5;124m\"\u001b[39m, \u001b[38;5;124m\"\u001b[39m\u001b[38;5;124mhighlight\u001b[39m\u001b[38;5;124m\"\u001b[39m))\n\u001b[1;32m   1234\u001b[0m \u001b[38;5;28;01mfor\u001b[39;00m value \u001b[38;5;129;01min\u001b[39;00m \u001b[38;5;28mself\u001b[39m\u001b[38;5;241m.\u001b[39mfields:\n\u001b[0;32m-> 1235\u001b[0m     \u001b[38;5;28;01massert\u001b[39;00m (\n\u001b[1;32m   1236\u001b[0m         value \u001b[38;5;129;01min\u001b[39;00m keys\n\u001b[1;32m   1237\u001b[0m     ), \u001b[38;5;124mf\u001b[39m\u001b[38;5;124m\"\u001b[39m\u001b[38;5;124mThe field \u001b[39m\u001b[38;5;132;01m{\u001b[39;00mvalue\u001b[38;5;132;01m}\u001b[39;00m\u001b[38;5;124m is not available in the data. Choose from: \u001b[39m\u001b[38;5;132;01m{\u001b[39;00mkeys\u001b[38;5;132;01m}\u001b[39;00m\u001b[38;5;124m.\u001b[39m\u001b[38;5;124m\"\u001b[39m\n\u001b[1;32m   1238\u001b[0m figure\u001b[38;5;241m.\u001b[39mheader\u001b[38;5;241m.\u001b[39madd_child(\n\u001b[1;32m   1239\u001b[0m     Element(\n\u001b[1;32m   1240\u001b[0m         Template(\n\u001b[0;32m   (...)\u001b[0m\n\u001b[1;32m   1259\u001b[0m     name\u001b[38;5;241m=\u001b[39m\u001b[38;5;28mself\u001b[39m\u001b[38;5;241m.\u001b[39mget_name() \u001b[38;5;241m+\u001b[39m \u001b[38;5;124m\"\u001b[39m\u001b[38;5;124mtablestyle\u001b[39m\u001b[38;5;124m\"\u001b[39m,\n\u001b[1;32m   1260\u001b[0m )\n\u001b[1;32m   1262\u001b[0m \u001b[38;5;28msuper\u001b[39m()\u001b[38;5;241m.\u001b[39mrender()\n",
      "\u001b[0;31mAssertionError\u001b[0m: The field time is not available in the data. Choose from: ()."
     ]
    }
   ],
   "source": [
    "\"\"\"\n",
    "SAT iNaturalist – cleaned POC\n",
    "---------------------------------\n",
    "A tidy, single-file proof‑of‑concept that fetches recent iNaturalist observations\n",
    "near the Stockholm Archipelago Trail (SAT) and renders:\n",
    "  • A time slider (TimestampedGeoJson)\n",
    "  • A static points layer with popups and colored styling per iconic taxon\n",
    "  • The SAT line and a 2 km search buffer\n",
    "  • A compact About box with project links\n",
    "\n",
    "Notes\n",
    "- Written to be robust against iNat rate limits (backoff + jitter) and 414 (URI too long) on polygons.\n",
    "- Keeps Swedish labels/comments where helpful.\n",
    "- Avoids duplicate code, fixes missing imports, and guards JSON serialization.\n",
    "\n",
    "Prereqs: pip install folium shapely requests tqdm branca jinja2\n",
    "Input:   SAT_full.geojson (trail geometry)\n",
    "Output:  output/179_inat_taxa_layers_colored.html\n",
    "\"\"\"\n",
    "from __future__ import annotations\n",
    "\n",
    "import html\n",
    "import json\n",
    "import random\n",
    "import time\n",
    "from collections.abc import Mapping\n",
    "from dataclasses import dataclass\n",
    "from datetime import date, datetime as dt, timedelta\n",
    "from pathlib import Path\n",
    "from typing import Any, Iterable\n",
    "\n",
    "import requests\n",
    "import folium\n",
    "from folium.plugins import TimestampedGeoJson\n",
    "from shapely.geometry import (\n",
    "    LineString,\n",
    "    MultiLineString,\n",
    "    Point,\n",
    "    Polygon,\n",
    "    shape,\n",
    "    mapping,\n",
    ")\n",
    "from shapely.ops import unary_union\n",
    "\n",
    "# ---- Progressbar (fallback till no-op) ----\n",
    "try:\n",
    "    from tqdm.auto import tqdm  # type: ignore\n",
    "except Exception:  # pragma: no cover\n",
    "    def tqdm(x: Iterable, **_: Any) -> Iterable:\n",
    "        return x\n",
    "\n",
    "# ============================ Konstanter ============================\n",
    "INAT_URL = \"https://api.inaturalist.org/v1/observations\"\n",
    "TRAIL_FILE = Path(\"SAT_full.geojson\")\n",
    "OUTPUT_HTML = Path(\"output/179_inat_taxa_layers_colored.html\")\n",
    "BUFFER_DEG = 0.02  # ~2000 m vid 59–60°N\n",
    "\n",
    "TAXON_COLORS: dict[str, str] = {\n",
    "    \"Plantae\": \"#2b8a3e\",\n",
    "    \"Aves\": \"#1d4ed8\",\n",
    "    \"Mammalia\": \"#78350f\",\n",
    "    \"Reptilia\": \"#059669\",\n",
    "    \"Amphibia\": \"#14b8a6\",\n",
    "    \"Insecta\": \"#eab308\",\n",
    "    \"Arachnida\": \"#7f1d1d\",\n",
    "    \"Mollusca\": \"#9333ea\",\n",
    "    \"Animalia\": \"#6b7280\",\n",
    "    \"Fungi\": \"#6b21a8\",\n",
    "}\n",
    "\n",
    "TAXA_GROUPS: list[tuple[str, str]] = [\n",
    "    (\"Aves\", \"Birds\"),\n",
    "    (\"Plantae\", \"Plants\"),\n",
    "    (\"Mammalia\", \"Mammals\"),\n",
    "    (\"Fungi\", \"Fungi\"),\n",
    "    (\"Insecta\", \"Insects\"),\n",
    "    (\"Amphibia\", \"Amphibians\"),\n",
    "    (\"Reptilia\", \"Reptiles\"),\n",
    "]\n",
    "\n",
    "# ============================ Hjälpfunktioner ============================\n",
    "\n",
    "def _get_with_backoff(url: str, params: dict[str, Any], *, timeout: int = 30, tries: int = 5, base_wait: float = 2.0) -> requests.Response:\n",
    "    \"\"\"GET med exponential backoff + jitter. Hanterar 429/5xx.\n",
    "    Höjer för övriga statuskoder.\n",
    "    \"\"\"\n",
    "    attempt = 0\n",
    "    while True:\n",
    "        r = requests.get(url, params=params, timeout=timeout)\n",
    "        if r.status_code in (429, 500, 502, 503, 504):\n",
    "            attempt += 1\n",
    "            if attempt >= tries:\n",
    "                r.raise_for_status()\n",
    "            wait = (base_wait ** attempt) + random.uniform(0, 1)\n",
    "            print(\"\\tBackoff:\", f\"{wait:.2f}s\", \"for\", r.status_code)\n",
    "            time.sleep(wait)\n",
    "            continue\n",
    "        r.raise_for_status()\n",
    "        return r\n",
    "\n",
    "\n",
    "def _polygon_param_from_poly(poly: Polygon, *, simplify_tol: float = 0.0002, step: int = 1) -> str:\n",
    "    p = poly.simplify(simplify_tol, preserve_topology=True)\n",
    "    ring = list(p.exterior.coords)[::step]\n",
    "    if ring[0] != ring[-1]:\n",
    "        ring.append(ring[0])\n",
    "    return \",\".join(f\"{lng},{lat}\" for (lng, lat) in ring)\n",
    "\n",
    "\n",
    "def _bbox_params_from_poly(poly: Polygon) -> dict[str, float]:\n",
    "    minx, miny, maxx, maxy = poly.bounds\n",
    "    return {\"swlng\": minx, \"swlat\": miny, \"nelng\": maxx, \"nelat\": maxy}\n",
    "\n",
    "\n",
    "def _obs_in_geom(o: dict[str, Any], geom: Polygon) -> bool:\n",
    "    gj = o.get(\"geojson\")\n",
    "    if not (isinstance(gj, dict) and isinstance(gj.get(\"coordinates\"), (list, tuple)) and len(gj[\"coordinates\"]) >= 2):\n",
    "        return False\n",
    "    lon, lat = gj[\"coordinates\"][:2]\n",
    "    try:\n",
    "        pt = Point(lon, lat)\n",
    "        return geom.contains(pt) or geom.touches(pt)\n",
    "    except Exception:\n",
    "        return False\n",
    "\n",
    "\n",
    "def _obs_to_feature(o: dict[str, Any], *, color: str = \"#3388ff\", radius: int = 4, fill_opacity: float = 0.6) -> dict[str, Any] | None:\n",
    "    gj = o.get(\"geojson\") or {}\n",
    "    if not (isinstance(gj.get(\"coordinates\"), (list, tuple)) and len(gj[\"coordinates\"]) >= 2):\n",
    "        return None\n",
    "    lon, lat = gj[\"coordinates\"][:2]\n",
    "\n",
    "    # Preferera full ISO-tid; fallback till datum\n",
    "    obs_time = o.get(\"time_observed_at\") or o.get(\"observed_on\") or o.get(\"created_at\")\n",
    "    if not obs_time:\n",
    "        return None\n",
    "    if len(obs_time) > 10:\n",
    "        obs_time = obs_time[:10]\n",
    "\n",
    "    taxon = o.get(\"taxon\") or {}\n",
    "    cname = taxon.get(\"preferred_common_name\") or taxon.get(\"name\") or \"okänd\"\n",
    "    sname = taxon.get(\"name\") or \"\"\n",
    "    oid = o.get(\"id\", \"\")\n",
    "    url = f\"https://www.inaturalist.org/observations/{oid}\"\n",
    "    api = f\"https://api.inaturalist.org/v1/observations/{oid}\"\n",
    "\n",
    "    img = \"\"\n",
    "    photos = o.get(\"photos\") or []\n",
    "    if photos:\n",
    "        raw = photos[0].get(\"url\", \"\")\n",
    "        if raw:\n",
    "            img = raw.replace(\"square\", \"medium\")\n",
    "\n",
    "    popup = f\"<b>{html.escape(cname)}</b><br><i>{html.escape(sname)}</i><br>{html.escape(obs_time)}<br>\"\n",
    "    if img:\n",
    "        popup += f\"<img src='{html.escape(img)}' width='220'><br>\"\n",
    "    popup += f\"<a href='{html.escape(url)}' target='_blank'>Visa i iNaturalist</a> · \"\n",
    "    popup += f\"<a href='{html.escape(api)}' target='_blank'>API JSON</a>\"\n",
    "\n",
    "    return {\n",
    "        \"type\": \"Feature\",\n",
    "        \"geometry\": {\"type\": \"Point\", \"coordinates\": [lon, lat]},\n",
    "        \"properties\": {\n",
    "            \"time\": obs_time,  # för tidsreglaget\n",
    "            \"popup\": popup,\n",
    "            \"icon\": \"circle\",\n",
    "            \"iconstyle\": {\"color\": color, \"fillColor\": color, \"fillOpacity\": 0.8},\n",
    "            \"style\": {\"radius\": radius, \"color\": color, \"fillColor\": color, \"fillOpacity\": fill_opacity},\n",
    "            \"radius\": radius,\n",
    "        },\n",
    "    }\n",
    "\n",
    "\n",
    "def _to_feature_collection(obs: list[dict[str, Any]], *, clip_geom: Polygon, color: str, desc: str, radius: int = 4, fill_opacity: float = 0.6) -> tuple[dict[str, Any], list[tuple[float, float]], int]:\n",
    "    feats: list[dict[str, Any]] = []\n",
    "    bounds: list[tuple[float, float]] = []\n",
    "    skipped = 0\n",
    "    for o in tqdm(obs, desc=desc, leave=False):\n",
    "        if not _obs_in_geom(o, clip_geom):\n",
    "            skipped += 1\n",
    "            continue\n",
    "        f = _obs_to_feature(o, color=color, radius=radius, fill_opacity=fill_opacity)\n",
    "        if f:\n",
    "            feats.append(f)\n",
    "            lon, lat = f[\"geometry\"][\"coordinates\"]\n",
    "            bounds.append((lat, lon))\n",
    "        else:\n",
    "            skipped += 1\n",
    "    return {\"type\": \"FeatureCollection\", \"features\": feats}, bounds, skipped\n",
    "\n",
    "\n",
    "# ============================ iNat fetchers ============================\n",
    "\n",
    "def _inat_query_for_polygon(\n",
    "    poly: Polygon,\n",
    "    params_base: dict[str, Any],\n",
    "    *,\n",
    "    per_page: int = 200,\n",
    "    max_pages: int = 5,\n",
    "    pause: float = 0.2,\n",
    "    pbar: Any | None = None,\n",
    "    ext_bbox: tuple[float, float, float, float] | None = None,\n",
    ") -> list[dict[str, Any]]:\n",
    "    \"\"\"Kör iNat mot polygon. Adaptiv förenkling + bbox-fallback.\n",
    "    Om ext_bbox ges (swlat, swlng, nelat, nelng) används den i fallbacken.\n",
    "    \"\"\"\n",
    "    results: list[dict[str, Any]] = []\n",
    "    params = dict(params_base)\n",
    "    params.update({\n",
    "        \"verifiable\": \"true\",\n",
    "        \"order_by\": \"observed_on\",\n",
    "        \"order\": \"desc\",\n",
    "        \"per_page\": per_page,\n",
    "    })\n",
    "\n",
    "    # 1) Adaptiv polygon – prova olika förenklingar och sampling-steps\n",
    "    for simplify_tol in (0.0002, 0.0004, 0.0008, 0.0016):\n",
    "        for step in (1, 2, 3, 4):\n",
    "            polygon_param = _polygon_param_from_poly(poly, simplify_tol=simplify_tol, step=step)\n",
    "            params_poly = dict(params, polygon=polygon_param)\n",
    "            try:\n",
    "                r = _get_with_backoff(INAT_URL, dict(params_poly, page=1), timeout=30)\n",
    "                if r.status_code == 414:\n",
    "                    raise requests.HTTPError(\"414 URI Too Large (polygon)\", response=r)\n",
    "                data = r.json()\n",
    "                batch = data.get(\"results\", [])\n",
    "                results.extend(batch)\n",
    "                if pbar:\n",
    "                    pbar.update(1)\n",
    "                for page in range(2, max_pages + 1):\n",
    "                    r = _get_with_backoff(INAT_URL, dict(params_poly, page=page), timeout=30)\n",
    "                    b2 = r.json().get(\"results\", [])\n",
    "                    results.extend(b2)\n",
    "                    if pbar:\n",
    "                        pbar.update(1)\n",
    "                    if len(b2) < per_page:\n",
    "                        break\n",
    "                    time.sleep(pause)\n",
    "                return results\n",
    "            except requests.HTTPError as e:\n",
    "                if getattr(e, \"response\", None) is None or e.response.status_code != 414:\n",
    "                    raise\n",
    "                # annars: prova nästa förenkling\n",
    "\n",
    "    # 2) Fallback till bbox\n",
    "    if ext_bbox is not None:\n",
    "        swlat, swlng, nelat, nelng = ext_bbox\n",
    "        params_bbox = dict(params, swlat=swlat, swlng=swlng, nelat=nelat, nelng=nelng)\n",
    "    else:\n",
    "        params_bbox = dict(params, **_bbox_params_from_poly(poly))\n",
    "\n",
    "    for page in range(1, max_pages + 1):\n",
    "        r = _get_with_backoff(INAT_URL, dict(params_bbox, page=page), timeout=30)\n",
    "        b = r.json().get(\"results\", [])\n",
    "        results.extend(b)\n",
    "        if pbar:\n",
    "            pbar.update(1)\n",
    "        if len(b) < per_page:\n",
    "            break\n",
    "        time.sleep(pause)\n",
    "    return results\n",
    "\n",
    "\n",
    "def fetch_inat_all_parts(\n",
    "    geom_like: Any,\n",
    "    *,\n",
    "    iconic_taxa: str | None = None,\n",
    "    d1: str | None = None,\n",
    "    d2: str | None = None,\n",
    "    per_page: int = 200,\n",
    "    max_pages: int = 5,\n",
    "    pause: float = 0.2,\n",
    "    show_progress: bool = True,\n",
    "    desc: str = \"Fetch\",\n",
    "    swlat: float | None = None,\n",
    "    swlng: float | None = None,\n",
    "    nelat: float | None = None,\n",
    "    nelng: float | None = None,\n",
    ") -> list[dict[str, Any]]:\n",
    "    \"\"\"Tar LineString/Polygon/MultiPolygon, buffrar vid behov, loopar delpolygoner,\n",
    "    deduplar observationer och visar progressbar.\n",
    "\n",
    "    NYTT: valfri extern bbox (swlat, swlng, nelat, nelng) som insnävning.\n",
    "    \"\"\"\n",
    "    g = geom_like if hasattr(geom_like, \"geom_type\") else shape(geom_like)\n",
    "    if g.geom_type == \"LineString\":\n",
    "        g = g.buffer(0.02)  # ~200 m om du vill, men vi kör ändå extern bbox\n",
    "    elif g.geom_type not in (\"Polygon\", \"MultiPolygon\"):\n",
    "        g = unary_union(g)\n",
    "\n",
    "    polys: list[Polygon]\n",
    "    if isinstance(g, Polygon):\n",
    "        polys = [g]\n",
    "    else:\n",
    "        polys = [p for p in g.geoms if isinstance(p, Polygon) and p.area > 1e-10]\n",
    "\n",
    "    base: dict[str, Any] = {}\n",
    "    if iconic_taxa:\n",
    "        base[\"iconic_taxa\"] = iconic_taxa\n",
    "    if d1:\n",
    "        base[\"d1\"] = d1\n",
    "    if d2:\n",
    "        base[\"d2\"] = d2\n",
    "    base[\"geoprivacy\"] = \"open\"\n",
    "\n",
    "    if all(v is not None for v in (swlat, swlng, nelat, nelng)):\n",
    "        base.update({\"swlat\": swlat, \"swlng\": swlng, \"nelat\": nelat, \"nelng\": nelng})\n",
    "        ext_bbox = (swlat, swlng, nelat, nelng)  # type: ignore[assignment]\n",
    "    else:\n",
    "        ext_bbox = None\n",
    "\n",
    "    total_steps = len(polys) * max_pages\n",
    "    pbar = tqdm(total=total_steps, desc=desc, unit=\"page\", leave=False) if show_progress else None\n",
    "\n",
    "    all_obs: dict[int, dict[str, Any]] = {}\n",
    "    try:\n",
    "        for poly in polys:\n",
    "            part = _inat_query_for_polygon(\n",
    "                poly,\n",
    "                base,\n",
    "                per_page=per_page,\n",
    "                max_pages=max_pages,\n",
    "                pause=pause,\n",
    "                pbar=pbar,\n",
    "                ext_bbox=ext_bbox,\n",
    "            )\n",
    "            for o in part:\n",
    "                oid = o.get(\"id\")\n",
    "                if oid is not None:\n",
    "                    all_obs[oid] = o\n",
    "    finally:\n",
    "        if pbar:\n",
    "            pbar.close()\n",
    "    return list(all_obs.values())\n",
    "\n",
    "\n",
    "# ============================ About-box ============================\n",
    "\n",
    "def add_about_box(\n",
    "    m: folium.Map,\n",
    "    *,\n",
    "    issue_number: int,\n",
    "    map_name: str,\n",
    "    created_date: str | None = None,\n",
    "    repo: str = \"salgo60/Stockholm_Archipelago_Trail\",\n",
    "    collapsed: bool = False,\n",
    "    offset_px: tuple[int, int] = (10, 54),  # (top, left) – 54 px bredvid zoom\n",
    ") -> None:\n",
    "    \"\"\"Superenkel, robust About-box som kan minimeras och minns sitt läge (localStorage).\"\"\"\n",
    "    if created_date is None:\n",
    "        created_date = dt.now().strftime(\"%Y-%m-%d %H:%M\")\n",
    "\n",
    "    map_dom_id = m.get_name()\n",
    "    box_id = f\"sat-about-{map_dom_id}\"\n",
    "    header_id = f\"{box_id}-hdr\"\n",
    "    issue_url = f\"https://github.com/{repo}/issues/{issue_number}\"\n",
    "    top, left = offset_px\n",
    "    collapsed_class = \"sat-about-collapsed\" if collapsed else \"\"\n",
    "\n",
    "    links = [\n",
    "        (\"SAT Dashboard\", \"https://raw.githack.com/salgo60/Stockholm_Archipelago_Trail/main/notebook/output/SAT_ALL_IN_ONE_142_3_dashboard_latest.html\"),\n",
    "        (\"Project repo issues\", \"https://github.com/salgo60/Stockholm_Archipelago_Trail/issues?q=is%3Aissue\"),\n",
    "        (\"Trail on OSM (rel 19012437)\", \"https://www.openstreetmap.org/relation/19012437\"),\n",
    "        (\"Trail on Wikicommons\", \"https://commons.wikimedia.org/wiki/Category:Stockholm_Archipelago_Trail\"),\n",
    "        (\"Official page\", \"https://stockholmarchipelagotrail.com/\"),\n",
    "        (\"Unofficial FB group\", \"https://www.facebook.com/groups/2875020699552247\"),\n",
    "        (\"Visit Sweden\", \"https://traveltrade.visitsweden.com/plan/news-sweden/Stockholm-Archipelago-Trail/\"),\n",
    "    ]\n",
    "\n",
    "    links_html = \"\".join(\n",
    "        f'<div><a href=\"{html.escape(u)}\" target=\"_blank\" style=\"text-decoration:none;\">🔗 {html.escape(t)}</a></div>'\n",
    "        for t, u in links\n",
    "    )\n",
    "\n",
    "    from string import Template as _Tpl\n",
    "    tpl = _Tpl(r\"\"\"\n",
    "<style>\n",
    "  .sat-about { position: fixed; z-index: 10000; top: ${top}px; left: ${left}px;\n",
    "    background: rgba(255,255,255,0.97); border: 2px solid #666; border-radius: 10px;\n",
    "    box-shadow: 0 2px 6px rgba(0,0,0,0.25); font: 12px/1.35 -apple-system, system-ui, Segoe UI, Roboto, Helvetica, Arial, sans-serif;\n",
    "    min-width: 240px; max-width: 320px; pointer-events: auto; }\n",
    "  .sat-about-header { cursor: pointer; padding: 8px 10px; font-weight: 700; display: flex; align-items: center; gap: 6px; user-select: none; background: rgba(248,248,248,.9); border-bottom: 1px solid #e5e7eb; }\n",
    "  .sat-about-body { padding: 8px 10px 10px 10px; }\n",
    "  .sat-about-collapsed .sat-about-body { display: none; }\n",
    "  .sat-chevron { margin-left: auto; transition: transform .15s ease-in-out; }\n",
    "  .sat-about-collapsed .sat-chevron { transform: rotate(-90deg); }\n",
    "  .sat-links { margin-top: 6px; padding-top: 6px; border-top: 1px solid #e5e7eb; }\n",
    "</style>\n",
    "<div id=\"${box_id}\" class=\"sat-about ${collapsed_class}\">\n",
    "  <div id=\"${header_id}\" class=\"sat-about-header\" title=\"Click to collapse/expand\">\n",
    "    <span>ℹ️ About</span><span class=\"sat-chevron\">▸</span>\n",
    "  </div>\n",
    "  <div class=\"sat-about-body\">\n",
    "    <div style=\"font-weight:700;margin-bottom:4px;\">Stockholm Archipelago Trail Map</div>\n",
    "    <div>Issue: <a href=\"${issue_url}\" target=\"_blank\">#${issue_number}</a>&nbsp;&nbsp; Map: ${map_name}</div>\n",
    "    <div>Created: ${created_date}</div>\n",
    "    <div>Latest updates: saved as <i>_latest.html</i></div>\n",
    "    <div class=\"sat-links\">${links_html}</div>\n",
    "  </div>\n",
    "</div>\n",
    "<script>\n",
    "(function(){\n",
    "  var boxId = \"${box_id}\";\n",
    "  var hdrId = \"${header_id}\";\n",
    "  var storageKey = \"satAboutCollapsed_${map_dom_id}_#${issue_number}\";\n",
    "  function setCollapsed(box, collapsed) {\n",
    "    if (!box) return;\n",
    "    if (collapsed) box.classList.add(\"sat-about-collapsed\");\n",
    "    else box.classList.remove(\"sat-about-collapsed\");\n",
    "    try { localStorage.setItem(storageKey, collapsed ? \"1\" : \"0\"); } catch(e) {}\n",
    "  }\n",
    "  function init(){\n",
    "    var box = document.getElementById(boxId);\n",
    "    var hdr = document.getElementById(hdrId);\n",
    "    if (!box || !hdr) return;\n",
    "    try {\n",
    "      var stored = localStorage.getItem(storageKey);\n",
    "      if (stored === \"1\") setCollapsed(box, true);\n",
    "      if (stored === \"0\") setCollapsed(box, false);\n",
    "    } catch(e) {}\n",
    "    hdr.addEventListener(\"click\", function(e){ e.stopPropagation(); setCollapsed(box, !box.classList.contains(\"sat-about-collapsed\")); });\n",
    "  }\n",
    "  if (document.readyState === \"loading\") document.addEventListener(\"DOMContentLoaded\", init); else init();\n",
    "})();\n",
    "</script>\n",
    "\"\"\")\n",
    "\n",
    "    html_code = tpl.substitute(\n",
    "        box_id=box_id,\n",
    "        header_id=header_id,\n",
    "        issue_number=issue_number,\n",
    "        issue_url=issue_url,\n",
    "        map_name=html.escape(map_name),\n",
    "        created_date=created_date,\n",
    "        links_html=links_html,\n",
    "        collapsed_class=collapsed_class,\n",
    "        map_dom_id=map_dom_id,\n",
    "        top=top,\n",
    "        left=left,\n",
    "    )\n",
    "    m.get_root().html.add_child(folium.Element(html_code))\n",
    "\n",
    "\n",
    "# ============================ Huvudkörning ============================\n",
    "\n",
    "def main() -> None:\n",
    "    if not TRAIL_FILE.exists():\n",
    "        raise FileNotFoundError(\"Hittar inte SAT_full.geojson.\")\n",
    "\n",
    "    with TRAIL_FILE.open(encoding=\"utf-8\") as f:\n",
    "        gj = json.load(f)\n",
    "\n",
    "    # --- Extrahera linjesegment ---\n",
    "    lines: list[LineString] = []\n",
    "    for feat in gj.get(\"features\", []):\n",
    "        geom = shape(feat.get(\"geometry\"))\n",
    "        if isinstance(geom, LineString) and len(geom.coords) >= 2:\n",
    "            lines.append(geom)\n",
    "        elif isinstance(geom, MultiLineString):\n",
    "            for seg in geom.geoms:\n",
    "                if len(seg.coords) >= 2:\n",
    "                    lines.append(seg)\n",
    "\n",
    "    if not lines:\n",
    "        raise ValueError(\"SAT_full.geojson innehåller inga linjesegment.\")\n",
    "\n",
    "    trail = unary_union(lines)\n",
    "    center_lat, center_lon = trail.centroid.y, trail.centroid.x\n",
    "\n",
    "    # --- Buffert + bbox ---\n",
    "    search_geom = trail.buffer(BUFFER_DEG)\n",
    "    if hasattr(search_geom, \"simplify\"):\n",
    "        search_geom = search_geom.simplify(0.0002, preserve_topology=True)\n",
    "\n",
    "    minx, miny, maxx, maxy = search_geom.bounds\n",
    "    swlng, swlat, nelng, nelat = minx, miny, maxx, maxy\n",
    "\n",
    "    # --- Datumintervall (senaste 10 dagar) ---\n",
    "    d2 = date.today().isoformat()\n",
    "    d1 = (date.today() - timedelta(days=10)).isoformat()\n",
    "    print(\"Datumintervall:\", d1, \"→\", d2)\n",
    "\n",
    "    # --- Hämta observationer per taxa ---\n",
    "    all_groups: dict[str, list[dict[str, Any]]] = {}\n",
    "    for iconic_taxa, desc in TAXA_GROUPS:\n",
    "        all_groups[iconic_taxa] = fetch_inat_all_parts(\n",
    "            search_geom,\n",
    "            iconic_taxa=iconic_taxa,\n",
    "            d1=d1,\n",
    "            d2=d2,\n",
    "            per_page=200,\n",
    "            max_pages=5,\n",
    "            show_progress=True,\n",
    "            desc=desc,\n",
    "            swlat=swlat,\n",
    "            swlng=swlng,\n",
    "            nelat=nelat,\n",
    "            nelng=nelng,\n",
    "        )\n",
    "\n",
    "    # --- Bygg karta ---\n",
    "    m = folium.Map(location=[center_lat, center_lon], zoom_start=10, control_scale=True)\n",
    "\n",
    "    folium.GeoJson(mapping(trail), name=\"SAT-led\", style_function=lambda _x: {\"color\": \"#1e40af\", \"weight\": 3}).add_to(m)\n",
    "    folium.GeoJson(\n",
    "        mapping(search_geom),\n",
    "        name=\"Sökzon (2000 m)\",\n",
    "        style_function=lambda _x: {\"color\": \"#3388ff\", \"weight\": 1, \"fillOpacity\": 0.05},\n",
    "    ).add_to(m)\n",
    "\n",
    "    # --- Samla alla features till tidslager + statiskt lager ---\n",
    "    all_bounds: list[tuple[float, float]] = []\n",
    "    all_features: list[dict[str, Any]] = []\n",
    "    total_skipped = 0\n",
    "\n",
    "    for tx, obs in tqdm(all_groups.items(), desc=\"Bygger features\", total=len(all_groups)):\n",
    "        color = TAXON_COLORS.get(tx, \"#3388ff\")\n",
    "        fc, bounds, skipped = _to_feature_collection(obs, clip_geom=search_geom, color=color, desc=f\"{tx} → features\", radius=4)\n",
    "        all_features.extend(fc[\"features\"])\n",
    "        all_bounds.extend(bounds)\n",
    "        total_skipped += skipped\n",
    "\n",
    "    fc_all = {\"type\": \"FeatureCollection\", \"features\": all_features}\n",
    "    n_features = len(fc_all[\"features\"])\n",
    "    print(f\"Features in time layer: {n_features}\")\n",
    "    if not n_features:\n",
    "        print(\"No features → widen date range, loosen buffer/bbox, or fetch fewer taxa.\")\n",
    "\n",
    "    # 1) Tidslager\n",
    "    days_total = 3650  # ~10 år\n",
    "    total_ms = 10000   # ~10 s\n",
    "    transition_time = max(1, int(total_ms / days_total))\n",
    "\n",
    "    TimestampedGeoJson(\n",
    "        fc_all,\n",
    "        period=\"P1D\",\n",
    "        duration=\"P1Y\",\n",
    "        auto_play=True,\n",
    "        loop=True,\n",
    "        transition_time=transition_time,\n",
    "    ).add_to(m)\n",
    "\n",
    "    # 2) Statiskt lager (alla punkter)\n",
    "    # 2) Statiskt lager (alla punkter) — FIXED\n",
    "    fg_all = folium.FeatureGroup(name=\"Alla observationer\", show=True)\n",
    "    \n",
    "    for f in fc_all[\"features\"]:\n",
    "        lon, lat = f[\"geometry\"][\"coordinates\"]\n",
    "        props = f.get(\"properties\", {})\n",
    "        style = props.get(\"style\", {})\n",
    "        radius = props.get(\"radius\", 3)\n",
    "        color = style.get(\"color\", \"black\")\n",
    "        fill_color = style.get(\"fillColor\", color)\n",
    "        fill_opacity = style.get(\"fillOpacity\", 0.4)\n",
    "    \n",
    "        folium.CircleMarker(\n",
    "            location=(lat, lon),\n",
    "            radius=radius,\n",
    "            color=color,\n",
    "            fill=True,\n",
    "            fill_color=fill_color,\n",
    "            fill_opacity=fill_opacity,\n",
    "            weight=1,\n",
    "            popup=folium.Popup(props.get(\"popup\"), max_width=350),\n",
    "        ).add_to(fg_all)\n",
    "    \n",
    "    fg_all.add_to(m)\n",
    "\n",
    "\n",
    "    # 3) Per-taxon lager + count\n",
    "    taxon_counts: dict[str, int] = {}\n",
    "    for tx, obs in all_groups.items():\n",
    "        color = TAXON_COLORS.get(tx, \"#888\")\n",
    "        fc, _bounds, skipped = _to_feature_collection(obs, clip_geom=search_geom, color=color, desc=f\"{tx} → features\", radius=4)\n",
    "        n = len(fc[\"features\"])\n",
    "        taxon_counts[tx] = n\n",
    "        fg = folium.FeatureGroup(name=f\"{tx} ({n})\", show=True)\n",
    "        folium.GeoJson(\n",
    "            fc,\n",
    "            name=tx,\n",
    "            style_function=lambda _x, c=color: {\"color\": c, \"weight\": 2, \"fillOpacity\": 0.3},\n",
    "            tooltip=folium.GeoJsonTooltip(fields=[\"time\"], aliases=[\"Datum\"], labels=True, sticky=False),\n",
    "        ).add_to(fg)\n",
    "        fg.add_to(m)\n",
    "\n",
    "    folium.LayerControl(collapsed=False).add_to(m)\n",
    "\n",
    "    # --- Legend ---\n",
    "    legend_html = \"\"\"\n",
    "<div style=\"position: fixed; bottom: 50px; right: 50px; width: 170px; background: white; border:2px solid grey; z-index:9999; font-size:14px; padding: 10px;\">\n",
    "  <b>Taxa</b><br>\n",
    "  <i style=\"color:#2b8a3e;\">●</i> Växter<br>\n",
    "  <i style=\"color:#1d4ed8;\">●</i> Fåglar<br>\n",
    "  <i style=\"color:#78350f;\">●</i> Däggdjur<br>\n",
    "  <i style=\"color:#6b21a8;\">●</i> Svampar<br>\n",
    "  <i style=\"color:#eab308;\">●</i> Insekter<br>\n",
    "  <i style=\"color:#14b8a6;\">●</i> Groddjur<br>\n",
    "  <i style=\"color:#059669;\">●</i> Kräldjur<br>\n",
    "  <i style=\"color:#7f1d1d;\">●</i> Spindeldjur<br>\n",
    "  <i style=\"color:#9333ea;\">●</i> Blötdjur\n",
    "</div>\n",
    "\"\"\"\n",
    "    m.get_root().html.add_child(folium.Element(legend_html))\n",
    "\n",
    "    # --- Auto-zoom ---\n",
    "    if all_bounds:\n",
    "        m.fit_bounds(all_bounds)\n",
    "\n",
    "    # --- About box ---\n",
    "    add_about_box(m, issue_number=179, map_name=\"SAT iNaturalist\")\n",
    "\n",
    "    # --- Spara ---\n",
    "    OUTPUT_HTML.parent.mkdir(parents=True, exist_ok=True)\n",
    "    m.save(str(OUTPUT_HTML))\n",
    "    print(f\"✅ Sparade: {OUTPUT_HTML}\")\n",
    "\n",
    "\n",
    "if __name__ == \"__main__\":\n",
    "    main()\n"
   ]
  },
  {
   "cell_type": "code",
   "execution_count": null,
   "id": "2e26d1ae-4a02-4a99-a702-0e7f85a721ac",
   "metadata": {},
   "outputs": [],
   "source": [
    "end_time = time.time()\n",
    "duration = end_time - start_time\n",
    "print(f\"GeoJSON saved to {OUT}\")\n",
    "print(f\"Finished in {duration:.2f} seconds.\")\n"
   ]
  },
  {
   "cell_type": "code",
   "execution_count": null,
   "id": "ea66aafc-e2f3-4f85-a2f9-8a343720ba7b",
   "metadata": {},
   "outputs": [],
   "source": []
  }
 ],
 "metadata": {
  "kernelspec": {
   "display_name": "Python 3 (ipykernel)",
   "language": "python",
   "name": "python3"
  },
  "language_info": {
   "codemirror_mode": {
    "name": "ipython",
    "version": 3
   },
   "file_extension": ".py",
   "mimetype": "text/x-python",
   "name": "python",
   "nbconvert_exporter": "python",
   "pygments_lexer": "ipython3",
   "version": "3.12.2"
  }
 },
 "nbformat": 4,
 "nbformat_minor": 5
}
