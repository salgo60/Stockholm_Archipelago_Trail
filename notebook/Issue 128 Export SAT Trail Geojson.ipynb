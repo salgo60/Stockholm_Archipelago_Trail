{
 "cells": [
  {
   "cell_type": "markdown",
   "id": "0d83b45d-1861-4b37-994a-d6cae7adba86",
   "metadata": {},
   "source": [
    "### Issue 128: Export SAT Trail Geojson\n",
    "\n",
    "* https://github.com/salgo60/Stockholm_Archipelago_Trail/issues/128\n",
    "* [this notebook](ss)\n",
    "  \n"
   ]
  },
  {
   "cell_type": "code",
   "execution_count": null,
   "id": "bc844de3-2021-4651-8ba6-e6f0044f0168",
   "metadata": {},
   "outputs": [],
   "source": []
  }
 ],
 "metadata": {
  "kernelspec": {
   "display_name": "Python 3 (ipykernel)",
   "language": "python",
   "name": "python3"
  },
  "language_info": {
   "codemirror_mode": {
    "name": "ipython",
    "version": 3
   },
   "file_extension": ".py",
   "mimetype": "text/x-python",
   "name": "python",
   "nbconvert_exporter": "python",
   "pygments_lexer": "ipython3",
   "version": "3.12.2"
  }
 },
 "nbformat": 4,
 "nbformat_minor": 5
}
