{
 "cells": [
  {
   "cell_type": "markdown",
   "metadata": {},
   "source": [
    "# 🗺️ SAT POI Viewer with WD + OSM\n",
    "This notebook loads POIs (e.g. toilets, water points) from Wikidata with optional OSM matches and renders them on a Folium map with filtering options."
   ]
  },
  {
   "cell_type": "code",
   "execution_count": 1,
   "metadata": {},
   "outputs": [
    {
     "name": "stdout",
     "output_type": "stream",
     "text": [
      "Start: 2025-07-24 19:21:49\n"
     ]
    }
   ],
   "source": [
    "import time\n",
    "from datetime import datetime\n",
    "\n",
    "start_time = time.time()\n",
    "print(\"Start:\", datetime.now().strftime(\"%Y-%m-%d %H:%M:%S\"))\n",
    "    "
   ]
  },
  {
   "cell_type": "code",
   "execution_count": 5,
   "metadata": {},
   "outputs": [
    {
     "ename": "NameError",
     "evalue": "name 'res' is not defined",
     "output_type": "error",
     "traceback": [
      "\u001b[0;31m---------------------------------------------------------------------------\u001b[0m",
      "\u001b[0;31mNameError\u001b[0m                                 Traceback (most recent call last)",
      "Cell \u001b[0;32mIn[5], line 1\u001b[0m\n\u001b[0;32m----> 1\u001b[0m qid \u001b[38;5;241m=\u001b[39m \u001b[43mres\u001b[49m[\u001b[38;5;124m\"\u001b[39m\u001b[38;5;124mitem\u001b[39m\u001b[38;5;124m\"\u001b[39m][\u001b[38;5;124m\"\u001b[39m\u001b[38;5;124mvalue\u001b[39m\u001b[38;5;124m\"\u001b[39m]\u001b[38;5;241m.\u001b[39msplit(\u001b[38;5;124m'\u001b[39m\u001b[38;5;124m/\u001b[39m\u001b[38;5;124m'\u001b[39m)[\u001b[38;5;241m-\u001b[39m\u001b[38;5;241m1\u001b[39m]\n\u001b[1;32m      2\u001b[0m wd_url \u001b[38;5;241m=\u001b[39m \u001b[38;5;124mf\u001b[39m\u001b[38;5;124m\"\u001b[39m\u001b[38;5;124mhttps://www.wikidata.org/wiki/\u001b[39m\u001b[38;5;132;01m{\u001b[39;00mqid\u001b[38;5;132;01m}\u001b[39;00m\u001b[38;5;124m\"\u001b[39m\n\u001b[1;32m      3\u001b[0m data\u001b[38;5;241m.\u001b[39mappend({\u001b[38;5;124m\"\u001b[39m\u001b[38;5;124mqid\u001b[39m\u001b[38;5;124m\"\u001b[39m: qid, \u001b[38;5;124m\"\u001b[39m\u001b[38;5;124mlabel\u001b[39m\u001b[38;5;124m\"\u001b[39m: label, \u001b[38;5;124m\"\u001b[39m\u001b[38;5;124mlat\u001b[39m\u001b[38;5;124m\"\u001b[39m: lat, \u001b[38;5;124m\"\u001b[39m\u001b[38;5;124mlon\u001b[39m\u001b[38;5;124m\"\u001b[39m: lon, \u001b[38;5;124m\"\u001b[39m\u001b[38;5;124msource\u001b[39m\u001b[38;5;124m\"\u001b[39m: source, \u001b[38;5;124m\"\u001b[39m\u001b[38;5;124mosm_url\u001b[39m\u001b[38;5;124m\"\u001b[39m: osm_url, \u001b[38;5;124m\"\u001b[39m\u001b[38;5;124mwd_url\u001b[39m\u001b[38;5;124m\"\u001b[39m: wd_url})\n",
      "\u001b[0;31mNameError\u001b[0m: name 'res' is not defined"
     ]
    }
   ],
   "source": [
    "    qid = res[\"item\"][\"value\"].split('/')[-1]\n",
    "    wd_url = f\"https://www.wikidata.org/wiki/{qid}\"\n",
    "    data.append({\"qid\": qid, \"label\": label, \"lat\": lat, \"lon\": lon, \"source\": source, \"osm_url\": osm_url, \"wd_url\": wd_url})\n",
    "    # Run a live SPARQL query to get SAT POIs with optional OSM links\n",
    "from SPARQLWrapper import SPARQLWrapper, JSON\n",
    "\n",
    "endpoint_url = \"https://query.wikidata.org/sparql\"\n",
    "query = \"\"\"\n",
    "SELECT ?item ?itemLabel ?coord ?OSMnode ?OSMway ?OSMrel WHERE {\n",
    "  ?item wdt:P6104 wd:Q134294510; wdt:P625 ?coord.\n",
    "  OPTIONAL { ?item wdt:P10689 ?OSMway. }\n",
    "  OPTIONAL { ?item wdt:P402 ?OSMrel. }\n",
    "  OPTIONAL { ?item wdt:P11693 ?OSMnode. }\n",
    "  SERVICE wikibase:label { bd:serviceParam wikibase:language 'sv,en'. }\n",
    "}\n",
    "\"\"\"\n",
    "\n",
    "sparql = SPARQLWrapper(endpoint_url)\n",
    "sparql.setQuery(query)\n",
    "sparql.setReturnFormat(JSON)\n",
    "results = sparql.query().convert()\n",
    "\n",
    "import re\n",
    "\n",
    "data = []\n",
    "for res in results[\"results\"][\"bindings\"]:    \n",
    "     label = res[\"itemLabel\"][\"value\"]\n",
    "     coord = res[\"coord\"][\"value\"]  # e.g. Point(18.858 59.756)\n",
    "     lon, lat = map(float, re.findall(r\"[-+]?\\d+\\.\\d+\", coord))\n",
    "     node = res.get(\"OSMnode\", {}).get(\"value\")\n",
    "     way = res.get(\"OSMway\", {}).get(\"value\")\n",
    "     rel = res.get(\"OSMrel\", {}).get(\"value\")\n",
    "\n",
    "     if node:\n",
    "         source = \"OSM\"\n",
    "         osm_url = f\"https://www.openstreetmap.org/node/{node}\"\n",
    "     elif way:\n",
    "         source = \"OSM\"\n",
    "         osm_url = f\"https://www.openstreetmap.org/way/{way}\"\n",
    "     elif rel:\n",
    "         source = \"OSM\"\n",
    "         osm_url = f\"https://www.openstreetmap.org/relation/{rel}\"\n",
    "     else:\n",
    "         source = \"WD\"\n",
    "         osm_url = None\n",
    "\n",
    "     if node or way or rel:\n",
    "         source = \"both\"\n",
    "\n",
    "     data.append({\"label\": label, \"lat\": lat, \"lon\": lon, \"source\": source, \"osm_url\": osm_url})\n",
    "\n",
    "df = pd.DataFrame(data)\n",
    "df.head()"
   ]
  },
  {
   "cell_type": "code",
   "execution_count": null,
   "metadata": {},
   "outputs": [],
   "source": [
    "import folium\n",
    "import pandas as pd\n",
    "from folium import FeatureGroup\n",
    "from shapely.geometry import Point\n",
    "from IPython.display import display\n",
    "\n",
    "# Sample POIs (normally loaded via SPARQL)\n",
    "data = [\n",
    "    {\"label\": \"Toilet WD\", \"lat\": 59.75, \"lon\": 18.85, \"source\": \"WD\", \"osm_url\": None},\n",
    "    {\"label\": \"Toilet OSM\", \"lat\": 59.752, \"lon\": 18.855, \"source\": \"OSM\", \"osm_url\": \"https://www.openstreetmap.org/node/123\"},\n",
    "    {\"label\": \"Water both\", \"lat\": 59.76, \"lon\": 18.82, \"source\": \"both\", \"osm_url\": \"https://www.openstreetmap.org/node/456\"},\n",
    "]\n",
    "df = pd.DataFrame(data)"
   ]
  },
  {
   "cell_type": "code",
   "execution_count": null,
   "metadata": {},
   "outputs": [],
   "source": [
    "    popup_html = f\"\"\"\n",
    "        <b>{row['label']}</b><br>\n",
    "        <a href='{row['wd_url']}' target='_blank'>Wikidata: {row['qid']}</a><br>\n",
    "        {'<a href=\"' + row['osm_url'] + '\" target=\"_blank\">OSM link</a>' if row['osm_url'] else ''}\n",
    "    \"\"\"\n",
    "    marker = folium.Marker(\n",
    "        [row[\"lat\"], row[\"lon\"]],\n",
    "        popup=popup_html,\n",
    "        icon=folium.Icon(color=\"blue\" if row[\"source\"] == \"WD\" else \"green\" if row[\"source\"] == \"OSM\" else \"purple\")\n",
    "    )"
   ]
  },
  {
   "cell_type": "code",
   "execution_count": null,
   "metadata": {},
   "outputs": [],
   "source": [
    "# End timer and calculate duration\n",
    "end_time = time.time()\n",
    "elapsed_time = end_time - start_time\n",
    "\n",
    "# Print current date and total time\n",
    "print(\"Date:\", datetime.now().strftime(\"%Y-%m-%d %H:%M:%S\"))\n",
    "print(\"Total time elapsed: {:.2f} seconds\".format(elapsed_time))"
   ]
  },
  {
   "cell_type": "code",
   "execution_count": null,
   "metadata": {},
   "outputs": [],
   "source": []
  }
 ],
 "metadata": {
  "kernelspec": {
   "display_name": "Python 3 (ipykernel)",
   "language": "python",
   "name": "python3"
  },
  "language_info": {
   "codemirror_mode": {
    "name": "ipython",
    "version": 3
   },
   "file_extension": ".py",
   "mimetype": "text/x-python",
   "name": "python",
   "nbconvert_exporter": "python",
   "pygments_lexer": "ipython3",
   "version": "3.12.2"
  }
 },
 "nbformat": 4,
 "nbformat_minor": 4
}
