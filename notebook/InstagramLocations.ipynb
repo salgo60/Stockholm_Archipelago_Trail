{
 "cells": [
  {
   "cell_type": "markdown",
   "id": "b254d8fe-bef9-4f8e-af96-d87cca44699f",
   "metadata": {},
   "source": [
    "Run the query in Wikidata Query Service"
   ]
  },
  {
   "cell_type": "code",
   "execution_count": 5,
   "id": "6422734d-e0d7-42e3-97d8-44b3b0d7d09e",
   "metadata": {},
   "outputs": [],
   "source": [
    "# pip install sparqlwrapper\n",
    "# https://rdflib.github.io/sparqlwrapper/\n",
    "\n",
    "import sys\n",
    "from SPARQLWrapper import SPARQLWrapper, JSON\n",
    "\n",
    "endpoint_url = \"https://query.wikidata.org/sparql\"\n",
    "\n",
    "query = \"\"\"#title: Miss Instagram Location connected to SAT\n",
    "SELECT DISTINCT ?id ?geo ?idLabel ?img ?SATLabel ?Instagram ?Facebook ?InstagramL ?Googlemap WHERE {\n",
    "  ?id wdt:P6104 wd:Q134294510;\n",
    "       wdt:P625 ?geo.\n",
    "\n",
    "  ?id wdt:P2789 ?SAT.\n",
    "  ?SAT wdt:P361 wd:Q131318799.\n",
    "\n",
    "  OPTIONAL {?id wdt:P2003 ?InstaU}\n",
    "  minus {?id wdt:P4173 ?InstaL}\n",
    "\n",
    "  BIND(URI(CONCAT(\"https://www.instagram.com/explore/locations/\", ?InstaL)) AS ?InstagramL)\n",
    "\n",
    "  SERVICE wikibase:label { bd:serviceParam wikibase:language \"sv,en,nn\". }\n",
    "} order by ?SATLabel \n",
    "\"\"\"\n",
    "\n",
    "\n",
    "def get_results(endpoint_url, query):\n",
    "    user_agent = \"WDQS-example Python/%s.%s\" % (sys.version_info[0], sys.version_info[1])\n",
    "    # TODO adjust user agent; see https://w.wiki/CX6\n",
    "    sparql = SPARQLWrapper(endpoint_url, agent=user_agent)\n",
    "    sparql.setQuery(query)\n",
    "    sparql.setReturnFormat(JSON)\n",
    "    return sparql.query().convert()\n",
    "\n",
    "\n",
    "results = get_results(endpoint_url, query)\n"
   ]
  },
  {
   "cell_type": "code",
   "execution_count": null,
   "id": "3da864ac-3fc8-421a-85b9-404c9d467d13",
   "metadata": {},
   "outputs": [],
   "source": []
  }
 ],
 "metadata": {
  "kernelspec": {
   "display_name": "Python 3 (ipykernel)",
   "language": "python",
   "name": "python3"
  },
  "language_info": {
   "codemirror_mode": {
    "name": "ipython",
    "version": 3
   },
   "file_extension": ".py",
   "mimetype": "text/x-python",
   "name": "python",
   "nbconvert_exporter": "python",
   "pygments_lexer": "ipython3",
   "version": "3.12.2"
  }
 },
 "nbformat": 4,
 "nbformat_minor": 5
}
