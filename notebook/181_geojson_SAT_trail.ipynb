{
 "cells": [
  {
   "cell_type": "markdown",
   "id": "bcb30d8c-0550-491a-912d-9939f0c85c26",
   "metadata": {},
   "source": [
    "## Skapa en geojson av SAT leden\n",
    "* issue [#181](https://github.com/salgo60/Stockholm_Archipelago_Trail/issues/181)\n",
    "* denna [Notebook](https://github.com/salgo60/Stockholm_Archipelago_Trail/tree/main/notebook/181_geojson_SAT_trail)"
   ]
  },
  {
   "cell_type": "code",
   "execution_count": 1,
   "id": "729c21b9-4408-4f23-b52d-14de370ac01b",
   "metadata": {},
   "outputs": [
    {
     "name": "stdout",
     "output_type": "stream",
     "text": [
      "Started: 2025-09-21 13:11\n"
     ]
    }
   ],
   "source": [
    "import time\n",
    "import datetime  \n",
    "start_time = time.time()\n",
    "start_str = datetime.datetime.now().strftime(\"%Y-%m-%d %H:%M\")\n",
    "print(f\"Started: {start_str}\")\n"
   ]
  },
  {
   "cell_type": "code",
   "execution_count": 2,
   "id": "bd613e6c-737c-44be-b08d-01c271ac560b",
   "metadata": {},
   "outputs": [
    {
     "name": "stdout",
     "output_type": "stream",
     "text": [
      "Delrelationer: 19 | Ways: 706 | Linjesegment: 706\n",
      "Sparade: SAT_full.geojson\n"
     ]
    }
   ],
   "source": [
    "import requests, json\n",
    "from lxml import etree\n",
    "from shapely.geometry import LineString\n",
    "from shapely.ops import unary_union\n",
    "\n",
    "OSM_REL = 19012437  # SAT superrelation\n",
    "\n",
    "def fetch_relation_full(rel_id: int, timeout=60):\n",
    "    url = f\"https://api.openstreetmap.org/api/0.6/relation/{rel_id}/full\"\n",
    "    r = requests.get(url, timeout=timeout)\n",
    "    r.raise_for_status()\n",
    "    return etree.fromstring(r.content)\n",
    "\n",
    "def ways_from_relation_full(xml_root):\n",
    "    # Bygg upp nod-lexikon\n",
    "    nodes = {n.attrib[\"id\"]: (float(n.attrib[\"lon\"]), float(n.attrib[\"lat\"])) \n",
    "             for n in xml_root.findall(\"node\")}\n",
    "    # Plocka ut alla ways med deras node-referenser\n",
    "    ways = {}\n",
    "    for w in xml_root.findall(\"way\"):\n",
    "        wid = w.attrib[\"id\"]\n",
    "        coords = []\n",
    "        for nd in w.findall(\"nd\"):\n",
    "            ref = nd.attrib[\"ref\"]\n",
    "            if ref in nodes:\n",
    "                coords.append(nodes[ref])\n",
    "        if len(coords) > 1:\n",
    "            ways[wid] = coords\n",
    "    return ways\n",
    "\n",
    "# 1) Hämta superrelationen\n",
    "root_super = fetch_relation_full(OSM_REL)\n",
    "\n",
    "# 2) Hitta alla DIREKTA medlemsrelationer (delrelationer)\n",
    "member_rel_ids = set()\n",
    "for rel in root_super.findall(\"relation\"):\n",
    "    if rel.attrib[\"id\"] == str(OSM_REL):\n",
    "        for m in rel.findall(\"member\"):\n",
    "            if m.attrib.get(\"type\") == \"relation\":\n",
    "                member_rel_ids.add(int(m.attrib[\"ref\"]))\n",
    "\n",
    "# 3) Hämta ways från superrelationens egna ways OCH alla delrelationer\n",
    "all_ways = {}\n",
    "\n",
    "# ways direkt i superrelationen\n",
    "super_ways = ways_from_relation_full(root_super)\n",
    "all_ways.update(super_ways)\n",
    "\n",
    "# ways i varje delrelation\n",
    "for rid in sorted(member_rel_ids):\n",
    "    try:\n",
    "        rxml = fetch_relation_full(rid)\n",
    "        sub_ways = ways_from_relation_full(rxml)\n",
    "        all_ways.update(sub_ways)  # dedup på way-id\n",
    "    except requests.HTTPError as e:\n",
    "        print(f\"Varn: kunde inte hämta relation {rid}: {e}\")\n",
    "\n",
    "# 4) Gör shapely-linjer\n",
    "lines = [LineString(coords) for coords in all_ways.values() if len(coords) > 1]\n",
    "if not lines:\n",
    "    raise RuntimeError(\"Hittade inga linjer – avbryter.\")\n",
    "trail = unary_union(lines)\n",
    "center_lat, center_lon = trail.centroid.y, trail.centroid.x\n",
    "\n",
    "print(f\"Delrelationer: {len(member_rel_ids)} | Ways: {len(all_ways)} | Linjesegment: {len(lines)}\")\n",
    "\n",
    "# 5) (Valfritt) spara som GeoJSON (flattenade LineStrings)\n",
    "from shapely.geometry import mapping, MultiLineString\n",
    "from pathlib import Path\n",
    "\n",
    "features = []\n",
    "if trail.geom_type == \"LineString\":\n",
    "    features = [{\"type\":\"Feature\",\"geometry\":mapping(trail),\"properties\":{}}]\n",
    "elif trail.geom_type == \"MultiLineString\":\n",
    "    for seg in trail.geoms:\n",
    "        features.append({\"type\":\"Feature\",\"geometry\":mapping(seg),\"properties\":{}})\n",
    "else:\n",
    "    # om unary_union råkar ge GeometryCollection\n",
    "    for seg in getattr(trail, \"geoms\", []):\n",
    "        if seg.geom_type in (\"LineString\",\"MultiLineString\"):\n",
    "            if seg.geom_type == \"LineString\":\n",
    "                features.append({\"type\":\"Feature\",\"geometry\":mapping(seg),\"properties\":{}})\n",
    "            else:\n",
    "                for s in seg.geoms:\n",
    "                    features.append({\"type\":\"Feature\",\"geometry\":mapping(s),\"properties\":{}})\n",
    "\n",
    "gj = {\"type\":\"FeatureCollection\",\"features\":features}\n",
    "Path(\"SAT_full.geojson\").write_text(json.dumps(gj), encoding=\"utf-8\")\n",
    "print(\"Sparade: SAT_full.geojson\")\n"
   ]
  },
  {
   "cell_type": "code",
   "execution_count": 3,
   "id": "d099768e-5055-4aed-93d1-f7bcb777087a",
   "metadata": {},
   "outputs": [
    {
     "name": "stdout",
     "output_type": "stream",
     "text": [
      "Finished in 2.93 seconds.\n"
     ]
    }
   ],
   "source": [
    "    end_time = time.time()\n",
    "    duration = end_time - start_time\n",
    "    print(f\"Finished in {duration:.2f} seconds.\")\n"
   ]
  },
  {
   "cell_type": "code",
   "execution_count": null,
   "id": "764940b1-60bc-486d-ba91-8b4b39e5821c",
   "metadata": {},
   "outputs": [],
   "source": []
  }
 ],
 "metadata": {
  "kernelspec": {
   "display_name": "Python 3 (ipykernel)",
   "language": "python",
   "name": "python3"
  },
  "language_info": {
   "codemirror_mode": {
    "name": "ipython",
    "version": 3
   },
   "file_extension": ".py",
   "mimetype": "text/x-python",
   "name": "python",
   "nbconvert_exporter": "python",
   "pygments_lexer": "ipython3",
   "version": "3.12.2"
  }
 },
 "nbformat": 4,
 "nbformat_minor": 5
}
