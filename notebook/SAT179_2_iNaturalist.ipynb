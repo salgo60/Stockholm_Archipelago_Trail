{
 "cells": [
  {
   "cell_type": "markdown",
   "id": "9717b3fa-c1a7-42e9-a631-ead7cc6adbd3",
   "metadata": {},
   "source": [
    "## SAT179_2_iNaturalist\n",
    "\n",
    "* [#179](https://github.com/salgo60/Stockholm_Archipelago_Trail/issues/179) \"Koppla SAT till artobservationer\"\n",
    "* [this Notebook](https://github.com/salgo60/Stockholm_Archipelago_Trail/tree/main/notebook/SAT179_iNaturalist.ipynb)"
   ]
  },
  {
   "cell_type": "code",
   "execution_count": 1,
   "id": "56fa2d57-4b91-4c31-96a0-5baa58cf7d88",
   "metadata": {},
   "outputs": [
    {
     "name": "stdout",
     "output_type": "stream",
     "text": [
      "Started: 2025-09-22 14:48\n"
     ]
    }
   ],
   "source": [
    "import time\n",
    "import datetime  \n",
    "start_time = time.time()\n",
    "start_str = datetime.datetime.now().strftime(\"%Y-%m-%d %H:%M\")\n",
    "print(f\"Started: {start_str}\")\n"
   ]
  },
  {
   "cell_type": "code",
   "execution_count": 2,
   "id": "fdb7927d-54d4-42f5-9b73-3f93e13dcb76",
   "metadata": {},
   "outputs": [],
   "source": [
    "import json, time, requests, folium\n",
    "from shapely.geometry import shape, Polygon\n",
    "from shapely.ops import unary_union\n",
    "\n",
    "INAT_URL = \"https://api.inaturalist.org/v1/observations\"\n",
    "\n",
    "def _get_with_backoff(url, params, timeout=30, tries=5, base_wait=1.5):\n",
    "    \"\"\"GET with exponential backoff for 429/5xx.\"\"\"\n",
    "    attempt = 0\n",
    "    while True:\n",
    "        r = requests.get(url, params=params, timeout=timeout)\n",
    "        if r.status_code in (429, 500, 502, 503, 504):\n",
    "            attempt += 1\n",
    "            if attempt >= tries:\n",
    "                r.raise_for_status()\n",
    "            wait = base_wait ** attempt  # 1.5s, 2.25s, 3.4s, ...\n",
    "            time.sleep(wait)\n",
    "            continue\n",
    "        r.raise_for_status()\n",
    "        return r\n",
    "\n",
    "\n",
    "def fetch_inat_all_parts(geom_like,\n",
    "                         iconic_taxa=None, d1=None, d2=None,\n",
    "                         per_page=200, max_pages=5, pause=0.2,\n",
    "                         show_progress=True, desc=\"Fetch\",\n",
    "                         # --- NYTT: valfri extern bbox ---\n",
    "                         swlat=None, swlng=None, nelat=None, nelng=None):\n",
    "    \"\"\"\n",
    "    Tar LineString/Polygon/MultiPolygon, buffrar vid behov, loopar delpolygoner,\n",
    "    deduplar observationer och visar progressbar.\n",
    "\n",
    "    NYTT: Du kan skicka in en extern bbox (swlat, swlng, nelat, nelng).\n",
    "    Den läggs in i grundparametrarna och används även i bbox-fallbacken.\n",
    "    \"\"\"\n",
    "    g = geom_like if hasattr(geom_like, \"geom_type\") else shape(geom_like)\n",
    "    if g.geom_type == \"LineString\":\n",
    "        g = g.buffer(0.0015)  # ~150 m\n",
    "    elif g.geom_type not in (\"Polygon\", \"MultiPolygon\"):\n",
    "        g = unary_union(g)\n",
    "\n",
    "    polys = [g] if isinstance(g, Polygon) else [p for p in g.geoms if p.area > 1e-10]\n",
    "\n",
    "    base = {}\n",
    "    if iconic_taxa: base[\"iconic_taxa\"] = iconic_taxa\n",
    "    if d1: base[\"d1\"] = d1\n",
    "    if d2: base[\"d2\"] = d2\n",
    "    base[\"geoprivacy\"] = \"open\"    # <<< add this\n",
    "\n",
    "    # --- NYTT: om extern bbox medföljer, lägg till den i base (snävare sökningar)\n",
    "    if all(v is not None for v in (swlat, swlng, nelat, nelng)):\n",
    "        base.update({\"swlat\": swlat, \"swlng\": swlng, \"nelat\": nelat, \"nelng\": nelng})\n",
    "\n",
    "    total_steps = len(polys) * max_pages  # ungefärligt (per polygon x sidor)\n",
    "    pbar = tqdm(total=total_steps, desc=desc, unit=\"page\", leave=False) if show_progress else None\n",
    "\n",
    "    all_obs = {}\n",
    "    try:\n",
    "        for poly in polys:\n",
    "            part = _inat_query_for_polygon(\n",
    "                poly, base,\n",
    "                per_page=per_page, max_pages=max_pages, pause=pause, pbar=pbar,\n",
    "                # --- NYTT: skicka med extern bbox till funktionen\n",
    "                ext_bbox=(swlat, swlng, nelat, nelng) if all(v is not None for v in (swlat, swlng, nelat, nelng)) else None\n",
    "            )\n",
    "            for o in part:\n",
    "                all_obs[o[\"id\"]] = o\n",
    "    finally:\n",
    "        if pbar: pbar.close()\n",
    "    return list(all_obs.values())\n",
    "\n",
    "def _polygon_param_from_poly(poly: Polygon, simplify_tol: float = 0.0002, step: int = 1):\n",
    "    p = poly.simplify(simplify_tol, preserve_topology=True)\n",
    "    ring = list(p.exterior.coords)[::step]\n",
    "    if ring[0] != ring[-1]:\n",
    "        ring.append(ring[0])\n",
    "    return \",\".join(f\"{lng},{lat}\" for (lng, lat) in ring)\n",
    "\n",
    "def _bbox_params_from_poly(poly: Polygon):\n",
    "    minx, miny, maxx, maxy = poly.bounds\n",
    "    return {\"swlng\": minx, \"swlat\": miny, \"nelng\": maxx, \"nelat\": maxy}\n",
    "\n",
    "def _inat_query_for_polygon(poly: Polygon, params_base: dict,\n",
    "                            per_page=200, max_pages=5, pause=0.2, pbar=None,\n",
    "                            # --- NYTT: extern bbox vidarebefordras hit\n",
    "                            ext_bbox=None):\n",
    "    \"\"\"\n",
    "    Kör iNat mot polygon. Har adaptiv förenkling + bbox-fallback.\n",
    "    Om ext_bbox ges (swlat, swlng, nelat, nelng) används den som global\n",
    "    insnävning och i fallbacken.\n",
    "    \"\"\"\n",
    "    \n",
    "    results = []\n",
    "    params = dict(params_base)\n",
    "    params.update({\n",
    "        \"verifiable\": \"true\",\n",
    "        \"order_by\": \"observed_on\",\n",
    "        \"order\": \"desc\",\n",
    "        \"per_page\": per_page\n",
    "    })\n",
    "\n",
    "    # 1) Adaptiv polygon (för att undvika 414). Om ext_bbox finns skickas den med\n",
    "    #    samtidigt — iNat accepterar bbox + polygon och tolkar det snävare.\n",
    "    for simplify_tol in (0.0002, 0.0004, 0.0008, 0.0016):\n",
    "        for step in (1, 2, 3, 4):\n",
    "            polygon_param = _polygon_param_from_poly(poly, simplify_tol=simplify_tol, step=step)\n",
    "            params_poly = dict(params, polygon=polygon_param)\n",
    "            try:\n",
    "                # Första sidan\n",
    "                r = _get_with_backoff(INAT_URL, dict(params_poly, page=1), timeout=30)\n",
    "                if r.status_code == 414:\n",
    "                    raise requests.HTTPError(\"414 URI Too Large (polygon)\", response=r)\n",
    "                r.raise_for_status()\n",
    "                data = r.json()\n",
    "                batch = data.get(\"results\", [])\n",
    "                results.extend(batch)\n",
    "                if pbar: pbar.update(1)\n",
    "\n",
    "                # Paginerat\n",
    "                for page in range(2, max_pages + 1):\n",
    "                    r = _get_with_backoff(INAT_URL, dict(params_poly, page=page), timeout=30)\n",
    "                    r.raise_for_status()\n",
    "                    b2 = r.json().get(\"results\", [])\n",
    "                    results.extend(b2)\n",
    "                    if pbar: pbar.update(1)\n",
    "                    if len(b2) < per_page:\n",
    "                        break\n",
    "                    time.sleep(pause)\n",
    "                return results\n",
    "            except requests.HTTPError as e:\n",
    "                # prova nästa simplifiering—bubbla inte upp 414\n",
    "                if getattr(e, \"response\", None) is None or e.response.status_code != 414:\n",
    "                    raise\n",
    "\n",
    "    # 2) Fallback till bbox\n",
    "    #    Om ext_bbox finns -> använd den. Annars -> bbox från polygonen.\n",
    "    if ext_bbox is not None:\n",
    "        swlat, swlng, nelat, nelng = ext_bbox\n",
    "        params_bbox = dict(params, swlat=swlat, swlng=swlng, nelat=nelat, nelng=nelng)\n",
    "    else:\n",
    "        params_bbox = dict(params, **_bbox_params_from_poly(poly))\n",
    "\n",
    "    for page in range(1, max_pages + 1):\n",
    "        r = _get_with_backoff(INAT_URL, dict(params_bbox, page=page), timeout=30)\n",
    "        r.raise_for_status()\n",
    "        b = r.json().get(\"results\", [])\n",
    "        results.extend(b)\n",
    "        if pbar: pbar.update(1)\n",
    "        if len(b) < per_page:\n",
    "            break\n",
    "        time.sleep(pause)\n",
    "    return results\n"
   ]
  },
  {
   "cell_type": "code",
   "execution_count": 3,
   "id": "d87cfa06-10ea-45f7-8d27-c0c41753a5e7",
   "metadata": {},
   "outputs": [],
   "source": [
    "def obs_to_feature(o, color=\"#3388ff\"):\n",
    "    gj = o.get(\"geojson\") or {}\n",
    "    if not (isinstance(gj.get(\"coordinates\"), (list, tuple)) and len(gj[\"coordinates\"]) >= 2):\n",
    "        return None\n",
    "    lon, lat = gj[\"coordinates\"][:2]\n",
    "\n",
    "    # Prefer full ISO time, else fall back to date\n",
    "    obs_time = o.get(\"time_observed_at\") or o.get(\"observed_on\") or o.get(\"created_at\")\n",
    "    if not obs_time:   # no timestamp → skip\n",
    "        return None\n",
    "    # normalize to date if it's longer than YYYY-MM-DD\n",
    "    if len(obs_time) > 10:\n",
    "        obs_time = obs_time[:10]\n",
    "\n",
    "    taxon = o.get(\"taxon\") or {}\n",
    "    cname = taxon.get(\"preferred_common_name\") or taxon.get(\"name\") or \"okänd\"\n",
    "    sname = taxon.get(\"name\") or \"\"\n",
    "    oid   = o.get(\"id\", \"\")\n",
    "    url   = f\"https://www.inaturalist.org/observations/{oid}\"\n",
    "    api   = f\"https://api.inaturalist.org/v1/observations/{oid}\"\n",
    "\n",
    "    img = \"\"\n",
    "    photos = o.get(\"photos\") or []\n",
    "    if photos:\n",
    "        raw = photos[0].get(\"url\", \"\")\n",
    "        if raw:\n",
    "            img = raw.replace(\"square\", \"medium\")\n",
    "\n",
    "    popup = f\"<b>{cname}</b><br><i>{sname}</i><br>{obs_time}<br>\"\n",
    "    if img:\n",
    "        popup += f\"<img src='{img}' width='220'><br>\"\n",
    "    popup += f\"<a href='{url}' target='_blank'>Visa i iNaturalist</a> · \"\n",
    "    popup += f\"<a href='{api}' target='_blank'>API JSON</a>\"\n",
    "\n",
    "    return {\n",
    "        \"type\": \"Feature\",\n",
    "        \"geometry\": {\"type\": \"Point\", \"coordinates\": [lon, lat]},\n",
    "        \"properties\": {\n",
    "            \"time\": obs_time,          # ← the slider reads this\n",
    "            \"popup\": popup,\n",
    "            \"icon\": \"circle\",\n",
    "            \"iconstyle\": {\"color\": color, \"fillColor\": color, \"fillOpacity\": 0.8}\n",
    "        }\n",
    "    }\n"
   ]
  },
  {
   "cell_type": "code",
   "execution_count": 4,
   "id": "847f6252-e882-472e-a0d1-10c08b4c8794",
   "metadata": {},
   "outputs": [
    {
     "data": {
      "application/vnd.jupyter.widget-view+json": {
       "model_id": "",
       "version_major": 2,
       "version_minor": 0
      },
      "text/plain": [
       "Birds:   0%|          | 0/75 [00:00<?, ?page/s]"
      ]
     },
     "metadata": {},
     "output_type": "display_data"
    },
    {
     "data": {
      "application/vnd.jupyter.widget-view+json": {
       "model_id": "",
       "version_major": 2,
       "version_minor": 0
      },
      "text/plain": [
       "Plants:   0%|          | 0/75 [00:00<?, ?page/s]"
      ]
     },
     "metadata": {},
     "output_type": "display_data"
    },
    {
     "data": {
      "application/vnd.jupyter.widget-view+json": {
       "model_id": "d5e097b0d10c494898c7097ff7d7dbf5",
       "version_major": 2,
       "version_minor": 0
      },
      "text/plain": [
       "Mammals:   0%|          | 0/75 [00:00<?, ?page/s]"
      ]
     },
     "metadata": {},
     "output_type": "display_data"
    },
    {
     "data": {
      "application/vnd.jupyter.widget-view+json": {
       "model_id": "",
       "version_major": 2,
       "version_minor": 0
      },
      "text/plain": [
       "Insects:   0%|          | 0/75 [00:00<?, ?page/s]"
      ]
     },
     "metadata": {},
     "output_type": "display_data"
    },
    {
     "data": {
      "application/vnd.jupyter.widget-view+json": {
       "model_id": "ce1d0367a5414ea4a8ce60780c56ff63",
       "version_major": 2,
       "version_minor": 0
      },
      "text/plain": [
       "Amphibians:   0%|          | 0/75 [00:00<?, ?page/s]"
      ]
     },
     "metadata": {},
     "output_type": "display_data"
    },
    {
     "data": {
      "application/vnd.jupyter.widget-view+json": {
       "model_id": "b01ad79b4c1944dbae237ae8dd0029fc",
       "version_major": 2,
       "version_minor": 0
      },
      "text/plain": [
       "Reptiles:   0%|          | 0/75 [00:00<?, ?page/s]"
      ]
     },
     "metadata": {},
     "output_type": "display_data"
    },
    {
     "data": {
      "application/vnd.jupyter.widget-view+json": {
       "model_id": "20adf08e7c834dd5aad3e4834cac939f",
       "version_major": 2,
       "version_minor": 0
      },
      "text/plain": [
       "Bygger features:   0%|          | 0/7 [00:00<?, ?it/s]"
      ]
     },
     "metadata": {},
     "output_type": "display_data"
    },
    {
     "data": {
      "application/vnd.jupyter.widget-view+json": {
       "model_id": "",
       "version_major": 2,
       "version_minor": 0
      },
      "text/plain": [
       "Aves → features:   0%|          | 0/1000 [00:00<?, ?it/s]"
      ]
     },
     "metadata": {},
     "output_type": "display_data"
    },
    {
     "data": {
      "application/vnd.jupyter.widget-view+json": {
       "model_id": "",
       "version_major": 2,
       "version_minor": 0
      },
      "text/plain": [
       "Plantae → features:   0%|          | 0/1000 [00:00<?, ?it/s]"
      ]
     },
     "metadata": {},
     "output_type": "display_data"
    },
    {
     "data": {
      "application/vnd.jupyter.widget-view+json": {
       "model_id": "",
       "version_major": 2,
       "version_minor": 0
      },
      "text/plain": [
       "Mammalia → features:   0%|          | 0/1000 [00:00<?, ?it/s]"
      ]
     },
     "metadata": {},
     "output_type": "display_data"
    },
    {
     "data": {
      "application/vnd.jupyter.widget-view+json": {
       "model_id": "",
       "version_major": 2,
       "version_minor": 0
      },
      "text/plain": [
       "Fungi → features:   0%|          | 0/1000 [00:00<?, ?it/s]"
      ]
     },
     "metadata": {},
     "output_type": "display_data"
    },
    {
     "data": {
      "application/vnd.jupyter.widget-view+json": {
       "model_id": "",
       "version_major": 2,
       "version_minor": 0
      },
      "text/plain": [
       "Insecta → features:   0%|          | 0/1000 [00:00<?, ?it/s]"
      ]
     },
     "metadata": {},
     "output_type": "display_data"
    },
    {
     "data": {
      "application/vnd.jupyter.widget-view+json": {
       "model_id": "",
       "version_major": 2,
       "version_minor": 0
      },
      "text/plain": [
       "Amphibia → features:   0%|          | 0/578 [00:00<?, ?it/s]"
      ]
     },
     "metadata": {},
     "output_type": "display_data"
    },
    {
     "data": {
      "application/vnd.jupyter.widget-view+json": {
       "model_id": "",
       "version_major": 2,
       "version_minor": 0
      },
      "text/plain": [
       "Reptilia → features:   0%|          | 0/540 [00:00<?, ?it/s]"
      ]
     },
     "metadata": {},
     "output_type": "display_data"
    },
    {
     "name": "stdout",
     "output_type": "stream",
     "text": [
      "Features in time layer: 293\n",
      "⚠️ Hoppade över totalt 5825 obs (utanför buffert/utan data).\n"
     ]
    },
    {
     "data": {
      "application/vnd.jupyter.widget-view+json": {
       "model_id": "",
       "version_major": 2,
       "version_minor": 0
      },
      "text/plain": [
       "Aves → features:   0%|          | 0/1000 [00:00<?, ?it/s]"
      ]
     },
     "metadata": {},
     "output_type": "display_data"
    },
    {
     "data": {
      "application/vnd.jupyter.widget-view+json": {
       "model_id": "",
       "version_major": 2,
       "version_minor": 0
      },
      "text/plain": [
       "Plantae → features:   0%|          | 0/1000 [00:00<?, ?it/s]"
      ]
     },
     "metadata": {},
     "output_type": "display_data"
    },
    {
     "data": {
      "application/vnd.jupyter.widget-view+json": {
       "model_id": "",
       "version_major": 2,
       "version_minor": 0
      },
      "text/plain": [
       "Mammalia → features:   0%|          | 0/1000 [00:00<?, ?it/s]"
      ]
     },
     "metadata": {},
     "output_type": "display_data"
    },
    {
     "data": {
      "application/vnd.jupyter.widget-view+json": {
       "model_id": "",
       "version_major": 2,
       "version_minor": 0
      },
      "text/plain": [
       "Fungi → features:   0%|          | 0/1000 [00:00<?, ?it/s]"
      ]
     },
     "metadata": {},
     "output_type": "display_data"
    },
    {
     "data": {
      "application/vnd.jupyter.widget-view+json": {
       "model_id": "",
       "version_major": 2,
       "version_minor": 0
      },
      "text/plain": [
       "Insecta → features:   0%|          | 0/1000 [00:00<?, ?it/s]"
      ]
     },
     "metadata": {},
     "output_type": "display_data"
    },
    {
     "data": {
      "application/vnd.jupyter.widget-view+json": {
       "model_id": "",
       "version_major": 2,
       "version_minor": 0
      },
      "text/plain": [
       "Amphibia → features:   0%|          | 0/578 [00:00<?, ?it/s]"
      ]
     },
     "metadata": {},
     "output_type": "display_data"
    },
    {
     "data": {
      "application/vnd.jupyter.widget-view+json": {
       "model_id": "",
       "version_major": 2,
       "version_minor": 0
      },
      "text/plain": [
       "Reptilia → features:   0%|          | 0/540 [00:00<?, ?it/s]"
      ]
     },
     "metadata": {},
     "output_type": "display_data"
    },
    {
     "name": "stdout",
     "output_type": "stream",
     "text": [
      "✅ Sparade: inat_taxa_layers_colored.html\n"
     ]
    }
   ],
   "source": [
    "import json\n",
    "from datetime import date, timedelta\n",
    "from pathlib import Path\n",
    "\n",
    "from shapely.geometry import mapping, shape, LineString, MultiLineString, Polygon, MultiPolygon, Point\n",
    "from shapely.ops import unary_union\n",
    "\n",
    "import folium\n",
    "from folium.plugins import TimestampedGeoJson\n",
    "\n",
    "# ---- Progressbar (fallback) ----\n",
    "try:\n",
    "    from tqdm.auto import tqdm\n",
    "except ImportError:\n",
    "    def tqdm(x, **kwargs):\n",
    "        return x\n",
    "\n",
    "# ============ 0) Läs leden ============\n",
    "TRAIL_FILE = Path(\"SAT_full.geojson\")\n",
    "if not TRAIL_FILE.exists():\n",
    "    raise FileNotFoundError(\"Hittar inte SAT_full.geojson.\")\n",
    "\n",
    "with TRAIL_FILE.open(encoding=\"utf-8\") as f:\n",
    "    gj = json.load(f)\n",
    "\n",
    "lines = []\n",
    "for feat in gj.get(\"features\", []):\n",
    "    geom = shape(feat.get(\"geometry\"))\n",
    "    if isinstance(geom, LineString):\n",
    "        if len(geom.coords) >= 2:\n",
    "            lines.append(geom)\n",
    "    elif isinstance(geom, MultiLineString):\n",
    "        for seg in geom.geoms:\n",
    "            if len(seg.coords) >= 2:\n",
    "                lines.append(seg)\n",
    "\n",
    "if not lines:\n",
    "    raise ValueError(\"SAT_full.geojson innehåller inga linjesegment.\")\n",
    "\n",
    "trail = unary_union(lines)\n",
    "center_lat, center_lon = trail.centroid.y, trail.centroid.x\n",
    "\n",
    "\n",
    "# ============ 1) Buffert (≈2000 m) + bbox ============\n",
    "# Vid ~59–60°N motsvarar ~0.02° ungefär 2000 m\n",
    "BUFFER_DEG = 0.02\n",
    "search_geom = trail.buffer(BUFFER_DEG)\n",
    "if isinstance(search_geom, (Polygon, MultiPolygon)):\n",
    "    search_geom = search_geom.simplify(0.0002, preserve_topology=True)\n",
    "\n",
    "\n",
    "minx, miny, maxx, maxy = search_geom.bounds   # (lon_min, lat_min, lon_max, lat_max)\n",
    "swlng, swlat, nelng, nelat = minx, miny, maxx, maxy\n",
    "\n",
    "# ============ 2) Datumintervall ============\n",
    "# just yesterday → today\n",
    "d2 = date.today().isoformat()\n",
    "d1 = (date.today() - timedelta(days=4000)).isoformat()\n",
    "\n",
    "# ============ 3) Färger ============\n",
    "TAXON_COLORS = {\n",
    "    \"Plantae\":   \"#2b8a3e\",\n",
    "    \"Aves\":      \"#1d4ed8\",\n",
    "    \"Mammalia\":  \"#78350f\",\n",
    "    \"Reptilia\":  \"#059669\",\n",
    "    \"Amphibia\":  \"#14b8a6\",\n",
    "    \"Insecta\":   \"#eab308\",\n",
    "    \"Arachnida\": \"#7f1d1d\",\n",
    "    \"Mollusca\":  \"#9333ea\",\n",
    "    \"Animalia\":  \"#6b7280\",\n",
    "}\n",
    "\n",
    "# ============ 4) Helpers ============\n",
    "def obs_in_geom(o, geom) -> bool:\n",
    "    gj = o.get(\"geojson\")\n",
    "    if not (isinstance(gj, dict) and isinstance(gj.get(\"coordinates\"), (list, tuple)) and len(gj[\"coordinates\"]) >= 2):\n",
    "        return False\n",
    "    lon, lat = gj[\"coordinates\"][:2]\n",
    "    try:\n",
    "        return geom.contains(Point(lon, lat)) or geom.touches(Point(lon, lat))\n",
    "    except Exception:\n",
    "        return False\n",
    "\n",
    "def obs_to_feature(o, color=\"#3388ff\"):\n",
    "    gj = o.get(\"geojson\") or {}\n",
    "    if not (isinstance(gj.get(\"coordinates\"), (list, tuple)) and len(gj[\"coordinates\"]) >= 2):\n",
    "        return None\n",
    "    lon, lat = gj[\"coordinates\"][:2]\n",
    "\n",
    "    # Prefer full ISO time, else fall back to date\n",
    "    obs_time = o.get(\"time_observed_at\") or o.get(\"observed_on\") or o.get(\"created_at\")\n",
    "    if not obs_time:   # no timestamp → skip\n",
    "        return None\n",
    "    # normalize to date if it's longer than YYYY-MM-DD\n",
    "    if len(obs_time) > 10:\n",
    "        obs_time = obs_time[:10]\n",
    "\n",
    "    taxon = o.get(\"taxon\") or {}\n",
    "    cname = taxon.get(\"preferred_common_name\") or taxon.get(\"name\") or \"okänd\"\n",
    "    sname = taxon.get(\"name\") or \"\"\n",
    "    oid   = o.get(\"id\", \"\")\n",
    "    url   = f\"https://www.inaturalist.org/observations/{oid}\"\n",
    "    api   = f\"https://api.inaturalist.org/v1/observations/{oid}\"\n",
    "\n",
    "    img = \"\"\n",
    "    photos = o.get(\"photos\") or []\n",
    "    if photos:\n",
    "        raw = photos[0].get(\"url\", \"\")\n",
    "        if raw:\n",
    "            img = raw.replace(\"square\", \"medium\")\n",
    "\n",
    "    popup = f\"<b>{cname}</b><br><i>{sname}</i><br>{obs_time}<br>\"\n",
    "    if img:\n",
    "        popup += f\"<img src='{img}' width='220'><br>\"\n",
    "    popup += f\"<a href='{url}' target='_blank'>Visa i iNaturalist</a> · \"\n",
    "    popup += f\"<a href='{api}' target='_blank'>API JSON</a>\"\n",
    "\n",
    "    return {\n",
    "        \"type\": \"Feature\",\n",
    "        \"geometry\": {\"type\": \"Point\", \"coordinates\": [lon, lat]},\n",
    "        \"properties\": {\n",
    "            \"time\": obs_time,          # ← the slider reads this\n",
    "            \"popup\": popup,\n",
    "            \"icon\": \"circle\",\n",
    "            \"iconstyle\": {\"color\": color, \"fillColor\": color, \"fillOpacity\": 0.8}\n",
    "        }\n",
    "    }\n",
    "\n",
    "def to_fc(obs, color=\"#3388ff\", desc=None, radius=4, fill_opacity=0.6):\n",
    "    \"\"\"\n",
    "    Bygger ett FeatureCollection av observationer.\n",
    "    radius: pixelradie för punkter (CircleMarker m.m.)\n",
    "    fill_opacity: fyllnadsopacitet för punkter\n",
    "    \"\"\"\n",
    "    feats, bounds, skipped = [], [], 0\n",
    "    for o in tqdm(obs, desc=desc, leave=False):\n",
    "        if not obs_in_geom(o, search_geom):   # hårdklipp till 2000 m från leden\n",
    "            skipped += 1\n",
    "            continue\n",
    "\n",
    "        # Om din obs_to_feature kan ta emot extra stil-parametrar, låt dem gå in här:\n",
    "        try:\n",
    "            f = obs_to_feature(o, color=color, radius=radius, fill_opacity=fill_opacity)\n",
    "        except TypeError:\n",
    "            # Backoff om obs_to_feature inte har dessa argument\n",
    "            f = obs_to_feature(o, color)\n",
    "\n",
    "        if f:\n",
    "            # Säkerställ att radius m.m. finns i properties\n",
    "            props = f.setdefault(\"properties\", {})\n",
    "            props.setdefault(\"radius\", radius)\n",
    "            style = props.setdefault(\"style\", {})\n",
    "            style.setdefault(\"radius\", radius)\n",
    "            style.setdefault(\"color\", color)\n",
    "            style.setdefault(\"fillColor\", color)\n",
    "            style.setdefault(\"fillOpacity\", fill_opacity)\n",
    "\n",
    "            feats.append(f)\n",
    "            lon, lat = f[\"geometry\"][\"coordinates\"]\n",
    "            bounds.append((lat, lon))\n",
    "        else:\n",
    "            skipped += 1\n",
    "\n",
    "    return {\"type\": \"FeatureCollection\", \"features\": feats}, bounds, skipped\n",
    "\n",
    "        \n",
    "# ============ 5) Hämta observationer inom bbox (och klipp till buffert) ============\n",
    "animal_taxa = [\"Aves\",\"Mammalia\",\"Reptilia\",\"Amphibia\",\"Insecta\",\"Arachnida\",\"Mollusca\",\"Animalia\"]\n",
    "\n",
    "# Växter\n",
    "#plants = fetch_inat_all_parts(\n",
    "#    search_geom,                 # om din funktion använder geometri\n",
    "#    iconic_taxa=\"Plantae\",\n",
    "#    d1=d1, d2=d2,\n",
    "#    per_page=200, max_pages=5,\n",
    "#    show_progress=True,\n",
    "#    desc=\"Plantae\",\n",
    "#    swlat=swlat, swlng=swlng,    # iNat bbox-parametrar\n",
    "#    nelat=nelat, nelng=nelng\n",
    "#)\n",
    "\n",
    "#all_groups = {\n",
    "#    \"Aves\": fetch_inat_all_parts(\n",
    "#        search_geom,\n",
    "#        iconic_taxa=\"Aves\",\n",
    "#        d1=d1, d2=d2,\n",
    "#        per_page=200, max_pages=5,\n",
    "#        show_progress=True,\n",
    "#        desc=\"Birds\",\n",
    "#        swlat=swlat, swlng=swlng,\n",
    "#        nelat=nelat, nelng=nelng),\n",
    "#    \"Plantae\": fetch_inat_all_parts(\n",
    "#        search_geom,                 # om din funktion använder geometri\n",
    "#        iconic_taxa=\"Plantae\",\n",
    "#        d1=d1, d2=d2,\n",
    "#        per_page=200, max_pages=5,\n",
    "#        show_progress=True,\n",
    "#        desc=\"Plantae\",\n",
    "#        swlat=swlat, swlng=swlng,    # iNat bbox-parametrar\n",
    "#        nelat=nelat, nelng=nelng   \n",
    "#    )\n",
    "#}\n",
    "\n",
    "taxa_groups = [\n",
    "    (\"Aves\", \"Birds\"),\n",
    "    (\"Plantae\", \"Plants\"),\n",
    "    (\"Mammalia\", \"Mammals\"),\n",
    "    (\"Fungi\", \"Fungi\"),\n",
    "    (\"Insecta\", \"Insects\"),\n",
    "    (\"Amphibia\", \"Amphibians\"),\n",
    "    (\"Reptilia\", \"Reptiles\")\n",
    "]\n",
    "\n",
    "all_groups = {}\n",
    "\n",
    "for iconic_taxa, desc in taxa_groups:\n",
    "    all_groups[iconic_taxa] = fetch_inat_all_parts(\n",
    "        search_geom,\n",
    "        iconic_taxa=iconic_taxa,\n",
    "        d1=d1, d2=d2,\n",
    "        per_page=200, max_pages=5,\n",
    "        show_progress=True,\n",
    "        desc=desc,\n",
    "        swlat=swlat, swlng=swlng,\n",
    "        nelat=nelat, nelng=nelng\n",
    "    )\n",
    "\n",
    "\n",
    "# ============ 6) Bygg Folium-kartan ============\n",
    "m = folium.Map(location=[center_lat, center_lon], zoom_start=10, control_scale=True)\n",
    "\n",
    "# Leden\n",
    "folium.GeoJson(\n",
    "    mapping(trail),\n",
    "    name=\"SAT-led\",\n",
    "    style_function=lambda x: {\"color\": \"#1e40af\", \"weight\": 3}\n",
    ").add_to(m)\n",
    "\n",
    "# Bufferten (sökzonen)\n",
    "folium.GeoJson(\n",
    "    mapping(search_geom),\n",
    "    name=\"Sökzon (2000 m)\",\n",
    "    style_function=lambda x: {\"color\": \"#3388ff\", \"weight\": 1, \"fillOpacity\": 0.05}\n",
    ").add_to(m)\n",
    "\n",
    "# --- Samla alla features i ett enda tidslager ---\n",
    "all_bounds = []\n",
    "all_features = []\n",
    "total_skipped = 0\n",
    "\n",
    "for tx, obs in tqdm(all_groups.items(), desc=\"Bygger features\", total=len(all_groups)):\n",
    "    color = TAXON_COLORS.get(tx, \"#3388ff\")\n",
    "#    fc, bounds, skipped = to_fc(obs, color=color, desc=f\"{tx} → features\")\n",
    "    fc, bounds, skipped = to_fc(obs, color=color, desc=f\"{tx} → features\", radius=4)\n",
    "    all_features.extend(fc[\"features\"])\n",
    "    all_bounds.extend(bounds)\n",
    "    total_skipped += skipped\n",
    "\n",
    "# Bygg en enda FeatureCollection\n",
    "fc_all = {\"type\": \"FeatureCollection\", \"features\": all_features}\n",
    "\n",
    "# after building fc_all:\n",
    "n = len(fc_all[\"features\"])\n",
    "print(f\"Features in time layer: {n}\")\n",
    "if not n:\n",
    "    print(\"No features → widen date range, loosen buffer/bbox, or fetch one taxon with per_page=50, max_pages=1.\")\n",
    "\n",
    "\n",
    "# Lägg till ett gemensamt tidslager \n",
    "days_total = 3650   # ungefär 10 år\n",
    "total_ms = 10000    # 10 sek total\n",
    "transition_time = int(total_ms / days_total)  # ≈ 3 ms\n",
    "\n",
    "# 1) Timeline-lagret\n",
    "TimestampedGeoJson(\n",
    "    fc_all,\n",
    "    period=\"P1D\",        # ett steg = 1 dag\n",
    "    duration=\"P1Y\",      # punkten syns 1 år\n",
    "    auto_play=True,\n",
    "    loop=True,\n",
    "    transition_time=transition_time\n",
    ").add_to(m) \n",
    "#TimestampedGeoJson(\n",
    "#    fc_all,\n",
    "#    period=\"P1D\",\n",
    "#    duration=\"P365D\",\n",
    "#    add_last_point=True,\n",
    "#    auto_play=False,\n",
    "#    loop=True,\n",
    "#    max_speed=1,\n",
    "#    loop_button=True,\n",
    "#    date_options=\"YYYY-MM-DD\",\n",
    "#    time_slider_drag_update=True\n",
    "#).add_to(m)\n",
    "\n",
    "# 2) Statiskt lager (alla punkter)\n",
    "folium.GeoJson(\n",
    "    fc_all,\n",
    "    name=\"Alla observationer\",    # syns i layer control\n",
    "    marker=folium.CircleMarker(radius=3, color=\"black\", fill=True, fill_opacity=0.4)\n",
    ").add_to(m)\n",
    "\n",
    "# 3) Layer control\n",
    "folium.LayerControl(collapsed=False).add_to(m)\n",
    "\n",
    "\n",
    "if total_skipped:\n",
    "    tqdm.write(f\"⚠️ Hoppade över totalt {total_skipped} obs (utanför buffert/utan data).\")\n",
    "\n",
    "# --- Liten legend med antal per taxa ---\n",
    "from branca.element import MacroElement\n",
    "from jinja2 import Template\n",
    "\n",
    "# Räkna features per taxa (efter filtrering)\n",
    "taxon_counts = []\n",
    "for tx, obs in all_groups.items():\n",
    "    color = TAXON_COLORS.get(tx, \"#888\")\n",
    "    fc, _, _ = to_fc(obs, color=color, desc=f\"{tx} → features\", radius=4)  # använder samma filter (2000 m)\n",
    "    taxon_counts.append((tx, color, len(fc[\"features\"])))\n",
    "\n",
    "legend_html = \"\"\"\n",
    "{% macro html(this, kwargs) %}\n",
    "<div style=\"\n",
    "    position: fixed; bottom: 12px; left: 12px; z-index: 9999;\n",
    "    background: rgba(255,255,255,0.95); padding: 10px 12px;\n",
    "    border-radius: 10px; box-shadow: 0 2px 8px rgba(0,0,0,0.15);\n",
    "    font: 14px/1.3 system-ui, -apple-system, Segoe UI, Roboto, sans-serif;\">\n",
    "  <div style=\"font-weight:600; margin-bottom:6px;\">iNaturalist nära SAT (≤2000 m)</div>\n",
    "  {% for name, color, cnt in items %}\n",
    "    <div style=\"display:flex; align-items:center; gap:8px; margin:2px 0;\">\n",
    "      <span style=\"width:10px; height:10px; border-radius:50%; background: {{color}};\"></span>\n",
    "      <span>{{name}}</span>\n",
    "      <span style=\"margin-left:auto; color:#555;\">{{cnt}}</span>\n",
    "    </div>\n",
    "  {% endfor %}\n",
    "</div>\n",
    "{% endmacro %}\n",
    "\"\"\"\n",
    "\n",
    "legend_html = \"\"\"\n",
    "<div style=\"position: fixed; \n",
    "            bottom: 50px; right: 50px; width: 150px; \n",
    "            background: white; border:2px solid grey; z-index:9999; \n",
    "            font-size:14px; padding: 10px;\">\n",
    "<b>Taxa</b><br>\n",
    "<i style=\"color:#2b8a3e;\">●</i> Växter<br>\n",
    "<i style=\"color:#1d4ed8;\">●</i> Fåglar<br>\n",
    "<i style=\"color:#78350f;\">●</i> Däggdjur<br>\n",
    "<i style=\"color:#eab308;\">●</i> Insekter<br>\n",
    "<i style=\"color:#14b8a6;\">●</i> Groddjur<br>\n",
    "<i style=\"color:#059669;\">●</i> Kräldjur<br>\n",
    "<i style=\"color:#7f1d1d;\">●</i> Spindeldjur<br>\n",
    "<i style=\"color:#9333ea;\">●</i> Blötdjur<br></div>\n",
    "\"\"\"\n",
    "m.get_root().html.add_child(folium.Element(legend_html))\n",
    "\n",
    "    \n",
    "from branca.element import MacroElement\n",
    "from jinja2 import Template\n",
    "\n",
    "\n",
    "\n",
    "# Auto-zoom om vi har punkter\n",
    "if all_bounds:\n",
    "    m.fit_bounds(all_bounds)\n",
    "\n",
    "folium.LayerControl(collapsed=False).add_to(m)\n",
    "\n",
    "OUT = \"inat_taxa_layers_colored.html\"\n",
    "m.save(OUT)\n",
    "print(f\"✅ Sparade: {OUT}\")\n"
   ]
  },
  {
   "cell_type": "code",
   "execution_count": 5,
   "id": "a754cb4a-8f90-452f-a57d-4c3232fbfbd7",
   "metadata": {},
   "outputs": [
    {
     "data": {
      "application/vnd.jupyter.widget-view+json": {
       "model_id": "11b5c539374d4141b8a7af95f345465b",
       "version_major": 2,
       "version_minor": 0
      },
      "text/plain": [
       "Bygger features:   0%|          | 0/7 [00:00<?, ?it/s]"
      ]
     },
     "metadata": {},
     "output_type": "display_data"
    },
    {
     "data": {
      "application/vnd.jupyter.widget-view+json": {
       "model_id": "",
       "version_major": 2,
       "version_minor": 0
      },
      "text/plain": [
       "Aves → features:   0%|          | 0/1000 [00:00<?, ?it/s]"
      ]
     },
     "metadata": {},
     "output_type": "display_data"
    },
    {
     "data": {
      "application/vnd.jupyter.widget-view+json": {
       "model_id": "",
       "version_major": 2,
       "version_minor": 0
      },
      "text/plain": [
       "Plantae → features:   0%|          | 0/1000 [00:00<?, ?it/s]"
      ]
     },
     "metadata": {},
     "output_type": "display_data"
    },
    {
     "data": {
      "application/vnd.jupyter.widget-view+json": {
       "model_id": "",
       "version_major": 2,
       "version_minor": 0
      },
      "text/plain": [
       "Mammalia → features:   0%|          | 0/1000 [00:00<?, ?it/s]"
      ]
     },
     "metadata": {},
     "output_type": "display_data"
    },
    {
     "data": {
      "application/vnd.jupyter.widget-view+json": {
       "model_id": "",
       "version_major": 2,
       "version_minor": 0
      },
      "text/plain": [
       "Fungi → features:   0%|          | 0/1000 [00:00<?, ?it/s]"
      ]
     },
     "metadata": {},
     "output_type": "display_data"
    },
    {
     "data": {
      "application/vnd.jupyter.widget-view+json": {
       "model_id": "",
       "version_major": 2,
       "version_minor": 0
      },
      "text/plain": [
       "Insecta → features:   0%|          | 0/1000 [00:00<?, ?it/s]"
      ]
     },
     "metadata": {},
     "output_type": "display_data"
    },
    {
     "data": {
      "application/vnd.jupyter.widget-view+json": {
       "model_id": "",
       "version_major": 2,
       "version_minor": 0
      },
      "text/plain": [
       "Amphibia → features:   0%|          | 0/578 [00:00<?, ?it/s]"
      ]
     },
     "metadata": {},
     "output_type": "display_data"
    },
    {
     "data": {
      "application/vnd.jupyter.widget-view+json": {
       "model_id": "",
       "version_major": 2,
       "version_minor": 0
      },
      "text/plain": [
       "Reptilia → features:   0%|          | 0/540 [00:00<?, ?it/s]"
      ]
     },
     "metadata": {},
     "output_type": "display_data"
    },
    {
     "name": "stdout",
     "output_type": "stream",
     "text": [
      "Antal observationer per taxa (inom buffert):\n",
      "  Aves: 17\n",
      "  Plantae: 27\n",
      "  Mammalia: 37\n",
      "  Fungi: 105\n",
      "  Insecta: 21\n",
      "  Amphibia: 45\n",
      "  Reptilia: 41\n",
      "Totalt: 293\n",
      "Hoppade över totalt 5825\n"
     ]
    }
   ],
   "source": [
    "# --- Samla alla features + räkna per taxa ---\n",
    "all_bounds = []\n",
    "all_features = []\n",
    "taxon_counts = {}\n",
    "total_skipped = 0\n",
    "\n",
    "for tx, obs in tqdm(all_groups.items(), desc=\"Bygger features\", total=len(all_groups)):\n",
    "    color = TAXON_COLORS.get(tx, \"#3388ff\")\n",
    "    fc, bounds, skipped = to_fc(obs, color=color, desc=f\"{tx} → features\")\n",
    "    n = len(fc[\"features\"])\n",
    "    taxon_counts[tx] = n\n",
    "    all_features.extend(fc[\"features\"])\n",
    "    all_bounds.extend(bounds)\n",
    "    total_skipped += skipped\n",
    "\n",
    "# Summering\n",
    "print(\"Antal observationer per taxa (inom buffert):\")\n",
    "for tx, n in taxon_counts.items():\n",
    "    print(f\"  {tx}: {n}\")\n",
    "print(f\"Totalt: {sum(taxon_counts.values())}\")\n",
    "print(f\"Hoppade över totalt {total_skipped}\")\n"
   ]
  },
  {
   "cell_type": "code",
   "execution_count": 6,
   "id": "2d71f2ca-ad6d-405d-9e6e-1c4cf8c1b07d",
   "metadata": {},
   "outputs": [
    {
     "name": "stdout",
     "output_type": "stream",
     "text": [
      "GeoJSON saved to inat_taxa_layers_colored.html\n",
      "Finished in 1336.45 seconds.\n"
     ]
    }
   ],
   "source": [
    "end_time = time.time()\n",
    "duration = end_time - start_time\n",
    "print(f\"GeoJSON saved to {OUT}\")\n",
    "print(f\"Finished in {duration:.2f} seconds.\")\n"
   ]
  },
  {
   "cell_type": "code",
   "execution_count": 7,
   "id": "7e812d8d-5f68-4fd8-b54d-39b709e48b54",
   "metadata": {},
   "outputs": [],
   "source": [
    "# Arholma→Landsort (grovt exempel – justera om du vill)\n",
    "ARHOLMA_LANDSORT_BBOX = {\n",
    "    \"swlat\": 58.6,  \"swlng\": 17.3,   # sydväst (lat, lon)\n",
    "    \"nelat\": 60.3,  \"nelng\": 19.6,   # nordost (lat, lon)\n",
    "}\n",
    "# ... och skicka dessa värden i dina fetch_inat_all_parts(...) anrop\n"
   ]
  },
  {
   "cell_type": "code",
   "execution_count": null,
   "id": "96799a4d-e3fb-440e-8023-67f0dab9f81d",
   "metadata": {},
   "outputs": [],
   "source": []
  },
  {
   "cell_type": "code",
   "execution_count": null,
   "id": "25759cd3-0e92-4d93-940b-ad553d9068f7",
   "metadata": {},
   "outputs": [],
   "source": []
  }
 ],
 "metadata": {
  "kernelspec": {
   "display_name": "Python 3 (ipykernel)",
   "language": "python",
   "name": "python3"
  },
  "language_info": {
   "codemirror_mode": {
    "name": "ipython",
    "version": 3
   },
   "file_extension": ".py",
   "mimetype": "text/x-python",
   "name": "python",
   "nbconvert_exporter": "python",
   "pygments_lexer": "ipython3",
   "version": "3.12.2"
  }
 },
 "nbformat": 4,
 "nbformat_minor": 5
}
