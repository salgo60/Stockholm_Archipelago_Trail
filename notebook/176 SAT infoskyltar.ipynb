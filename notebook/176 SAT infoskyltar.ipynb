{
 "cells": [
  {
   "cell_type": "markdown",
   "id": "ebe22887-3894-4f33-b58f-ad56003bb2e2",
   "metadata": {},
   "source": [
    "### SAT infoskyltar \n",
    "* [Issue 175](https://github.com/salgo60/Stockholm_Archipelago_Trail/issues/176)"
   ]
  },
  {
   "cell_type": "code",
   "execution_count": null,
   "id": "b935ac4d-e95b-4238-aa8a-8d3f38203555",
   "metadata": {},
   "outputs": [],
   "source": []
  }
 ],
 "metadata": {
  "kernelspec": {
   "display_name": "Python 3 (ipykernel)",
   "language": "python",
   "name": "python3"
  },
  "language_info": {
   "codemirror_mode": {
    "name": "ipython",
    "version": 3
   },
   "file_extension": ".py",
   "mimetype": "text/x-python",
   "name": "python",
   "nbconvert_exporter": "python",
   "pygments_lexer": "ipython3",
   "version": "3.12.2"
  }
 },
 "nbformat": 4,
 "nbformat_minor": 5
}
